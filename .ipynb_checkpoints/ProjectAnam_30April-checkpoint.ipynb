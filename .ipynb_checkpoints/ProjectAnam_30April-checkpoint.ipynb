{
 "cells": [
  {
   "cell_type": "code",
   "execution_count": 1,
   "metadata": {},
   "outputs": [],
   "source": [
    "#RUN\n",
    "from pandas import DataFrame\n",
    "import pandas as pd\n",
    "import numpy as np"
   ]
  },
  {
   "cell_type": "code",
   "execution_count": 26,
   "metadata": {},
   "outputs": [],
   "source": [
    "#RUN\n",
    "try:\n",
    "    from urllib import urlencode\n",
    "except ImportError:\n",
    "    from urllib.parse import urlencode\n",
    "    \n",
    "from jsonapi_client import Session, Filter\n",
    "import pycurl\n",
    "\n",
    "API_BASE = 'https://www.ebi.ac.uk/metagenomics/api/latest/'"
   ]
  },
  {
   "cell_type": "code",
   "execution_count": 13,
   "metadata": {},
   "outputs": [],
   "source": [
    "#RUN\n",
    "# 'studies' bisa diganti dengan target semisal 'sample' ; 'MGYS00001939' merupakan accession\n",
    "with Session(API_BASE) as s:\n",
    "    std = s.get('studies', 'MGYS00000858').resource"
   ]
  },
  {
   "cell_type": "code",
   "execution_count": 14,
   "metadata": {},
   "outputs": [
    {
     "data": {
      "text/plain": [
       "<ResourceObject: studies: MGYS00000858 (2381021272944) (2381021272944)>"
      ]
     },
     "execution_count": 14,
     "metadata": {},
     "output_type": "execute_result"
    }
   ],
   "source": [
    "#RUN\n",
    "#memunculkan study_name\n",
    "std"
   ]
  },
  {
   "cell_type": "code",
   "execution_count": 15,
   "metadata": {},
   "outputs": [
    {
     "data": {
      "text/plain": [
       "7"
      ]
     },
     "execution_count": 15,
     "metadata": {},
     "output_type": "execute_result"
    }
   ],
   "source": [
    "#RUN\n",
    "#melihat jumlah sample pada study di atas\n",
    "std.samples_count"
   ]
  },
  {
   "cell_type": "code",
   "execution_count": null,
   "metadata": {
    "scrolled": true
   },
   "outputs": [],
   "source": [
    "#RUN/SKIP\n",
    "sample = std.samples\n",
    "#melihat informasi pada salah satu sample yang dipilih\n",
    "x=sample[0]\n",
    "x.sample_metadata"
   ]
  },
  {
   "cell_type": "code",
   "execution_count": null,
   "metadata": {},
   "outputs": [],
   "source": [
    "#SKIP\n",
    "def get_metadata(metadata, key):\n",
    "    import html\n",
    "    for m in metadata:\n",
    "        if m['key'].lower() == key.lower():\n",
    "            value = m['value']\n",
    "            unit = html.unescape(m['unit']) if m['unit'] else \"\"\n",
    "            return \"{value} {unit}\".format(value=value, unit=unit)\n",
    "    return None\n",
    "\n",
    "biome_label = 'environment (biome)'\n",
    "elev_label = 'elevation'\n",
    "df = DataFrame(columns=('Sample Name', 'Longitude', 'Latitude', 'Elevation', 'Biome', 'Country'))\n",
    "df.index.name = 'ID Sample'\n",
    "\n",
    "with Session(API_BASE) as s:\n",
    "    params = {\n",
    "        'study_accession': 'MGYS00003963',\n",
    "        'page_size': 100,\n",
    "    }\n",
    "    f = Filter(urlencode(params))\n",
    "    for sample in s.iterate('samples', f):\n",
    "        for a in sample.runs:\n",
    "        #print('runs: '+str(a.accession))\n",
    "            for b in a.analyses:\n",
    "                print('analyses: '+str(b.accession))\n",
    "        df.loc[sample.accession] = [\n",
    "            sample.sample_name,\n",
    "            sample.longitude,\n",
    "            sample.latitude,\n",
    "            get_metadata(sample.sample_metadata, elev_label),\n",
    "            get_metadata(sample.sample_metadata, biome_label),\n",
    "            sample.geo_loc_name\n",
    "        ]\n",
    "df"
   ]
  },
  {
   "cell_type": "code",
   "execution_count": 16,
   "metadata": {},
   "outputs": [
    {
     "name": "stdout",
     "output_type": "stream",
     "text": [
      "analyses: MGYA00070106\n",
      "analyses: MGYA00070102\n",
      "analyses: MGYA00070117\n",
      "analyses: MGYA00070079\n",
      "analyses: MGYA00070084\n",
      "analyses: MGYA00070114\n",
      "analyses: MGYA00070098\n",
      "analyses: MGYA00070108\n",
      "analyses: MGYA00070077\n",
      "analyses: MGYA00070109\n",
      "analyses: MGYA00070082\n",
      "analyses: MGYA00070095\n",
      "analyses: MGYA00070111\n",
      "analyses: MGYA00070112\n",
      "analyses: MGYA00070087\n",
      "analyses: MGYA00070097\n",
      "analyses: MGYA00070085\n",
      "analyses: MGYA00070090\n",
      "analyses: MGYA00070107\n",
      "analyses: MGYA00070103\n",
      "analyses: MGYA00070080\n",
      "analyses: MGYA00070089\n",
      "analyses: MGYA00070086\n",
      "analyses: MGYA00070110\n",
      "analyses: MGYA00070088\n",
      "analyses: MGYA00070078\n",
      "analyses: MGYA00070118\n",
      "analyses: MGYA00070091\n",
      "analyses: MGYA00070101\n",
      "analyses: MGYA00070115\n",
      "analyses: MGYA00070116\n",
      "analyses: MGYA00070100\n",
      "analyses: MGYA00070113\n",
      "analyses: MGYA00070105\n",
      "analyses: MGYA00070094\n",
      "analyses: MGYA00070104\n",
      "analyses: MGYA00070083\n",
      "analyses: MGYA00070093\n",
      "analyses: MGYA00070099\n",
      "analyses: MGYA00070081\n",
      "analyses: MGYA00070092\n",
      "analyses: MGYA00070096\n"
     ]
    }
   ],
   "source": [
    "#RUN\n",
    "def get_metadata(metadata, key):\n",
    "    import html\n",
    "    for m in metadata:\n",
    "        if m['key'].lower() == key.lower():\n",
    "            value = m['value']\n",
    "            unit = html.unescape(m['unit']) if m['unit'] else \"\"\n",
    "            return \"{value} {unit}\".format(value=value, unit=unit)\n",
    "    return None\n",
    "\n",
    "#biome_label = 'environment (biome)'\n",
    "#elev_label = 'elevation'\n",
    "#df = DataFrame(columns=('Sample Name', 'Longitude', 'Latitude', 'Elevation', 'Biome', 'Country'))\n",
    "#df.index.name = 'ID Sample'\n",
    "df = pd.DataFrame([])\n",
    "acc = []\n",
    "sample_name = []\n",
    "analyze = []\n",
    "\n",
    "with Session(API_BASE) as s:\n",
    "    params = {\n",
    "        'study_accession': 'MGYS00000858',\n",
    "        'page_size': 100,\n",
    "    }\n",
    "    f = Filter(urlencode(params))\n",
    "    for sample in s.iterate('samples', f):\n",
    "        acc.append(sample.accession)\n",
    "        sample_name.append(sample.sample_name)\n",
    "        for a in sample.runs:\n",
    "        #print('runs: '+str(a.accession))\n",
    "            for b in a.analyses:\n",
    "                print('analyses: '+str(b.accession))\n",
    "        analyze.append(b.accession)\n",
    "        meta = sample.sample_metadata\n",
    "        meta = pd.DataFrame.from_dict(meta)\n",
    "        meta = meta.set_index('key') \n",
    "        meta = meta.drop(columns='unit')\n",
    "        meta = meta.transpose()\n",
    "        df = df.append(meta)\n",
    "acc = pd.DataFrame(acc, columns=['ID_Sample'])\n",
    "sample_name = pd.DataFrame(sample_name, columns=['Sample Name'])\n",
    "analyze = pd.DataFrame(analyze, columns=['ID_Analyses'])"
   ]
  },
  {
   "cell_type": "code",
   "execution_count": 17,
   "metadata": {},
   "outputs": [
    {
     "data": {
      "text/html": [
       "<div>\n",
       "<style scoped>\n",
       "    .dataframe tbody tr th:only-of-type {\n",
       "        vertical-align: middle;\n",
       "    }\n",
       "\n",
       "    .dataframe tbody tr th {\n",
       "        vertical-align: top;\n",
       "    }\n",
       "\n",
       "    .dataframe thead th {\n",
       "        text-align: right;\n",
       "    }\n",
       "</style>\n",
       "<table border=\"1\" class=\"dataframe\">\n",
       "  <thead>\n",
       "    <tr style=\"text-align: right;\">\n",
       "      <th>key</th>\n",
       "      <th>investigation type</th>\n",
       "      <th>project name</th>\n",
       "      <th>geographic location (longitude)</th>\n",
       "      <th>geographic location (depth)</th>\n",
       "      <th>geographic location (country and/or sea,region)</th>\n",
       "      <th>collection date</th>\n",
       "      <th>environment (biome)</th>\n",
       "      <th>environment (feature)</th>\n",
       "      <th>environment (material)</th>\n",
       "      <th>environmental package</th>\n",
       "      <th>...</th>\n",
       "      <th>current land use</th>\n",
       "      <th>current vegetation</th>\n",
       "      <th>horizon</th>\n",
       "      <th>sample weight for DNA extraction</th>\n",
       "      <th>composite design/sieving (if any)</th>\n",
       "      <th>soil type</th>\n",
       "      <th>history/tillage</th>\n",
       "      <th>NCBI sample classification</th>\n",
       "      <th>instrument model</th>\n",
       "      <th>BioSampleModel</th>\n",
       "    </tr>\n",
       "  </thead>\n",
       "  <tbody>\n",
       "    <tr>\n",
       "      <th>value</th>\n",
       "      <td>metagenome</td>\n",
       "      <td>Monitoring bacterial community changes during ...</td>\n",
       "      <td>48.5031 11.4468</td>\n",
       "      <td>0.05 m</td>\n",
       "      <td>Scheyern, Germany</td>\n",
       "      <td>Nov-2009</td>\n",
       "      <td>leaf litter</td>\n",
       "      <td>arable soil</td>\n",
       "      <td>leaves</td>\n",
       "      <td>MIGS/MIMS/MIMARKS.soil</td>\n",
       "      <td>...</td>\n",
       "      <td>farming</td>\n",
       "      <td>Zea mays</td>\n",
       "      <td>B</td>\n",
       "      <td>0.5 g</td>\n",
       "      <td>2 mm</td>\n",
       "      <td>cambisol</td>\n",
       "      <td>disc plough</td>\n",
       "      <td>410658</td>\n",
       "      <td>454 GS FLX Titanium</td>\n",
       "      <td>MIMS.me,MIGS/MIMS/MIMARKS.soil</td>\n",
       "    </tr>\n",
       "    <tr>\n",
       "      <th>value</th>\n",
       "      <td>metagenome</td>\n",
       "      <td>Monitoring bacterial community changes during ...</td>\n",
       "      <td>48.5031 11.4468</td>\n",
       "      <td>0.05 m</td>\n",
       "      <td>Scheyern, Germany</td>\n",
       "      <td>Dec-2009</td>\n",
       "      <td>leaf litter</td>\n",
       "      <td>arable soil</td>\n",
       "      <td>leaves</td>\n",
       "      <td>MIGS/MIMS/MIMARKS.soil</td>\n",
       "      <td>...</td>\n",
       "      <td>farming</td>\n",
       "      <td>Zea mays</td>\n",
       "      <td>B</td>\n",
       "      <td>0.5 g</td>\n",
       "      <td>2 mm</td>\n",
       "      <td>cambisol</td>\n",
       "      <td>disc plough</td>\n",
       "      <td>410658</td>\n",
       "      <td>454 GS FLX Titanium</td>\n",
       "      <td>MIMS.me,MIGS/MIMS/MIMARKS.soil</td>\n",
       "    </tr>\n",
       "    <tr>\n",
       "      <th>value</th>\n",
       "      <td>metagenome</td>\n",
       "      <td>Monitoring bacterial community changes during ...</td>\n",
       "      <td>48.5031 11.4468</td>\n",
       "      <td>0.05 m</td>\n",
       "      <td>Scheyern, Germany</td>\n",
       "      <td>Oct-2009</td>\n",
       "      <td>leaf litter</td>\n",
       "      <td>arable soil</td>\n",
       "      <td>leaves</td>\n",
       "      <td>MIGS/MIMS/MIMARKS.soil</td>\n",
       "      <td>...</td>\n",
       "      <td>farming</td>\n",
       "      <td>Zea mays</td>\n",
       "      <td>B</td>\n",
       "      <td>0.5 g</td>\n",
       "      <td>2 mm</td>\n",
       "      <td>cambisol</td>\n",
       "      <td>disc plough</td>\n",
       "      <td>410658</td>\n",
       "      <td>454 GS FLX Titanium</td>\n",
       "      <td>MIMS.me,MIGS/MIMS/MIMARKS.soil</td>\n",
       "    </tr>\n",
       "    <tr>\n",
       "      <th>value</th>\n",
       "      <td>metagenome</td>\n",
       "      <td>Monitoring bacterial community changes during ...</td>\n",
       "      <td>48.5031 11.4468</td>\n",
       "      <td>0.00 m</td>\n",
       "      <td>Scheyern, Germany</td>\n",
       "      <td>Oct-2009</td>\n",
       "      <td>fresh leaves</td>\n",
       "      <td>arable soil</td>\n",
       "      <td>leaves</td>\n",
       "      <td>MIGS/MIMS/MIMARKS.soil</td>\n",
       "      <td>...</td>\n",
       "      <td>farming</td>\n",
       "      <td>Zea mays</td>\n",
       "      <td>B</td>\n",
       "      <td>0.5 g</td>\n",
       "      <td>2 mm</td>\n",
       "      <td>cambisol</td>\n",
       "      <td>disc plough</td>\n",
       "      <td>410658</td>\n",
       "      <td>454 GS FLX Titanium</td>\n",
       "      <td>MIMS.me,MIGS/MIMS/MIMARKS.soil</td>\n",
       "    </tr>\n",
       "    <tr>\n",
       "      <th>value</th>\n",
       "      <td>metagenome</td>\n",
       "      <td>Monitoring bacterial community changes during ...</td>\n",
       "      <td>48.5031 11.4468</td>\n",
       "      <td>0.40 m</td>\n",
       "      <td>Scheyern, Germany</td>\n",
       "      <td>Dec-2009</td>\n",
       "      <td>leaf litter</td>\n",
       "      <td>arable soil</td>\n",
       "      <td>leaves</td>\n",
       "      <td>MIGS/MIMS/MIMARKS.soil</td>\n",
       "      <td>...</td>\n",
       "      <td>farming</td>\n",
       "      <td>Zea mays</td>\n",
       "      <td>B</td>\n",
       "      <td>0.5 g</td>\n",
       "      <td>2 mm</td>\n",
       "      <td>cambisol</td>\n",
       "      <td>disc plough</td>\n",
       "      <td>410658</td>\n",
       "      <td>454 GS FLX Titanium</td>\n",
       "      <td>MIMS.me,MIGS/MIMS/MIMARKS.soil</td>\n",
       "    </tr>\n",
       "    <tr>\n",
       "      <th>value</th>\n",
       "      <td>metagenome</td>\n",
       "      <td>Monitoring bacterial community changes during ...</td>\n",
       "      <td>48.5031 11.4468</td>\n",
       "      <td>0.40 m</td>\n",
       "      <td>Scheyern, Germany</td>\n",
       "      <td>Nov-2009</td>\n",
       "      <td>leaf litter</td>\n",
       "      <td>arable soil</td>\n",
       "      <td>leaves</td>\n",
       "      <td>MIGS/MIMS/MIMARKS.soil</td>\n",
       "      <td>...</td>\n",
       "      <td>farming</td>\n",
       "      <td>Zea mays</td>\n",
       "      <td>B</td>\n",
       "      <td>0.5 g</td>\n",
       "      <td>2 mm</td>\n",
       "      <td>cambisol</td>\n",
       "      <td>disc plough</td>\n",
       "      <td>410658</td>\n",
       "      <td>454 GS FLX Titanium</td>\n",
       "      <td>MIMS.me,MIGS/MIMS/MIMARKS.soil</td>\n",
       "    </tr>\n",
       "    <tr>\n",
       "      <th>value</th>\n",
       "      <td>metagenome</td>\n",
       "      <td>Monitoring bacterial community changes during ...</td>\n",
       "      <td>48.5031 11.4468</td>\n",
       "      <td>0.40 m</td>\n",
       "      <td>Scheyern, Germany</td>\n",
       "      <td>Oct-2009</td>\n",
       "      <td>leaf litter</td>\n",
       "      <td>arable soil</td>\n",
       "      <td>leaves</td>\n",
       "      <td>MIGS/MIMS/MIMARKS.soil</td>\n",
       "      <td>...</td>\n",
       "      <td>farming</td>\n",
       "      <td>Zea mays</td>\n",
       "      <td>B</td>\n",
       "      <td>0.5 g</td>\n",
       "      <td>2 mm</td>\n",
       "      <td>cambisol</td>\n",
       "      <td>disc plough</td>\n",
       "      <td>410658</td>\n",
       "      <td>454 GS FLX Titanium</td>\n",
       "      <td>MIMS.me,MIGS/MIMS/MIMARKS.soil</td>\n",
       "    </tr>\n",
       "  </tbody>\n",
       "</table>\n",
       "<p>7 rows × 24 columns</p>\n",
       "</div>"
      ],
      "text/plain": [
       "key   investigation type                                       project name  \\\n",
       "value         metagenome  Monitoring bacterial community changes during ...   \n",
       "value         metagenome  Monitoring bacterial community changes during ...   \n",
       "value         metagenome  Monitoring bacterial community changes during ...   \n",
       "value         metagenome  Monitoring bacterial community changes during ...   \n",
       "value         metagenome  Monitoring bacterial community changes during ...   \n",
       "value         metagenome  Monitoring bacterial community changes during ...   \n",
       "value         metagenome  Monitoring bacterial community changes during ...   \n",
       "\n",
       "key   geographic location (longitude) geographic location (depth)  \\\n",
       "value                 48.5031 11.4468                      0.05 m   \n",
       "value                 48.5031 11.4468                      0.05 m   \n",
       "value                 48.5031 11.4468                      0.05 m   \n",
       "value                 48.5031 11.4468                      0.00 m   \n",
       "value                 48.5031 11.4468                      0.40 m   \n",
       "value                 48.5031 11.4468                      0.40 m   \n",
       "value                 48.5031 11.4468                      0.40 m   \n",
       "\n",
       "key   geographic location (country and/or sea,region) collection date  \\\n",
       "value                               Scheyern, Germany        Nov-2009   \n",
       "value                               Scheyern, Germany        Dec-2009   \n",
       "value                               Scheyern, Germany        Oct-2009   \n",
       "value                               Scheyern, Germany        Oct-2009   \n",
       "value                               Scheyern, Germany        Dec-2009   \n",
       "value                               Scheyern, Germany        Nov-2009   \n",
       "value                               Scheyern, Germany        Oct-2009   \n",
       "\n",
       "key   environment (biome) environment (feature) environment (material)  \\\n",
       "value         leaf litter           arable soil                 leaves   \n",
       "value         leaf litter           arable soil                 leaves   \n",
       "value         leaf litter           arable soil                 leaves   \n",
       "value        fresh leaves           arable soil                 leaves   \n",
       "value         leaf litter           arable soil                 leaves   \n",
       "value         leaf litter           arable soil                 leaves   \n",
       "value         leaf litter           arable soil                 leaves   \n",
       "\n",
       "key     environmental package               ...                \\\n",
       "value  MIGS/MIMS/MIMARKS.soil               ...                 \n",
       "value  MIGS/MIMS/MIMARKS.soil               ...                 \n",
       "value  MIGS/MIMS/MIMARKS.soil               ...                 \n",
       "value  MIGS/MIMS/MIMARKS.soil               ...                 \n",
       "value  MIGS/MIMS/MIMARKS.soil               ...                 \n",
       "value  MIGS/MIMS/MIMARKS.soil               ...                 \n",
       "value  MIGS/MIMS/MIMARKS.soil               ...                 \n",
       "\n",
       "key   current land use current vegetation horizon  \\\n",
       "value          farming           Zea mays       B   \n",
       "value          farming           Zea mays       B   \n",
       "value          farming           Zea mays       B   \n",
       "value          farming           Zea mays       B   \n",
       "value          farming           Zea mays       B   \n",
       "value          farming           Zea mays       B   \n",
       "value          farming           Zea mays       B   \n",
       "\n",
       "key   sample weight for DNA extraction composite design/sieving (if any)  \\\n",
       "value                            0.5 g                              2 mm   \n",
       "value                            0.5 g                              2 mm   \n",
       "value                            0.5 g                              2 mm   \n",
       "value                            0.5 g                              2 mm   \n",
       "value                            0.5 g                              2 mm   \n",
       "value                            0.5 g                              2 mm   \n",
       "value                            0.5 g                              2 mm   \n",
       "\n",
       "key   soil type history/tillage NCBI sample classification  \\\n",
       "value  cambisol     disc plough                     410658   \n",
       "value  cambisol     disc plough                     410658   \n",
       "value  cambisol     disc plough                     410658   \n",
       "value  cambisol     disc plough                     410658   \n",
       "value  cambisol     disc plough                     410658   \n",
       "value  cambisol     disc plough                     410658   \n",
       "value  cambisol     disc plough                     410658   \n",
       "\n",
       "key       instrument model                  BioSampleModel  \n",
       "value  454 GS FLX Titanium  MIMS.me,MIGS/MIMS/MIMARKS.soil  \n",
       "value  454 GS FLX Titanium  MIMS.me,MIGS/MIMS/MIMARKS.soil  \n",
       "value  454 GS FLX Titanium  MIMS.me,MIGS/MIMS/MIMARKS.soil  \n",
       "value  454 GS FLX Titanium  MIMS.me,MIGS/MIMS/MIMARKS.soil  \n",
       "value  454 GS FLX Titanium  MIMS.me,MIGS/MIMS/MIMARKS.soil  \n",
       "value  454 GS FLX Titanium  MIMS.me,MIGS/MIMS/MIMARKS.soil  \n",
       "value  454 GS FLX Titanium  MIMS.me,MIGS/MIMS/MIMARKS.soil  \n",
       "\n",
       "[7 rows x 24 columns]"
      ]
     },
     "execution_count": 17,
     "metadata": {},
     "output_type": "execute_result"
    }
   ],
   "source": [
    "df"
   ]
  },
  {
   "cell_type": "code",
   "execution_count": null,
   "metadata": {},
   "outputs": [],
   "source": [
    "#SKIP\n",
    "with Session(API_BASE) as s:\n",
    "    params = {\n",
    "        'study_accession': 'MGYS00003963',\n",
    "        'page_size': 100,\n",
    "    }\n",
    "    f = Filter(urlencode(params))\n",
    "    for sample in s.iterate('samples', f):\n",
    "        for a in sample.runs:\n",
    "        #print('runs: '+str(a.accession))\n",
    "            for b in a.analyses:\n",
    "                print('analyses: '+str(b.accession))"
   ]
  },
  {
   "cell_type": "code",
   "execution_count": null,
   "metadata": {},
   "outputs": [],
   "source": [
    "#RUN/SKIP\n",
    "#memunculkan list sample sesuai jumlah\n",
    "std.samples"
   ]
  },
  {
   "cell_type": "code",
   "execution_count": null,
   "metadata": {},
   "outputs": [],
   "source": [
    "#SKIP\n",
    "blank = []\n",
    "for x in sample:\n",
    "    #print(x.sample_metadata)\n",
    "    df = pd.DataFrame(x.sample_metadata)\n",
    "    df['key'].tolist()\n",
    "    print(df)\n",
    "    #df = pd.DataFrame(x.sample_metadata)\n",
    "    #print(df)\n",
    "    #index = np.where(df['key'].str.contains('location'))[0]\n",
    "    #blank.append(df.iloc[index, :])\n",
    "    #index = np.where(df['key'].str.contains('biome'))[0]\n",
    "    #blank.append(df.iloc[index, :])\n",
    "    #index = np.where(df['key'].str.contains('elevation'))[0]\n",
    "    #blank.append(df.iloc[index, :])\n",
    "    #df_new = pd.concat(blank)\n",
    "#df_new"
   ]
  },
  {
   "cell_type": "code",
   "execution_count": null,
   "metadata": {},
   "outputs": [],
   "source": [
    "#RUN\n",
    "with Session(API_BASE) as s:\n",
    "    std = s.get('studies', 'MGYS00000837').resource\n",
    "print(std.accession)\n",
    "#melihat informasi pada salah satu sample yang dipilih\n",
    "#sample = std.samples"
   ]
  },
  {
   "cell_type": "code",
   "execution_count": null,
   "metadata": {},
   "outputs": [],
   "source": [
    "#SKIP\n",
    "for x in sample:\n",
    "    print('sample: '+str(x.accession))\n",
    "    for a in x.runs:\n",
    "        #print('runs: '+str(a.accession))\n",
    "        for b in a.analyses:\n",
    "            print('analyses: '+str(b.accession))"
   ]
  },
  {
   "cell_type": "code",
   "execution_count": null,
   "metadata": {},
   "outputs": [],
   "source": [
    "#SKIP\n",
    "#membuat container kosong di bawah :\n",
    "df = pd.DataFrame([])\n",
    "acc = []\n",
    "sample_name = []\n",
    "analyze = []\n",
    "for x in sample:\n",
    "    acc.append(x.accession)\n",
    "    sample_name.append(x.sample_name)\n",
    "    for a in x.runs:\n",
    "        #print('runs: '+str(a.accession))\n",
    "        for b in a.analyses:\n",
    "            print('analyses: '+str(b.accession))\n",
    "    analyze.append(b.accession)\n",
    "    meta = x.sample_metadata\n",
    "    meta = pd.DataFrame.from_dict(meta)\n",
    "    meta = meta.set_index('key') \n",
    "    meta = meta.drop(columns='unit')\n",
    "    meta = meta.transpose()\n",
    "    df = df.append(meta)\n",
    "acc = pd.DataFrame(acc, columns=['ID_Sample'])\n",
    "sample_name = pd.DataFrame(sample_name, columns=['Sample Name'])\n",
    "analyze = pd.DataFrame(analyze, columns=['ID_Analyses'])"
   ]
  },
  {
   "cell_type": "code",
   "execution_count": null,
   "metadata": {},
   "outputs": [],
   "source": [
    "#RUN\n",
    "#reset index agar dapat di merge\n",
    "df = df.reset_index()\n",
    "df = df.drop(columns='index')\n",
    "#df = df.drop(columns='level_0')"
   ]
  },
  {
   "cell_type": "code",
   "execution_count": null,
   "metadata": {},
   "outputs": [],
   "source": [
    "#RUN\n",
    "#script merge\n",
    "merged = acc.merge(sample_name, left_index=True, right_index=True, how='inner')\n",
    "merged = merged.merge(analyze, left_index=True, right_index=True, how='inner')\n",
    "merged = merged.merge(df, left_index=True, right_index=True, how='inner')\n",
    "#df\n",
    "merged"
   ]
  },
  {
   "cell_type": "code",
   "execution_count": null,
   "metadata": {},
   "outputs": [],
   "source": [
    "#RUN SEKALI AJA\n",
    "#membuat folder\n",
    "from pathlib import Path\n",
    "import os\n",
    "_dir = os.getcwd()\n",
    "#_dir = 'D:\\\\Seminar\\\\Seminar_Anam'\n",
    "_dir = os.path.join(_dir, 'Study_Jagung')\n",
    "if not os.path.exists(_dir):\n",
    "    os.makedirs(_dir)\n",
    "print(_dir)"
   ]
  },
  {
   "cell_type": "code",
   "execution_count": null,
   "metadata": {},
   "outputs": [],
   "source": [
    "#RUN\n",
    "#masuk ke folder \"Study_Jagung\"\n",
    "%cd Study_Jagung\n",
    "#export ke .csv\n",
    "merged.to_csv(std.accession+'.csv')"
   ]
  },
  {
   "cell_type": "code",
   "execution_count": null,
   "metadata": {},
   "outputs": [],
   "source": [
    "#SKIP\n",
    "for x in sample:\n",
    "    #print('sample: '+str(i.accession))\n",
    "    for a in x.runs:\n",
    "        #print('runs: '+str(a.accession))\n",
    "        for b in a.analyses:\n",
    "            print('analyses: '+str(b.accession))"
   ]
  },
  {
   "cell_type": "code",
   "execution_count": null,
   "metadata": {},
   "outputs": [],
   "source": [
    "#SKIP\n",
    "#memasukkan sample yang dipilih ke bentuk kolom\n",
    "df = pd.DataFrame(sample[0].sample_metadata)\n",
    "df"
   ]
  },
  {
   "cell_type": "code",
   "execution_count": null,
   "metadata": {},
   "outputs": [],
   "source": [
    "#SKIP\n",
    "blank = []"
   ]
  },
  {
   "cell_type": "code",
   "execution_count": null,
   "metadata": {},
   "outputs": [],
   "source": [
    "#SKIP\n",
    "#membuat index baru dari list 'key' yang dipilih\n",
    "index = np.where(df['key'].str.contains('location'))[0]\n",
    "blank.append(df.iloc[index, :])\n",
    "index = np.where(df['key'].str.contains('biome'))[0]\n",
    "blank.append(df.iloc[index, :])\n",
    "index = np.where(df['key'].str.contains('elevation'))[0]\n",
    "blank.append(df.iloc[index, :])"
   ]
  },
  {
   "cell_type": "code",
   "execution_count": null,
   "metadata": {},
   "outputs": [],
   "source": [
    "#SKIP\n",
    "#'key' yang dilih dijadikan data frame baru\n",
    "df_new = pd.concat(blank)\n",
    "df_new"
   ]
  },
  {
   "cell_type": "code",
   "execution_count": null,
   "metadata": {},
   "outputs": [],
   "source": [
    "#SKIP\n",
    "filename_sample = '' "
   ]
  },
  {
   "cell_type": "code",
   "execution_count": null,
   "metadata": {},
   "outputs": [],
   "source": [
    "#SKIP\n",
    "#membuat loop accession di dalam bentuk list\n",
    "for x in sample:\n",
    "    #print('sample: '+str(i.accession))\n",
    "    for a in x.runs:\n",
    "        #print('runs: '+str(a.accession))\n",
    "        for b in a.analyses:\n",
    "            print('analyses: '+str(b.accession))\n",
    "            #for z in y.downloads:\n",
    "                #if 'json.biom' in z.url:\n",
    "                    #print(z.url)"
   ]
  },
  {
   "cell_type": "code",
   "execution_count": null,
   "metadata": {},
   "outputs": [],
   "source": [
    "#SKIP\n",
    "#membuat folder\n",
    "from pathlib import Path\n",
    "import os\n",
    "_dir = os.getcwd()\n",
    "#_dir = 'D:\\\\Seminar\\\\Seminar_Anam'\n",
    "_dir = os.path.join(_dir, 'Study_Jagung')\n",
    "if not os.path.exists(_dir):\n",
    "    os.makedirs(_dir)\n",
    "print(_dir)\n",
    "#%rmdir(Study+str)\n",
    "#with open('_dir'+i.accession+'.biom', 'wb') as f:\n",
    "    #c = pycurl.Curl()\n",
    "    #c.setopt(c.URL, z.url)\n",
    "    #c.setopt(c.WRITEDATA, f)\n",
    "    #c.perform()\n",
    "#c.close()"
   ]
  },
  {
   "cell_type": "code",
   "execution_count": 3,
   "metadata": {},
   "outputs": [],
   "source": [
    "import pandas as pd"
   ]
  },
  {
   "cell_type": "code",
   "execution_count": 4,
   "metadata": {},
   "outputs": [],
   "source": [
    "import os"
   ]
  },
  {
   "cell_type": "code",
   "execution_count": 6,
   "metadata": {},
   "outputs": [],
   "source": [
    "os.chdir('D:\\\\Seminar\\\\Seminar_Anam\\\\Analisis_Data')"
   ]
  },
  {
   "cell_type": "code",
   "execution_count": 8,
   "metadata": {},
   "outputs": [
    {
     "name": "stdout",
     "output_type": "stream",
     "text": [
      "D:\\Seminar\\Seminar_Anam\\Analisis_Data\n"
     ]
    }
   ],
   "source": [
    "print(os.getcwd())"
   ]
  },
  {
   "cell_type": "code",
   "execution_count": 21,
   "metadata": {},
   "outputs": [
    {
     "name": "stdout",
     "output_type": "stream",
     "text": [
      "['Sample_Jagung.csv', 'Sample_Jagung.xlsx', 'Sample_Padi.csv', 'Sample_Padi.xlsx']\n"
     ]
    }
   ],
   "source": [
    "#melihat list file di cwd\n",
    "print(os.listdir(os.getcwd()))"
   ]
  },
  {
   "cell_type": "code",
   "execution_count": 24,
   "metadata": {},
   "outputs": [],
   "source": [
    "#Open file .csv\n",
    "df = pd.read_csv('Sample_Jagung.csv')"
   ]
  },
  {
   "cell_type": "code",
   "execution_count": 44,
   "metadata": {},
   "outputs": [],
   "source": [
    "an = df['ID_Analyses']\n",
    "an\n",
    "an = an.astype('|S')"
   ]
  },
  {
   "cell_type": "code",
   "execution_count": 47,
   "metadata": {},
   "outputs": [],
   "source": [
    "API_BASE = 'https://www.ebi.ac.uk/metagenomics/api/v1/analyses'"
   ]
  },
  {
   "cell_type": "code",
   "execution_count": 49,
   "metadata": {},
   "outputs": [
    {
     "ename": "AttributeError",
     "evalue": "'bytes' object has no attribute 'analyses'",
     "output_type": "error",
     "traceback": [
      "\u001b[1;31m---------------------------------------------------------------------------\u001b[0m",
      "\u001b[1;31mAttributeError\u001b[0m                            Traceback (most recent call last)",
      "\u001b[1;32m<ipython-input-49-9e4b25a30e3d>\u001b[0m in \u001b[0;36m<module>\u001b[1;34m()\u001b[0m\n\u001b[0;32m      1\u001b[0m \u001b[1;32mwith\u001b[0m \u001b[0mSession\u001b[0m\u001b[1;33m(\u001b[0m\u001b[0mAPI_BASE\u001b[0m\u001b[1;33m)\u001b[0m \u001b[1;32mas\u001b[0m \u001b[0ms\u001b[0m\u001b[1;33m:\u001b[0m\u001b[1;33m\u001b[0m\u001b[0m\n\u001b[1;32m----> 2\u001b[1;33m     \u001b[1;32mfor\u001b[0m \u001b[0mb\u001b[0m \u001b[1;32min\u001b[0m \u001b[0ma\u001b[0m\u001b[1;33m.\u001b[0m\u001b[0manalyses\u001b[0m\u001b[1;33m:\u001b[0m\u001b[1;33m\u001b[0m\u001b[0m\n\u001b[0m\u001b[0;32m      3\u001b[0m         \u001b[1;32mfor\u001b[0m \u001b[0mc\u001b[0m \u001b[1;32min\u001b[0m \u001b[0mb\u001b[0m\u001b[1;33m.\u001b[0m\u001b[0mdownloads\u001b[0m\u001b[1;33m:\u001b[0m\u001b[1;33m\u001b[0m\u001b[0m\n\u001b[0;32m      4\u001b[0m             \u001b[1;32mif\u001b[0m \u001b[1;34m'json.biom'\u001b[0m \u001b[1;32min\u001b[0m \u001b[0mc\u001b[0m\u001b[1;33m.\u001b[0m\u001b[0murl\u001b[0m\u001b[1;33m:\u001b[0m\u001b[1;33m\u001b[0m\u001b[0m\n\u001b[0;32m      5\u001b[0m                 \u001b[0mprint\u001b[0m\u001b[1;33m(\u001b[0m\u001b[0mc\u001b[0m\u001b[1;33m.\u001b[0m\u001b[0murl\u001b[0m\u001b[1;33m)\u001b[0m\u001b[1;33m\u001b[0m\u001b[0m\n",
      "\u001b[1;31mAttributeError\u001b[0m: 'bytes' object has no attribute 'analyses'"
     ]
    }
   ],
   "source": [
    "with Session(API_BASE) as s:\n",
    "    for b in a.analyses:\n",
    "        for c in b.downloads:\n",
    "            if 'json.biom' in c.url:\n",
    "                print(c.url)"
   ]
  },
  {
   "cell_type": "code",
   "execution_count": null,
   "metadata": {},
   "outputs": [],
   "source": [
    "#membuat loop accession di dalam bentuk list\n",
    "for x in sample:\n",
    "    #print('sample: '+str(i.accession))\n",
    "    for a in x.runs:\n",
    "        #print('runs: '+str(a.accession))\n",
    "        for b in a.analyses:\n",
    "            print('analyses: '+str(b.accession))\n",
    "            #for z in y.downloads:\n",
    "                #if 'json.biom' in z.url:\n",
    "                    #print(z.url)"
   ]
  }
 ],
 "metadata": {
  "kernelspec": {
   "display_name": "Python 3",
   "language": "python",
   "name": "python3"
  },
  "language_info": {
   "codemirror_mode": {
    "name": "ipython",
    "version": 3
   },
   "file_extension": ".py",
   "mimetype": "text/x-python",
   "name": "python",
   "nbconvert_exporter": "python",
   "pygments_lexer": "ipython3",
   "version": "3.6.4"
  }
 },
 "nbformat": 4,
 "nbformat_minor": 2
}
