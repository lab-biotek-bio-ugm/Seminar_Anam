{
 "cells": [
  {
   "cell_type": "markdown",
   "metadata": {},
   "source": [
    "# _Data Mining_ dan Studi Komparatif Rhizobioma Pada (_Oryza sativa_) dan Jagung (_Zea mays_) dari Database EBI-MGnify\n",
    "\n",
    "_Mohamad Khoirul Anam_, _Ahmad Ardi_, _Fahrunnida_, and _Matin Nuhamunada_<sup>*</sup> \n",
    "\n",
    "Department of Tropical Biology, Universitas Gadjah Mada;   \n",
    "Jl. Teknika Selatan, Sekip Utara, Bulaksumur, Yogyakarta, Indonesia, 55281;   \n",
    "\n",
    "*Correspondence: [matin_nuhamunada@ugm.ac.id](mailto:matin_nuhamunada@mail.ugm.ac.id)  \n",
    "\n",
    "---\n",
    "## Abstract\n",
    "\n",
    "\n",
    "### Keywords\n",
    "\n"
   ]
  },
  {
   "cell_type": "markdown",
   "metadata": {},
   "source": [
    "## Import Python Modules\n",
    "We use python 3 script using Jupyter Notebook by utilising ``pandas``, ``jsonapi_client``, ``pycurl``, to mine the data from EBI-metagenomic portal using it's API [[1]](#ref1)."
   ]
  },
  {
   "cell_type": "code",
<<<<<<< HEAD
<<<<<<< HEAD
<<<<<<< HEAD
   "execution_count": 1,
=======
   "execution_count": 141,
>>>>>>> parent of e47316c... 20 April error
=======
   "execution_count": 141,
>>>>>>> parent of e47316c... 20 April error
=======
   "execution_count": 141,
>>>>>>> parent of e47316c... 20 April error
   "metadata": {},
   "outputs": [],
   "source": [
    "from pandas import DataFrame\n",
    "import pandas as pd\n",
    "import numpy as np"
   ]
  },
  {
   "cell_type": "code",
<<<<<<< HEAD
<<<<<<< HEAD
<<<<<<< HEAD
   "execution_count": 2,
=======
   "execution_count": 142,
>>>>>>> parent of e47316c... 20 April error
=======
   "execution_count": 142,
>>>>>>> parent of e47316c... 20 April error
=======
   "execution_count": 142,
>>>>>>> parent of e47316c... 20 April error
   "metadata": {},
   "outputs": [],
   "source": [
    "from jsonapi_client import Session, Filter\n",
    "import pycurl\n",
    "\n",
    "API_BASE = 'https://www.ebi.ac.uk/metagenomics/api/latest/'"
   ]
  },
  {
   "cell_type": "code",
<<<<<<< HEAD
<<<<<<< HEAD
<<<<<<< HEAD
   "execution_count": 3,
=======
   "execution_count": 143,
>>>>>>> parent of e47316c... 20 April error
=======
   "execution_count": 143,
>>>>>>> parent of e47316c... 20 April error
=======
   "execution_count": 143,
>>>>>>> parent of e47316c... 20 April error
   "metadata": {},
   "outputs": [],
   "source": [
    "import os, sys"
   ]
  },
  {
   "cell_type": "markdown",
   "metadata": {},
   "source": [
    "## Load Functions"
   ]
  },
  {
   "cell_type": "code",
<<<<<<< HEAD
<<<<<<< HEAD
<<<<<<< HEAD
   "execution_count": 4,
=======
   "execution_count": 144,
>>>>>>> parent of e47316c... 20 April error
=======
   "execution_count": 144,
>>>>>>> parent of e47316c... 20 April error
=======
   "execution_count": 144,
>>>>>>> parent of e47316c... 20 April error
   "metadata": {},
   "outputs": [],
   "source": [
    "# Updated\n",
    "def get_study(search, filename):\n",
    "    if not os.path.isfile(filename):\n",
    "        with open(filename, 'wb') as f:\n",
    "            c = pycurl.Curl()\n",
    "            c.setopt(c.URL, 'https://www.ebi.ac.uk/metagenomics/api/v1/studies?lineage=root&ordering=-last_update&search='+search+'&format=csv')\n",
    "            c.setopt(c.WRITEDATA, f)\n",
    "            c.perform()\n",
    "            c.close()\n",
    "    return filename"
   ]
  },
  {
   "cell_type": "markdown",
   "metadata": {},
   "source": [
    "## 1. Get List of Studies\n",
    "___\n",
    "We search the EBI MG-nify database to find study on O. sativa & Z. mays"
   ]
  },
  {
   "cell_type": "code",
<<<<<<< HEAD
<<<<<<< HEAD
<<<<<<< HEAD
   "execution_count": 5,
=======
   "execution_count": 145,
>>>>>>> parent of e47316c... 20 April error
=======
   "execution_count": 145,
>>>>>>> parent of e47316c... 20 April error
=======
   "execution_count": 145,
>>>>>>> parent of e47316c... 20 April error
   "metadata": {},
   "outputs": [],
   "source": [
    "search_term = ['paddy', 'rice', 'maize', 'zea+mays', 'corn']"
   ]
  },
  {
   "cell_type": "code",
<<<<<<< HEAD
<<<<<<< HEAD
<<<<<<< HEAD
   "execution_count": 6,
=======
   "execution_count": 146,
>>>>>>> parent of e47316c... 20 April error
=======
   "execution_count": 146,
>>>>>>> parent of e47316c... 20 April error
=======
   "execution_count": 146,
>>>>>>> parent of e47316c... 20 April error
   "metadata": {},
   "outputs": [],
   "source": [
    "#Search Study\n",
    "search_term = ['paddy', 'rice', 'maize', 'zea+mays', 'corn']\n",
    "for i in search_term:\n",
    "    file_study = '01_Study_'+i+'_raw.csv'\n",
    "    #Download study information\n",
    "    get_study(i, file_study)"
   ]
  },
  {
<<<<<<< HEAD
<<<<<<< HEAD
<<<<<<< HEAD
   "cell_type": "markdown",
   "metadata": {},
=======
=======
>>>>>>> parent of e47316c... 20 April error
=======
>>>>>>> parent of e47316c... 20 April error
   "cell_type": "code",
   "execution_count": 147,
   "metadata": {},
   "outputs": [
    {
     "name": "stdout",
     "output_type": "stream",
     "text": [
      "01_Study_paddy_raw.csv\n",
      "01_Study_rice_raw.csv\n"
     ]
    },
    {
     "data": {
      "text/html": [
       "<div>\n",
       "<style scoped>\n",
       "    .dataframe tbody tr th:only-of-type {\n",
       "        vertical-align: middle;\n",
       "    }\n",
       "\n",
       "    .dataframe tbody tr th {\n",
       "        vertical-align: top;\n",
       "    }\n",
       "\n",
       "    .dataframe thead th {\n",
       "        text-align: right;\n",
       "    }\n",
       "</style>\n",
       "<table border=\"1\" class=\"dataframe\">\n",
       "  <thead>\n",
       "    <tr style=\"text-align: right;\">\n",
       "      <th></th>\n",
       "      <th>biomes_x</th>\n",
       "      <th>samples_count_x</th>\n",
       "      <th>centre_name_x</th>\n",
       "      <th>study_name_x</th>\n",
       "      <th>study_abstract_x</th>\n",
       "      <th>last_update_x</th>\n",
       "      <th>accession</th>\n",
       "      <th>biomes_y</th>\n",
       "      <th>samples_count_y</th>\n",
       "      <th>centre_name_y</th>\n",
       "      <th>study_name_y</th>\n",
       "      <th>study_abstract_y</th>\n",
       "      <th>last_update_y</th>\n",
       "    </tr>\n",
       "  </thead>\n",
       "  <tbody>\n",
       "  </tbody>\n",
       "</table>\n",
       "</div>"
      ],
      "text/plain": [
       "Empty DataFrame\n",
       "Columns: [biomes_x, samples_count_x, centre_name_x, study_name_x, study_abstract_x, last_update_x, accession, biomes_y, samples_count_y, centre_name_y, study_name_y, study_abstract_y, last_update_y]\n",
       "Index: []"
      ]
     },
     "execution_count": 147,
     "metadata": {},
     "output_type": "execute_result"
    }
   ],
<<<<<<< HEAD
<<<<<<< HEAD
>>>>>>> parent of e47316c... 20 April error
=======
>>>>>>> parent of e47316c... 20 April error
=======
>>>>>>> parent of e47316c... 20 April error
   "source": [
    "df_rice = pd.DataFrame(columns=('accession','biomes','samples_count','centre_name','study_name','study_abstract','last_update'))\n",
    "\n",
    "for a in range(2):\n",
    "    file_study = '01_Study_'+search_term[a]+'_raw.csv'\n",
    "    print(file_study)\n",
    "    df = pd.read_csv(file_study)\n",
    "    df1 = pd.DataFrame(columns=('accession','biomes','samples_count','centre_name','study_name','study_abstract','last_update'))\n",
    "    for i in df1.columns:\n",
    "        df1[i] = df[i]\n",
    "    result = pd.merge(df_rice, df1, on='accession', how='left')\n",
    "result"
   ]
  },
  {
   "cell_type": "code",
<<<<<<< HEAD
<<<<<<< HEAD
<<<<<<< HEAD
   "execution_count": 7,
=======
   "execution_count": 150,
>>>>>>> parent of e47316c... 20 April error
=======
   "execution_count": 150,
>>>>>>> parent of e47316c... 20 April error
=======
   "execution_count": 150,
>>>>>>> parent of e47316c... 20 April error
   "metadata": {},
   "outputs": [
    {
     "data": {
      "text/plain": [
       "\"[OrderedDict([('type', 'biomes'), ('id', 'root:Environmental:Terrestrial:Soil:Loam:Agricultural'), ('links', {'self': 'https://www.ebi.ac.uk/metagenomics/api/v1/biomes/root:Environmental:Terrestrial:Soil:Loam:Agricultural?format=csv'})])]\""
      ]
     },
<<<<<<< HEAD
<<<<<<< HEAD
<<<<<<< HEAD
     "execution_count": 7,
=======
     "execution_count": 150,
>>>>>>> parent of e47316c... 20 April error
=======
     "execution_count": 150,
>>>>>>> parent of e47316c... 20 April error
=======
     "execution_count": 150,
>>>>>>> parent of e47316c... 20 April error
     "metadata": {},
     "output_type": "execute_result"
    }
   ],
   "source": [
    "#Load Study information\n",
    "df1 = pd.read_csv('01_Study_corn_raw.csv')\n",
    "#df1.sort_values(by='samples_count', ascending=False)\n",
    "df1.biomes[0]"
   ]
  },
  {
   "cell_type": "code",
<<<<<<< HEAD
<<<<<<< HEAD
<<<<<<< HEAD
   "execution_count": 8,
=======
   "execution_count": 110,
>>>>>>> parent of e47316c... 20 April error
=======
   "execution_count": 110,
>>>>>>> parent of e47316c... 20 April error
=======
   "execution_count": 110,
>>>>>>> parent of e47316c... 20 April error
   "metadata": {},
   "outputs": [
    {
     "data": {
      "text/html": [
       "<div>\n",
       "<style scoped>\n",
       "    .dataframe tbody tr th:only-of-type {\n",
       "        vertical-align: middle;\n",
       "    }\n",
       "\n",
       "    .dataframe tbody tr th {\n",
       "        vertical-align: top;\n",
       "    }\n",
       "\n",
       "    .dataframe thead th {\n",
       "        text-align: right;\n",
       "    }\n",
       "</style>\n",
       "<table border=\"1\" class=\"dataframe\">\n",
       "  <thead>\n",
       "    <tr style=\"text-align: right;\">\n",
       "      <th></th>\n",
       "      <th>accession</th>\n",
       "      <th>study_name</th>\n",
       "      <th>samples_count</th>\n",
       "      <th>centre_name</th>\n",
       "      <th>study_abstract</th>\n",
       "      <th>last_update</th>\n",
       "    </tr>\n",
       "  </thead>\n",
       "  <tbody>\n",
       "    <tr>\n",
       "      <th>0</th>\n",
<<<<<<< HEAD
<<<<<<< HEAD
<<<<<<< HEAD
       "      <td>MGYS00003963</td>\n",
       "      <td>Influence of tillage practices on soil microbi...</td>\n",
       "      <td>48</td>\n",
       "      <td>UCSDMI</td>\n",
       "      <td>It is well known that an intensive conventiona...</td>\n",
       "      <td>2019-03-26T16:11:31</td>\n",
       "    </tr>\n",
       "    <tr>\n",
       "      <th>1</th>\n",
       "      <td>MGYS00003717</td>\n",
       "      <td>Microbial community structure is affected by c...</td>\n",
       "      <td>186</td>\n",
       "      <td>University of Tennessee</td>\n",
       "      <td>Changes in soil bacterial community compositio...</td>\n",
       "      <td>2019-01-23T11:41:47</td>\n",
       "    </tr>\n",
       "    <tr>\n",
       "      <th>2</th>\n",
       "      <td>MGYS00002068</td>\n",
       "      <td>EMG produced TPA metagenomics assembly of the ...</td>\n",
       "      <td>1</td>\n",
       "      <td>EMG</td>\n",
       "      <td>The 402460 Third Party Annotation (TPA) assemb...</td>\n",
       "      <td>2017-11-27T11:40:06</td>\n",
       "    </tr>\n",
       "    <tr>\n",
       "      <th>3</th>\n",
       "      <td>MGYS00002048</td>\n",
       "      <td>EMG produced TPA metagenomics assembly of the ...</td>\n",
       "      <td>1</td>\n",
       "      <td>EMG</td>\n",
       "      <td>The 402463 Third Party Annotation (TPA) assemb...</td>\n",
       "      <td>2017-11-24T16:45:56</td>\n",
       "    </tr>\n",
       "    <tr>\n",
       "      <th>4</th>\n",
       "      <td>MGYS00001679</td>\n",
       "      <td>Genetic determinants of the gut microbiome in ...</td>\n",
       "      <td>3288</td>\n",
       "      <td>CORNELL</td>\n",
       "      <td>Recent genetic studies in mice and humans have...</td>\n",
       "      <td>2017-04-06T11:26:58</td>\n",
=======
=======
>>>>>>> parent of e47316c... 20 April error
=======
>>>>>>> parent of e47316c... 20 April error
       "      <td>MGYS00003734</td>\n",
       "      <td>Potato rhizosphere Metagenome</td>\n",
       "      <td>44</td>\n",
       "      <td>BioProject</td>\n",
       "      <td>The goal is to study the diversity of potato-a...</td>\n",
       "      <td>2019-02-18T11:10:31</td>\n",
       "    </tr>\n",
       "    <tr>\n",
       "      <th>1</th>\n",
       "      <td>MGYS00002779</td>\n",
       "      <td>Rhizobiome of Northeastern Atlantic seagrasses</td>\n",
       "      <td>9</td>\n",
       "      <td>BioProject</td>\n",
       "      <td>This project aimed at revealing the microbial ...</td>\n",
       "      <td>2018-09-03T15:22:41</td>\n",
       "    </tr>\n",
       "    <tr>\n",
       "      <th>2</th>\n",
       "      <td>MGYS00002393</td>\n",
       "      <td>Temporal dynamics of bacterial and fungal comm...</td>\n",
       "      <td>138</td>\n",
       "      <td>INRA (INRA Rennes)</td>\n",
       "      <td>This study was conducted to assess the tempora...</td>\n",
       "      <td>2018-06-08T08:55:13</td>\n",
       "    </tr>\n",
       "    <tr>\n",
       "      <th>3</th>\n",
       "      <td>MGYS00002342</td>\n",
       "      <td>Genome-wide association study of Medicago trun...</td>\n",
       "      <td>558</td>\n",
       "      <td>INRA (INRA Rennes)</td>\n",
       "      <td>Coming Soon</td>\n",
       "      <td>2018-04-18T12:34:56</td>\n",
       "    </tr>\n",
       "    <tr>\n",
       "      <th>4</th>\n",
       "      <td>MGYS00002341</td>\n",
       "      <td>Exploring the native habitat and wild relative...</td>\n",
       "      <td>30</td>\n",
       "      <td>NIOO KNAW</td>\n",
       "      <td>The rhizosphere microbiome is important for pl...</td>\n",
       "      <td>2018-04-18T09:33:44</td>\n",
<<<<<<< HEAD
<<<<<<< HEAD
>>>>>>> parent of e47316c... 20 April error
=======
>>>>>>> parent of e47316c... 20 April error
=======
>>>>>>> parent of e47316c... 20 April error
       "    </tr>\n",
       "  </tbody>\n",
       "</table>\n",
       "</div>"
      ],
      "text/plain": [
       "      accession                                         study_name  \\\n",
<<<<<<< HEAD
<<<<<<< HEAD
<<<<<<< HEAD
       "0  MGYS00003963  Influence of tillage practices on soil microbi...   \n",
       "1  MGYS00003717  Microbial community structure is affected by c...   \n",
       "2  MGYS00002068  EMG produced TPA metagenomics assembly of the ...   \n",
       "3  MGYS00002048  EMG produced TPA metagenomics assembly of the ...   \n",
       "4  MGYS00001679  Genetic determinants of the gut microbiome in ...   \n",
       "\n",
       "   samples_count              centre_name  \\\n",
       "0             48                   UCSDMI   \n",
       "1            186  University of Tennessee   \n",
       "2              1                      EMG   \n",
       "3              1                      EMG   \n",
       "4           3288                  CORNELL   \n",
       "\n",
       "                                      study_abstract          last_update  \n",
       "0  It is well known that an intensive conventiona...  2019-03-26T16:11:31  \n",
       "1  Changes in soil bacterial community compositio...  2019-01-23T11:41:47  \n",
       "2  The 402460 Third Party Annotation (TPA) assemb...  2017-11-27T11:40:06  \n",
       "3  The 402463 Third Party Annotation (TPA) assemb...  2017-11-24T16:45:56  \n",
       "4  Recent genetic studies in mice and humans have...  2017-04-06T11:26:58  "
      ]
     },
     "execution_count": 8,
=======
=======
>>>>>>> parent of e47316c... 20 April error
=======
>>>>>>> parent of e47316c... 20 April error
       "0  MGYS00003734                      Potato rhizosphere Metagenome   \n",
       "1  MGYS00002779     Rhizobiome of Northeastern Atlantic seagrasses   \n",
       "2  MGYS00002393  Temporal dynamics of bacterial and fungal comm...   \n",
       "3  MGYS00002342  Genome-wide association study of Medicago trun...   \n",
       "4  MGYS00002341  Exploring the native habitat and wild relative...   \n",
       "\n",
       "   samples_count         centre_name  \\\n",
       "0             44          BioProject   \n",
       "1              9          BioProject   \n",
       "2            138  INRA (INRA Rennes)   \n",
       "3            558  INRA (INRA Rennes)   \n",
       "4             30           NIOO KNAW   \n",
       "\n",
       "                                      study_abstract          last_update  \n",
       "0  The goal is to study the diversity of potato-a...  2019-02-18T11:10:31  \n",
       "1  This project aimed at revealing the microbial ...  2018-09-03T15:22:41  \n",
       "2  This study was conducted to assess the tempora...  2018-06-08T08:55:13  \n",
       "3                                        Coming Soon  2018-04-18T12:34:56  \n",
       "4  The rhizosphere microbiome is important for pl...  2018-04-18T09:33:44  "
      ]
     },
     "execution_count": 110,
<<<<<<< HEAD
<<<<<<< HEAD
>>>>>>> parent of e47316c... 20 April error
=======
>>>>>>> parent of e47316c... 20 April error
=======
>>>>>>> parent of e47316c... 20 April error
     "metadata": {},
     "output_type": "execute_result"
    }
   ],
   "source": [
    "#Select relevant information\n",
    "df_study = df1[[\"accession\", \"study_name\",\"samples_count\",\"centre_name\", \"study_abstract\", \"last_update\"]]\n",
    "df_study.head()"
   ]
  },
  {
   "cell_type": "code",
<<<<<<< HEAD
<<<<<<< HEAD
<<<<<<< HEAD
   "execution_count": 9,
=======
   "execution_count": 136,
>>>>>>> parent of e47316c... 20 April error
=======
   "execution_count": 136,
>>>>>>> parent of e47316c... 20 April error
=======
   "execution_count": 136,
>>>>>>> parent of e47316c... 20 April error
   "metadata": {},
   "outputs": [
    {
     "data": {
      "text/html": [
       "<div>\n",
       "<style scoped>\n",
       "    .dataframe tbody tr th:only-of-type {\n",
       "        vertical-align: middle;\n",
       "    }\n",
       "\n",
       "    .dataframe tbody tr th {\n",
       "        vertical-align: top;\n",
       "    }\n",
       "\n",
       "    .dataframe thead th {\n",
       "        text-align: right;\n",
       "    }\n",
       "</style>\n",
       "<table border=\"1\" class=\"dataframe\">\n",
       "  <thead>\n",
       "    <tr style=\"text-align: right;\">\n",
       "      <th></th>\n",
       "      <th>accession</th>\n",
       "      <th>study_name</th>\n",
       "      <th>samples_count</th>\n",
       "      <th>centre_name</th>\n",
       "      <th>study_abstract</th>\n",
       "      <th>last_update</th>\n",
       "    </tr>\n",
       "  </thead>\n",
       "  <tbody>\n",
       "    <tr>\n",
<<<<<<< HEAD
<<<<<<< HEAD
<<<<<<< HEAD
       "      <th>0</th>\n",
       "      <td>MGYS00003963</td>\n",
       "      <td>Influence of tillage practices on soil microbi...</td>\n",
       "      <td>48</td>\n",
       "      <td>UCSDMI</td>\n",
       "      <td>It is well known that an intensive conventiona...</td>\n",
       "      <td>2019-03-26T16:11:31</td>\n",
=======
=======
>>>>>>> parent of e47316c... 20 April error
=======
>>>>>>> parent of e47316c... 20 April error
       "      <th>7</th>\n",
       "      <td>MGYS00001939</td>\n",
       "      <td>Metatranscriptome analysis of maize rhizospher...</td>\n",
       "      <td>12</td>\n",
       "      <td>HASSELT UNIVERSITY</td>\n",
       "      <td>Metatranscriptome analysis of maize rhizospher...</td>\n",
       "      <td>2017-09-08T10:45:09</td>\n",
<<<<<<< HEAD
<<<<<<< HEAD
>>>>>>> parent of e47316c... 20 April error
=======
>>>>>>> parent of e47316c... 20 April error
=======
>>>>>>> parent of e47316c... 20 April error
       "    </tr>\n",
       "  </tbody>\n",
       "</table>\n",
       "</div>"
      ],
      "text/plain": [
       "      accession                                         study_name  \\\n",
<<<<<<< HEAD
<<<<<<< HEAD
<<<<<<< HEAD
       "0  MGYS00003963  Influence of tillage practices on soil microbi...   \n",
       "\n",
       "   samples_count centre_name  \\\n",
       "0             48      UCSDMI   \n",
       "\n",
       "                                      study_abstract          last_update  \n",
       "0  It is well known that an intensive conventiona...  2019-03-26T16:11:31  "
      ]
     },
     "execution_count": 9,
=======
=======
>>>>>>> parent of e47316c... 20 April error
=======
>>>>>>> parent of e47316c... 20 April error
       "7  MGYS00001939  Metatranscriptome analysis of maize rhizospher...   \n",
       "\n",
       "   samples_count         centre_name  \\\n",
       "7             12  HASSELT UNIVERSITY   \n",
       "\n",
       "                                      study_abstract          last_update  \n",
       "7  Metatranscriptome analysis of maize rhizospher...  2017-09-08T10:45:09  "
      ]
     },
     "execution_count": 136,
<<<<<<< HEAD
<<<<<<< HEAD
>>>>>>> parent of e47316c... 20 April error
=======
>>>>>>> parent of e47316c... 20 April error
=======
>>>>>>> parent of e47316c... 20 April error
     "metadata": {},
     "output_type": "execute_result"
    }
   ],
   "source": [
    "df_study[df_study.study_abstract.str.contains('maize', regex=False)]"
   ]
  },
  {
   "cell_type": "code",
<<<<<<< HEAD
<<<<<<< HEAD
<<<<<<< HEAD
   "execution_count": 10,
=======
   "execution_count": 137,
>>>>>>> parent of e47316c... 20 April error
=======
   "execution_count": 137,
>>>>>>> parent of e47316c... 20 April error
=======
   "execution_count": 137,
>>>>>>> parent of e47316c... 20 April error
   "metadata": {},
   "outputs": [
    {
     "data": {
      "text/html": [
       "<div>\n",
       "<style scoped>\n",
       "    .dataframe tbody tr th:only-of-type {\n",
       "        vertical-align: middle;\n",
       "    }\n",
       "\n",
       "    .dataframe tbody tr th {\n",
       "        vertical-align: top;\n",
       "    }\n",
       "\n",
       "    .dataframe thead th {\n",
       "        text-align: right;\n",
       "    }\n",
       "</style>\n",
       "<table border=\"1\" class=\"dataframe\">\n",
       "  <thead>\n",
       "    <tr style=\"text-align: right;\">\n",
       "      <th></th>\n",
       "      <th>accession</th>\n",
       "      <th>study_name</th>\n",
       "      <th>samples_count</th>\n",
       "      <th>centre_name</th>\n",
       "      <th>study_abstract</th>\n",
       "      <th>last_update</th>\n",
       "    </tr>\n",
       "  </thead>\n",
       "  <tbody>\n",
       "    <tr>\n",
<<<<<<< HEAD
<<<<<<< HEAD
<<<<<<< HEAD
       "      <th>0</th>\n",
       "      <td>MGYS00003963</td>\n",
       "      <td>Influence of tillage practices on soil microbi...</td>\n",
       "      <td>48</td>\n",
       "      <td>UCSDMI</td>\n",
       "      <td>It is well known that an intensive conventiona...</td>\n",
       "      <td>2019-03-26T16:11:31</td>\n",
=======
=======
>>>>>>> parent of e47316c... 20 April error
=======
>>>>>>> parent of e47316c... 20 April error
       "      <th>7</th>\n",
       "      <td>MGYS00001939</td>\n",
       "      <td>Metatranscriptome analysis of maize rhizospher...</td>\n",
       "      <td>12</td>\n",
       "      <td>HASSELT UNIVERSITY</td>\n",
       "      <td>Metatranscriptome analysis of maize rhizospher...</td>\n",
       "      <td>2017-09-08T10:45:09</td>\n",
       "    </tr>\n",
       "    <tr>\n",
       "      <th>34</th>\n",
       "      <td>MGYS00001108</td>\n",
       "      <td>Effect of phytostimulatory seed-inoculant Azos...</td>\n",
       "      <td>1</td>\n",
       "      <td>UMR5557</td>\n",
       "      <td>The field trials were run in 2015 in Chatonnay...</td>\n",
       "      <td>2016-06-22T11:55:11</td>\n",
       "    </tr>\n",
       "    <tr>\n",
       "      <th>35</th>\n",
       "      <td>MGYS00001103</td>\n",
       "      <td>Effect of phytostimulatory seed-inoculant Azos...</td>\n",
       "      <td>1</td>\n",
       "      <td>UMR5557</td>\n",
       "      <td>The field trials were run in 2015 in Chatonnay...</td>\n",
       "      <td>2016-06-21T16:13:45</td>\n",
       "    </tr>\n",
       "    <tr>\n",
       "      <th>36</th>\n",
       "      <td>MGYS00001102</td>\n",
       "      <td>Effect of phytostimulatory seed-inoculant Azos...</td>\n",
       "      <td>1</td>\n",
       "      <td>UMR5557</td>\n",
       "      <td>The field trials were run in 2015 in Chatonnay...</td>\n",
       "      <td>2016-06-21T16:13:39</td>\n",
<<<<<<< HEAD
<<<<<<< HEAD
>>>>>>> parent of e47316c... 20 April error
=======
>>>>>>> parent of e47316c... 20 April error
=======
>>>>>>> parent of e47316c... 20 April error
       "    </tr>\n",
       "  </tbody>\n",
       "</table>\n",
       "</div>"
      ],
      "text/plain": [
<<<<<<< HEAD
<<<<<<< HEAD
<<<<<<< HEAD
       "      accession                                         study_name  \\\n",
       "0  MGYS00003963  Influence of tillage practices on soil microbi...   \n",
       "\n",
       "   samples_count centre_name  \\\n",
       "0             48      UCSDMI   \n",
       "\n",
       "                                      study_abstract          last_update  \n",
       "0  It is well known that an intensive conventiona...  2019-03-26T16:11:31  "
      ]
     },
     "execution_count": 10,
=======
=======
>>>>>>> parent of e47316c... 20 April error
=======
>>>>>>> parent of e47316c... 20 April error
       "       accession                                         study_name  \\\n",
       "7   MGYS00001939  Metatranscriptome analysis of maize rhizospher...   \n",
       "34  MGYS00001108  Effect of phytostimulatory seed-inoculant Azos...   \n",
       "35  MGYS00001103  Effect of phytostimulatory seed-inoculant Azos...   \n",
       "36  MGYS00001102  Effect of phytostimulatory seed-inoculant Azos...   \n",
       "\n",
       "    samples_count         centre_name  \\\n",
       "7              12  HASSELT UNIVERSITY   \n",
       "34              1             UMR5557   \n",
       "35              1             UMR5557   \n",
       "36              1             UMR5557   \n",
       "\n",
       "                                       study_abstract          last_update  \n",
       "7   Metatranscriptome analysis of maize rhizospher...  2017-09-08T10:45:09  \n",
       "34  The field trials were run in 2015 in Chatonnay...  2016-06-22T11:55:11  \n",
       "35  The field trials were run in 2015 in Chatonnay...  2016-06-21T16:13:45  \n",
       "36  The field trials were run in 2015 in Chatonnay...  2016-06-21T16:13:39  "
      ]
     },
     "execution_count": 137,
<<<<<<< HEAD
<<<<<<< HEAD
>>>>>>> parent of e47316c... 20 April error
=======
>>>>>>> parent of e47316c... 20 April error
=======
>>>>>>> parent of e47316c... 20 April error
     "metadata": {},
     "output_type": "execute_result"
    }
   ],
   "source": [
    "df_study[df_study.study_name.str.contains('maize', regex=False)]"
   ]
  },
  {
   "cell_type": "code",
<<<<<<< HEAD
<<<<<<< HEAD
<<<<<<< HEAD
   "execution_count": 11,
=======
   "execution_count": 138,
>>>>>>> parent of e47316c... 20 April error
=======
   "execution_count": 138,
>>>>>>> parent of e47316c... 20 April error
=======
   "execution_count": 138,
>>>>>>> parent of e47316c... 20 April error
   "metadata": {},
   "outputs": [
    {
     "data": {
      "text/html": [
       "<div>\n",
       "<style scoped>\n",
       "    .dataframe tbody tr th:only-of-type {\n",
       "        vertical-align: middle;\n",
       "    }\n",
       "\n",
       "    .dataframe tbody tr th {\n",
       "        vertical-align: top;\n",
       "    }\n",
       "\n",
       "    .dataframe thead th {\n",
       "        text-align: right;\n",
       "    }\n",
       "</style>\n",
       "<table border=\"1\" class=\"dataframe\">\n",
       "  <thead>\n",
       "    <tr style=\"text-align: right;\">\n",
       "      <th></th>\n",
       "      <th>accession</th>\n",
       "      <th>study_name</th>\n",
       "      <th>samples_count</th>\n",
       "      <th>centre_name</th>\n",
       "      <th>study_abstract</th>\n",
       "      <th>last_update</th>\n",
       "    </tr>\n",
       "  </thead>\n",
       "  <tbody>\n",
<<<<<<< HEAD
<<<<<<< HEAD
<<<<<<< HEAD
=======
=======
>>>>>>> parent of e47316c... 20 April error
=======
>>>>>>> parent of e47316c... 20 April error
       "    <tr>\n",
       "      <th>16</th>\n",
       "      <td>MGYS00001377</td>\n",
       "      <td>The first report of arbuscular mycorrhizal fun...</td>\n",
       "      <td>22</td>\n",
       "      <td>AUCKLAND UNIVERSITY</td>\n",
       "      <td>Arbuscular mycorrhizal fungi (AMF) are compone...</td>\n",
       "      <td>2017-01-05T13:42:20</td>\n",
       "    </tr>\n",
       "    <tr>\n",
       "      <th>39</th>\n",
       "      <td>MGYS00001016</td>\n",
       "      <td>Soil sample</td>\n",
       "      <td>1</td>\n",
       "      <td>BioProject</td>\n",
       "      <td>A field study was conducted to compare bacteri...</td>\n",
       "      <td>2016-06-06T14:05:31</td>\n",
       "    </tr>\n",
<<<<<<< HEAD
<<<<<<< HEAD
>>>>>>> parent of e47316c... 20 April error
=======
>>>>>>> parent of e47316c... 20 April error
=======
>>>>>>> parent of e47316c... 20 April error
       "  </tbody>\n",
       "</table>\n",
       "</div>"
      ],
      "text/plain": [
<<<<<<< HEAD
<<<<<<< HEAD
<<<<<<< HEAD
       "Empty DataFrame\n",
       "Columns: [accession, study_name, samples_count, centre_name, study_abstract, last_update]\n",
       "Index: []"
      ]
     },
     "execution_count": 11,
=======
=======
>>>>>>> parent of e47316c... 20 April error
=======
>>>>>>> parent of e47316c... 20 April error
       "       accession                                         study_name  \\\n",
       "16  MGYS00001377  The first report of arbuscular mycorrhizal fun...   \n",
       "39  MGYS00001016                                        Soil sample   \n",
       "\n",
       "    samples_count          centre_name  \\\n",
       "16             22  AUCKLAND UNIVERSITY   \n",
       "39              1           BioProject   \n",
       "\n",
       "                                       study_abstract          last_update  \n",
       "16  Arbuscular mycorrhizal fungi (AMF) are compone...  2017-01-05T13:42:20  \n",
       "39  A field study was conducted to compare bacteri...  2016-06-06T14:05:31  "
      ]
     },
     "execution_count": 138,
<<<<<<< HEAD
<<<<<<< HEAD
>>>>>>> parent of e47316c... 20 April error
=======
>>>>>>> parent of e47316c... 20 April error
=======
>>>>>>> parent of e47316c... 20 April error
     "metadata": {},
     "output_type": "execute_result"
    }
   ],
   "source": [
    "df_study[df_study.study_abstract.str.contains('rice', regex=False)]"
   ]
  },
  {
   "cell_type": "code",
   "execution_count": 141,
   "metadata": {},
   "outputs": [
    {
     "data": {
      "text/html": [
       "<div>\n",
       "<style scoped>\n",
       "    .dataframe tbody tr th:only-of-type {\n",
       "        vertical-align: middle;\n",
       "    }\n",
       "\n",
       "    .dataframe tbody tr th {\n",
       "        vertical-align: top;\n",
       "    }\n",
       "\n",
       "    .dataframe thead th {\n",
       "        text-align: right;\n",
       "    }\n",
       "</style>\n",
       "<table border=\"1\" class=\"dataframe\">\n",
       "  <thead>\n",
       "    <tr style=\"text-align: right;\">\n",
       "      <th></th>\n",
       "      <th>accession</th>\n",
       "      <th>study_name</th>\n",
       "      <th>samples_count</th>\n",
       "      <th>centre_name</th>\n",
       "      <th>study_abstract</th>\n",
       "      <th>last_update</th>\n",
       "    </tr>\n",
       "  </thead>\n",
       "  <tbody>\n",
       "    <tr>\n",
       "      <th>55</th>\n",
       "      <td>MGYS00000878</td>\n",
       "      <td>paddy soil Genome sequencing</td>\n",
       "      <td>1</td>\n",
       "      <td>BioProject</td>\n",
       "      <td>Paddy soil Genome sequencing</td>\n",
       "      <td>2016-05-10T16:41:53</td>\n",
       "    </tr>\n",
       "  </tbody>\n",
       "</table>\n",
       "</div>"
      ],
      "text/plain": [
       "       accession                    study_name  samples_count centre_name  \\\n",
       "55  MGYS00000878  paddy soil Genome sequencing              1  BioProject   \n",
       "\n",
       "                  study_abstract          last_update  \n",
       "55  Paddy soil Genome sequencing  2016-05-10T16:41:53  "
      ]
     },
     "execution_count": 141,
     "metadata": {},
     "output_type": "execute_result"
    }
   ],
   "source": [
    "df_study[df_study.study_name.str.contains('paddy', regex=False)]"
   ]
  },
  {
   "cell_type": "code",
<<<<<<< HEAD
<<<<<<< HEAD
<<<<<<< HEAD
   "execution_count": 12,
=======
   "execution_count": 170,
>>>>>>> parent of e47316c... 20 April error
=======
   "execution_count": 170,
>>>>>>> parent of e47316c... 20 April error
=======
   "execution_count": 170,
>>>>>>> parent of e47316c... 20 April error
   "metadata": {},
   "outputs": [],
   "source": [
    "with Session(API_BASE) as s:\n",
    "    std = s.get('studies', 'MGYS00002115').resource"
   ]
  },
  {
   "cell_type": "code",
<<<<<<< HEAD
<<<<<<< HEAD
<<<<<<< HEAD
   "execution_count": 13,
=======
   "execution_count": 190,
>>>>>>> parent of e47316c... 20 April error
=======
   "execution_count": 190,
>>>>>>> parent of e47316c... 20 April error
=======
   "execution_count": 190,
>>>>>>> parent of e47316c... 20 April error
   "metadata": {},
   "outputs": [
    {
     "name": "stdout",
     "output_type": "stream",
     "text": [
      "The study includes fungal genetic diversity assessment by ITS-1 next generation sequencing (NGS) analyses. The main the main experimental objects are soils of different classes, quality groups and also subjected to various agrotechnical treatments\n"
     ]
    },
    {
     "data": {
      "text/plain": [
       "'Direct sowing - Flowering'"
      ]
     },
<<<<<<< HEAD
<<<<<<< HEAD
<<<<<<< HEAD
     "execution_count": 13,
=======
     "execution_count": 190,
>>>>>>> parent of e47316c... 20 April error
=======
     "execution_count": 190,
>>>>>>> parent of e47316c... 20 April error
=======
     "execution_count": 190,
>>>>>>> parent of e47316c... 20 April error
     "metadata": {},
     "output_type": "execute_result"
    }
   ],
   "source": [
    "print(std.study_name)\n",
    "sample = std.samples\n",
    "x=sample[4]\n",
    "x.sample_desc"
   ]
  },
  {
   "cell_type": "code",
<<<<<<< HEAD
<<<<<<< HEAD
<<<<<<< HEAD
   "execution_count": 14,
=======
   "execution_count": 191,
>>>>>>> parent of e47316c... 20 April error
=======
   "execution_count": 191,
>>>>>>> parent of e47316c... 20 April error
=======
   "execution_count": 191,
>>>>>>> parent of e47316c... 20 April error
   "metadata": {},
   "outputs": [
    {
     "data": {
      "text/plain": [
       "'ERS2075824'"
      ]
     },
<<<<<<< HEAD
<<<<<<< HEAD
<<<<<<< HEAD
     "execution_count": 14,
=======
     "execution_count": 191,
>>>>>>> parent of e47316c... 20 April error
=======
     "execution_count": 191,
>>>>>>> parent of e47316c... 20 April error
=======
     "execution_count": 191,
>>>>>>> parent of e47316c... 20 April error
     "metadata": {},
     "output_type": "execute_result"
    }
   ],
   "source": [
    "x.accession"
   ]
  },
  {
   "cell_type": "code",
   "execution_count": 52,
   "metadata": {},
   "outputs": [],
   "source": [
    "#Export study data\n",
    "#df_study_biome.to_csv('02_Study_'+term+'+'+biome+'+'+lineage+'_filtered.csv')"
   ]
  },
  {
   "cell_type": "markdown",
   "metadata": {},
   "source": [
<<<<<<< HEAD
<<<<<<< HEAD
<<<<<<< HEAD
    "## 2. Choose relevant studies"
=======
    "## 2. Choose relevant studies\n",
    "___\n",
    "Our search using the keyterm \"skin\" on Human host-associated biome found 7 hits of studies. Of this studies, we tried to select comparable sample of human skin microbiome to get more understanding of human microbiome profile from different studies."
>>>>>>> parent of e47316c... 20 April error
=======
    "## 2. Choose relevant studies\n",
    "___\n",
    "Our search using the keyterm \"skin\" on Human host-associated biome found 7 hits of studies. Of this studies, we tried to select comparable sample of human skin microbiome to get more understanding of human microbiome profile from different studies."
>>>>>>> parent of e47316c... 20 April error
=======
    "## 2. Choose relevant studies\n",
    "___\n",
    "Our search using the keyterm \"skin\" on Human host-associated biome found 7 hits of studies. Of this studies, we tried to select comparable sample of human skin microbiome to get more understanding of human microbiome profile from different studies."
>>>>>>> parent of e47316c... 20 April error
   ]
  },
  {
   "cell_type": "markdown",
   "metadata": {},
   "source": [
<<<<<<< HEAD
<<<<<<< HEAD
<<<<<<< HEAD
    "### 2.1. MGYS00001108: Effect of phytostimulatory seed-inoculant Azospirillum lipoferum CRT1 on total bacterial comminity (rrs) in the maize rhizosphere\n",
    "#### 2.1.1 Get list of sample for the given study and its metadata\n",
    "\n",
    "Get study: https://www.ebi.ac.uk/metagenomics/api/latest/studies/MGYS00001108  \n",
    "List samples: https://www.ebi.ac.uk/metagenomics/api/latest/studies/MGYS00001108/samples  \n",
    "Fetch samples for the given study accession: https://www.ebi.ac.uk/metagenomics/api/latest/samples?study_accession=MGYS00001108  "
=======
=======
>>>>>>> parent of e47316c... 20 April error
=======
>>>>>>> parent of e47316c... 20 April error
    "### 2.1. SRP002480: Gene-Environment Interactions at the Skin Surface\n",
    "#### 2.1.1 Get list of sample for the given study and its metadata\n",
    "\n",
    "Get study: https://www.ebi.ac.uk/metagenomics/api/latest/studies/SRP002480  \n",
    "List samples: https://www.ebi.ac.uk/metagenomics/api/latest/studies/SRP002480/samples  \n",
    "Fetch samples for the given study accession: https://www.ebi.ac.uk/metagenomics/api/latest/samples?study_accession=SRP002480  "
<<<<<<< HEAD
<<<<<<< HEAD
>>>>>>> parent of e47316c... 20 April error
=======
>>>>>>> parent of e47316c... 20 April error
=======
>>>>>>> parent of e47316c... 20 April error
   ]
  },
  {
   "cell_type": "code",
<<<<<<< HEAD
<<<<<<< HEAD
<<<<<<< HEAD
   "execution_count": 15,
=======
   "execution_count": 33,
>>>>>>> parent of e47316c... 20 April error
=======
   "execution_count": 33,
>>>>>>> parent of e47316c... 20 April error
=======
   "execution_count": 33,
>>>>>>> parent of e47316c... 20 April error
   "metadata": {},
   "outputs": [],
   "source": [
    "#Selected study\n",
<<<<<<< HEAD
<<<<<<< HEAD
<<<<<<< HEAD
    "study = 'MGYS00001108'"
   ]
  },
  {
   "cell_type": "code",
   "execution_count": 16,
   "metadata": {},
   "outputs": [],
   "source": [
    "with Session(API_BASE) as s:\n",
    "    std = s.get('studies', study).resource"
=======
    "study = 'SRP002480'"
>>>>>>> parent of e47316c... 20 April error
=======
    "study = 'SRP002480'"
>>>>>>> parent of e47316c... 20 April error
=======
    "study = 'SRP002480'"
>>>>>>> parent of e47316c... 20 April error
   ]
  },
  {
   "cell_type": "code",
<<<<<<< HEAD
<<<<<<< HEAD
<<<<<<< HEAD
   "execution_count": 17,
=======
   "execution_count": 34,
>>>>>>> parent of e47316c... 20 April error
=======
   "execution_count": 34,
>>>>>>> parent of e47316c... 20 April error
=======
   "execution_count": 34,
>>>>>>> parent of e47316c... 20 April error
   "metadata": {},
   "outputs": [
    {
     "name": "stdout",
     "output_type": "stream",
     "text": [
<<<<<<< HEAD
<<<<<<< HEAD
<<<<<<< HEAD
      "The field trials were run in 2015 in Chatonnay (site P), Cessieu (site BV) and Saint Savin (site FV), which are located in the vicinity of Bourgoin-Jallieu (Isère, France). Maize seeds were inoculated or not by a suspension of  Azospirillum lipoferum CRT1 cells. DNA was extracted from root-adhering soil and nifH gene diversity was sequenced  using 515/806 targeting V4 variable region by Illumina Miseq (2 × 125 bp). Samples 261 to 265 correspond to site BV non-inoculated (NI) formulation F1. Samples 286 to 290 correspond to BV inoculated (I) formulation F1. Samples 311 to 315 correspond to FV-NI-F1. Samples 331 to 335 correspond to FV-I-F1 Samples 351 to 355 correspond to P-NI-F1. Samples 371 to 375 correspond to P-I-F1. Samples 271 to 275 correspond to site BV non-inoculated (NI) formulation F2. Samples 296 to 300 correspond to BV inoculated (I) formulation F2. Samples 321 to 325 correspond to FV-NI-F2. Samples 341 to 345 correspond to FV-I-F2 Samples 361 to 365 correspond to P-NI-F2. Samples 381 to 385 correspond to P-I-F2.\n"
=======
      "03_sample_SRP002480_raw.csv\n"
>>>>>>> parent of e47316c... 20 April error
=======
      "03_sample_SRP002480_raw.csv\n"
>>>>>>> parent of e47316c... 20 April error
=======
      "03_sample_SRP002480_raw.csv\n"
>>>>>>> parent of e47316c... 20 April error
     ]
    }
   ],
   "source": [
<<<<<<< HEAD
<<<<<<< HEAD
<<<<<<< HEAD
    "print(std.study_abstract)"
=======
=======
>>>>>>> parent of e47316c... 20 April error
=======
>>>>>>> parent of e47316c... 20 April error
    "#Fetch a list of sample data from a given study\n",
    "filename_sample = '03_sample_'+study+'_raw.csv'\n",
    "print(filename_sample)\n",
    "if not os.path.isfile(filename_sample):\n",
    "    with open(filename_sample, 'wb') as f:\n",
    "        c = pycurl.Curl()\n",
    "        c.setopt(c.URL, 'https://www.ebi.ac.uk/metagenomics/projects/'+study+'/overview/doExport')\n",
    "        c.setopt(c.WRITEDATA, f)\n",
    "        c.perform()\n",
    "        c.close()"
<<<<<<< HEAD
<<<<<<< HEAD
>>>>>>> parent of e47316c... 20 April error
=======
>>>>>>> parent of e47316c... 20 April error
=======
>>>>>>> parent of e47316c... 20 April error
   ]
  },
  {
   "cell_type": "code",
<<<<<<< HEAD
<<<<<<< HEAD
<<<<<<< HEAD
   "execution_count": 18,
   "metadata": {},
   "outputs": [
    {
     "name": "stdout",
     "output_type": "stream",
     "text": [
      "Jumlah sampel: 1\n",
      "https://www.ebi.ac.uk/metagenomics/api/v1/analyses/MGYA00064216/file/ERR1447833_MERGED_FASTQ_otu_table_json.biom\n"
     ]
    }
   ],
   "source": [
    "print('Jumlah sampel: '+ str(std.samples_count))\n",
    "for i in std.samples:\n",
    "    for r in i.runs:\n",
    "        for a in r.analyses:\n",
    "            for d in a.downloads:\n",
    "                if 'json.biom' in d.url:\n",
    "                    print(d.url)"
=======
=======
>>>>>>> parent of e47316c... 20 April error
=======
>>>>>>> parent of e47316c... 20 April error
   "execution_count": 35,
   "metadata": {},
   "outputs": [],
   "source": [
    "#Filter relevant information from the list\n",
    "df_sample = pd.read_csv(filename_sample)\n",
    "df_sample_refine = df_sample[[\"Sample ID\",\"Run ID\",\"Release version\"]]"
   ]
  },
  {
   "cell_type": "code",
   "execution_count": 45,
   "metadata": {},
   "outputs": [
    {
     "data": {
      "text/plain": [
       "[{'key': 'sex', 'unit': None, 'value': 'male'},\n",
       " {'key': 'body site', 'unit': None, 'value': 'antecubital crease'},\n",
       " {'key': 'NCBI sample classification', 'unit': None, 'value': '646099'},\n",
       " {'key': 'instrument model', 'unit': None, 'value': '454 GS FLX Titanium'}]"
      ]
     },
     "execution_count": 45,
     "metadata": {},
     "output_type": "execute_result"
    }
   ],
   "source": [
    "#check available metadata key\n",
    "with Session(API_BASE) as s:\n",
    "    s_meta = s.get('samples', df_sample_refine.loc[0, \"Sample ID\"]).resource\n",
    "s_meta.sample_metadata"
<<<<<<< HEAD
<<<<<<< HEAD
>>>>>>> parent of e47316c... 20 April error
=======
>>>>>>> parent of e47316c... 20 April error
=======
>>>>>>> parent of e47316c... 20 April error
   ]
  },
  {
   "cell_type": "code",
<<<<<<< HEAD
<<<<<<< HEAD
<<<<<<< HEAD
   "execution_count": 20,
   "metadata": {},
   "outputs": [
    {
     "ename": "NameError",
     "evalue": "name 'df_sample_refine' is not defined",
     "output_type": "error",
     "traceback": [
      "\u001b[1;31m---------------------------------------------------------------------------\u001b[0m",
      "\u001b[1;31mNameError\u001b[0m                                 Traceback (most recent call last)",
      "\u001b[1;32m<ipython-input-20-0a50be139880>\u001b[0m in \u001b[0;36m<module>\u001b[1;34m()\u001b[0m\n\u001b[0;32m      7\u001b[0m \u001b[1;33m\u001b[0m\u001b[0m\n\u001b[0;32m      8\u001b[0m \u001b[1;31m#Fetch metadata for given sample\u001b[0m\u001b[1;33m\u001b[0m\u001b[1;33m\u001b[0m\u001b[0m\n\u001b[1;32m----> 9\u001b[1;33m \u001b[0mpbar\u001b[0m \u001b[1;33m=\u001b[0m \u001b[0mrange\u001b[0m\u001b[1;33m(\u001b[0m\u001b[0mlen\u001b[0m\u001b[1;33m(\u001b[0m\u001b[0mdf_sample_refine\u001b[0m\u001b[1;33m)\u001b[0m\u001b[1;33m)\u001b[0m \u001b[1;31m#to make progressbar\u001b[0m\u001b[1;33m\u001b[0m\u001b[0m\n\u001b[0m\u001b[0;32m     10\u001b[0m \u001b[1;32mfor\u001b[0m \u001b[0mi\u001b[0m \u001b[1;32min\u001b[0m \u001b[0mpbar\u001b[0m\u001b[1;33m:\u001b[0m\u001b[1;33m\u001b[0m\u001b[0m\n\u001b[0;32m     11\u001b[0m     \u001b[1;32mif\u001b[0m \u001b[1;32mnot\u001b[0m \u001b[0mi\u001b[0m \u001b[1;32min\u001b[0m \u001b[0mdf_meta\u001b[0m\u001b[1;33m.\u001b[0m\u001b[0mindex\u001b[0m\u001b[1;33m:\u001b[0m\u001b[1;33m\u001b[0m\u001b[0m\n",
      "\u001b[1;31mNameError\u001b[0m: name 'df_sample_refine' is not defined"
=======
=======
>>>>>>> parent of e47316c... 20 April error
=======
>>>>>>> parent of e47316c... 20 April error
   "execution_count": 36,
   "metadata": {},
   "outputs": [
    {
     "data": {
      "application/vnd.jupyter.widget-view+json": {
       "model_id": "05c733b14cf247689a6d74a268201e7a",
       "version_major": 2,
       "version_minor": 0
      },
      "text/plain": [
       "HBox(children=(IntProgress(value=0, max=4398), HTML(value='')))"
      ]
     },
     "metadata": {},
     "output_type": "display_data"
    },
    {
     "name": "stdout",
     "output_type": "stream",
     "text": [
      "\n"
<<<<<<< HEAD
<<<<<<< HEAD
>>>>>>> parent of e47316c... 20 April error
=======
>>>>>>> parent of e47316c... 20 April error
=======
>>>>>>> parent of e47316c... 20 April error
     ]
    }
   ],
   "source": [
    "#Create Container\n",
    "if not os.path.isfile('04_raw_meta_'+study+'.csv'):\n",
    "    df_meta = DataFrame(columns=('Sex',\"Body site\", \"Description\"))\n",
    "    df_meta.index.name = 'No'\n",
    "else:\n",
    "    df_meta = pd.read_csv('04_raw_meta_'+study+'.csv', index_col=0)\n",
    "\n",
    "#Fetch metadata for given sample\n",
<<<<<<< HEAD
<<<<<<< HEAD
<<<<<<< HEAD
    "pbar = range(len(df_sample_refine)) #to make progressbar\n",
=======
    "pbar = tqdm_notebook(range(len(df_sample_refine))) #to make progressbar\n",
>>>>>>> parent of e47316c... 20 April error
=======
    "pbar = tqdm_notebook(range(len(df_sample_refine))) #to make progressbar\n",
>>>>>>> parent of e47316c... 20 April error
=======
    "pbar = tqdm_notebook(range(len(df_sample_refine))) #to make progressbar\n",
>>>>>>> parent of e47316c... 20 April error
    "for i in pbar:\n",
    "    if not i in df_meta.index:\n",
    "        with Session(API_BASE) as s:\n",
    "            s_meta = s.get('samples', df_sample_refine.loc[i, \"Sample ID\"]).resource\n",
    "            df_meta.loc[i] = [\n",
    "                get_metadata(s_meta.sample_metadata, 'sex'),\n",
    "                get_metadata(s_meta.sample_metadata, 'body site'),\n",
    "                s_meta.sample_desc\n",
    "            ]\n",
    "        pbar.set_description('processed: %d' % (i))\n",
    "        pbar.update(1)\n",
    "        sleep(1)"
   ]
  },
  {
   "cell_type": "code",
   "execution_count": 37,
   "metadata": {},
   "outputs": [],
   "source": [
    "#Write to container\n",
    "df_meta.to_csv('04_raw_meta_'+study+'.csv')"
   ]
  },
  {
   "cell_type": "code",
   "execution_count": 38,
   "metadata": {},
   "outputs": [],
   "source": [
    "#Merge metadata with the raw sample list\n",
    "result = pd.concat([df_sample_refine, df_meta], axis=1)\n",
    "result.to_csv('05_sample_'+study+'_meta.csv')"
   ]
  },
  {
   "cell_type": "markdown",
   "metadata": {},
   "source": [
    "#### 2.1.2. Query samples based on its metadata"
   ]
  },
  {
   "cell_type": "code",
   "execution_count": 128,
   "metadata": {},
   "outputs": [],
   "source": [
    "#Load sample list\n",
    "df_result_raw = pd.read_csv('05_sample_'+study+'_meta.csv', index_col = 0)"
   ]
  },
  {
   "cell_type": "code",
   "execution_count": 129,
   "metadata": {},
   "outputs": [],
   "source": [
    "#Refine the column name to make it easier for filtering \n",
    "df_result_raw.columns = df_result_raw.columns.str.replace(' ', '_') \n",
    "#df_result_raw"
   ]
  },
  {
   "cell_type": "code",
   "execution_count": 132,
   "metadata": {},
   "outputs": [
    {
     "data": {
      "text/html": [
       "<div>\n",
       "<style scoped>\n",
       "    .dataframe tbody tr th:only-of-type {\n",
       "        vertical-align: middle;\n",
       "    }\n",
       "\n",
       "    .dataframe tbody tr th {\n",
       "        vertical-align: top;\n",
       "    }\n",
       "\n",
       "    .dataframe thead th {\n",
       "        text-align: right;\n",
       "    }\n",
       "</style>\n",
       "<table border=\"1\" class=\"dataframe\">\n",
       "  <thead>\n",
       "    <tr style=\"text-align: right;\">\n",
       "      <th></th>\n",
       "      <th>Sample_ID</th>\n",
       "      <th>Run_ID</th>\n",
       "      <th>Release_version</th>\n",
       "      <th>Sex</th>\n",
       "      <th>Body_site</th>\n",
       "    </tr>\n",
       "  </thead>\n",
       "  <tbody>\n",
       "    <tr>\n",
       "      <th>0</th>\n",
       "      <td>SRS451417</td>\n",
       "      <td>SRR919527</td>\n",
       "      <td>2.0</td>\n",
       "      <td>male</td>\n",
       "      <td>antecubital crease</td>\n",
       "    </tr>\n",
       "    <tr>\n",
       "      <th>1</th>\n",
       "      <td>SRS451417</td>\n",
       "      <td>SRR919587</td>\n",
       "      <td>2.0</td>\n",
       "      <td>male</td>\n",
       "      <td>antecubital crease</td>\n",
       "    </tr>\n",
       "    <tr>\n",
       "      <th>2</th>\n",
       "      <td>SRS451418</td>\n",
       "      <td>SRR919528</td>\n",
       "      <td>2.0</td>\n",
       "      <td>male</td>\n",
       "      <td>back</td>\n",
       "    </tr>\n",
       "    <tr>\n",
       "      <th>3</th>\n",
       "      <td>SRS451418</td>\n",
       "      <td>SRR919588</td>\n",
       "      <td>2.0</td>\n",
       "      <td>male</td>\n",
       "      <td>back</td>\n",
       "    </tr>\n",
       "    <tr>\n",
       "      <th>4</th>\n",
       "      <td>SRS451419</td>\n",
       "      <td>SRR919529</td>\n",
       "      <td>2.0</td>\n",
       "      <td>male</td>\n",
       "      <td>external auditory canal</td>\n",
       "    </tr>\n",
       "    <tr>\n",
       "      <th>5</th>\n",
       "      <td>SRS451419</td>\n",
       "      <td>SRR919589</td>\n",
       "      <td>2.0</td>\n",
       "      <td>male</td>\n",
       "      <td>external auditory canal</td>\n",
       "    </tr>\n",
       "    <tr>\n",
       "      <th>6</th>\n",
       "      <td>SRS451420</td>\n",
       "      <td>SRR919530</td>\n",
       "      <td>2.0</td>\n",
       "      <td>male</td>\n",
       "      <td>hypothenar palm</td>\n",
       "    </tr>\n",
       "    <tr>\n",
       "      <th>7</th>\n",
       "      <td>SRS451420</td>\n",
       "      <td>SRR919590</td>\n",
       "      <td>2.0</td>\n",
       "      <td>male</td>\n",
       "      <td>hypothenar palm</td>\n",
       "    </tr>\n",
       "    <tr>\n",
       "      <th>8</th>\n",
       "      <td>SRS451421</td>\n",
       "      <td>SRR919531</td>\n",
       "      <td>2.0</td>\n",
       "      <td>male</td>\n",
       "      <td>retroauricular crease</td>\n",
       "    </tr>\n",
       "    <tr>\n",
       "      <th>9</th>\n",
       "      <td>SRS451421</td>\n",
       "      <td>SRR919591</td>\n",
       "      <td>2.0</td>\n",
       "      <td>male</td>\n",
       "      <td>retroauricular crease</td>\n",
       "    </tr>\n",
       "    <tr>\n",
       "      <th>10</th>\n",
       "      <td>SRS451422</td>\n",
       "      <td>SRR919532</td>\n",
       "      <td>2.0</td>\n",
       "      <td>male</td>\n",
       "      <td>toeweb</td>\n",
       "    </tr>\n",
       "    <tr>\n",
       "      <th>11</th>\n",
       "      <td>SRS451422</td>\n",
       "      <td>SRR919592</td>\n",
       "      <td>2.0</td>\n",
       "      <td>male</td>\n",
       "      <td>toeweb</td>\n",
       "    </tr>\n",
       "    <tr>\n",
       "      <th>12</th>\n",
       "      <td>SRS451423</td>\n",
       "      <td>SRR919533</td>\n",
       "      <td>2.0</td>\n",
       "      <td>male</td>\n",
       "      <td>retroauricular crease</td>\n",
       "    </tr>\n",
       "    <tr>\n",
       "      <th>13</th>\n",
       "      <td>SRS451423</td>\n",
       "      <td>SRR919593</td>\n",
       "      <td>2.0</td>\n",
       "      <td>male</td>\n",
       "      <td>retroauricular crease</td>\n",
       "    </tr>\n",
       "    <tr>\n",
       "      <th>14</th>\n",
       "      <td>SRS451424</td>\n",
       "      <td>SRR919534</td>\n",
       "      <td>2.0</td>\n",
       "      <td>male</td>\n",
       "      <td>toeweb</td>\n",
       "    </tr>\n",
       "    <tr>\n",
       "      <th>15</th>\n",
       "      <td>SRS451424</td>\n",
       "      <td>SRR919594</td>\n",
       "      <td>2.0</td>\n",
       "      <td>male</td>\n",
       "      <td>toeweb</td>\n",
       "    </tr>\n",
       "    <tr>\n",
       "      <th>16</th>\n",
       "      <td>SRS451425</td>\n",
       "      <td>SRR919535</td>\n",
       "      <td>2.0</td>\n",
       "      <td>male</td>\n",
       "      <td>antecubital crease</td>\n",
       "    </tr>\n",
       "    <tr>\n",
       "      <th>17</th>\n",
       "      <td>SRS451425</td>\n",
       "      <td>SRR919595</td>\n",
       "      <td>2.0</td>\n",
       "      <td>male</td>\n",
       "      <td>antecubital crease</td>\n",
       "    </tr>\n",
       "    <tr>\n",
       "      <th>18</th>\n",
       "      <td>SRS451426</td>\n",
       "      <td>SRR919537</td>\n",
       "      <td>2.0</td>\n",
       "      <td>male</td>\n",
       "      <td>glabella</td>\n",
       "    </tr>\n",
       "    <tr>\n",
       "      <th>19</th>\n",
       "      <td>SRS451426</td>\n",
       "      <td>SRR919597</td>\n",
       "      <td>2.0</td>\n",
       "      <td>male</td>\n",
       "      <td>glabella</td>\n",
       "    </tr>\n",
       "    <tr>\n",
       "      <th>20</th>\n",
       "      <td>SRS451427</td>\n",
       "      <td>SRR919536</td>\n",
       "      <td>2.0</td>\n",
       "      <td>male</td>\n",
       "      <td>back</td>\n",
       "    </tr>\n",
       "    <tr>\n",
       "      <th>21</th>\n",
       "      <td>SRS451427</td>\n",
       "      <td>SRR919596</td>\n",
       "      <td>2.0</td>\n",
       "      <td>male</td>\n",
       "      <td>back</td>\n",
       "    </tr>\n",
       "    <tr>\n",
       "      <th>22</th>\n",
       "      <td>SRS451428</td>\n",
       "      <td>SRR919538</td>\n",
       "      <td>2.0</td>\n",
       "      <td>male</td>\n",
       "      <td>hypothenar palm</td>\n",
       "    </tr>\n",
       "    <tr>\n",
       "      <th>23</th>\n",
       "      <td>SRS451428</td>\n",
       "      <td>SRR919598</td>\n",
       "      <td>2.0</td>\n",
       "      <td>male</td>\n",
       "      <td>hypothenar palm</td>\n",
       "    </tr>\n",
       "    <tr>\n",
       "      <th>24</th>\n",
       "      <td>SRS451429</td>\n",
       "      <td>SRR919539</td>\n",
       "      <td>2.0</td>\n",
       "      <td>male</td>\n",
       "      <td>inguinal crease</td>\n",
       "    </tr>\n",
       "    <tr>\n",
       "      <th>25</th>\n",
       "      <td>SRS451429</td>\n",
       "      <td>SRR919599</td>\n",
       "      <td>2.0</td>\n",
       "      <td>male</td>\n",
       "      <td>inguinal crease</td>\n",
       "    </tr>\n",
       "    <tr>\n",
       "      <th>26</th>\n",
       "      <td>SRS451430</td>\n",
       "      <td>SRR919540</td>\n",
       "      <td>2.0</td>\n",
       "      <td>male</td>\n",
       "      <td>manubrium</td>\n",
       "    </tr>\n",
       "    <tr>\n",
       "      <th>27</th>\n",
       "      <td>SRS451430</td>\n",
       "      <td>SRR919600</td>\n",
       "      <td>2.0</td>\n",
       "      <td>male</td>\n",
       "      <td>manubrium</td>\n",
       "    </tr>\n",
       "    <tr>\n",
       "      <th>28</th>\n",
       "      <td>SRS451431</td>\n",
       "      <td>SRR919541</td>\n",
       "      <td>2.0</td>\n",
       "      <td>male</td>\n",
       "      <td>occiput</td>\n",
       "    </tr>\n",
       "    <tr>\n",
       "      <th>29</th>\n",
       "      <td>SRS451431</td>\n",
       "      <td>SRR919601</td>\n",
       "      <td>2.0</td>\n",
       "      <td>male</td>\n",
       "      <td>occiput</td>\n",
       "    </tr>\n",
       "    <tr>\n",
       "      <th>...</th>\n",
       "      <td>...</td>\n",
       "      <td>...</td>\n",
       "      <td>...</td>\n",
       "      <td>...</td>\n",
       "      <td>...</td>\n",
       "    </tr>\n",
       "    <tr>\n",
       "      <th>3122</th>\n",
       "      <td>SRS483634</td>\n",
       "      <td>SRR997023</td>\n",
       "      <td>2.0</td>\n",
       "      <td>male</td>\n",
       "      <td>popliteal fossa</td>\n",
       "    </tr>\n",
       "    <tr>\n",
       "      <th>3123</th>\n",
       "      <td>SRS483634</td>\n",
       "      <td>SRR997108</td>\n",
       "      <td>2.0</td>\n",
       "      <td>male</td>\n",
       "      <td>popliteal fossa</td>\n",
       "    </tr>\n",
       "    <tr>\n",
       "      <th>3124</th>\n",
       "      <td>SRS483635</td>\n",
       "      <td>SRR997025</td>\n",
       "      <td>2.0</td>\n",
       "      <td>male</td>\n",
       "      <td>antecubital fossa</td>\n",
       "    </tr>\n",
       "    <tr>\n",
       "      <th>3125</th>\n",
       "      <td>SRS483635</td>\n",
       "      <td>SRR997110</td>\n",
       "      <td>2.0</td>\n",
       "      <td>male</td>\n",
       "      <td>antecubital fossa</td>\n",
       "    </tr>\n",
       "    <tr>\n",
       "      <th>3126</th>\n",
       "      <td>SRS483636</td>\n",
       "      <td>SRR997024</td>\n",
       "      <td>2.0</td>\n",
       "      <td>male</td>\n",
       "      <td>nare</td>\n",
       "    </tr>\n",
       "    <tr>\n",
       "      <th>3127</th>\n",
       "      <td>SRS483636</td>\n",
       "      <td>SRR997109</td>\n",
       "      <td>2.0</td>\n",
       "      <td>male</td>\n",
       "      <td>nare</td>\n",
       "    </tr>\n",
       "    <tr>\n",
       "      <th>3128</th>\n",
       "      <td>SRS483637</td>\n",
       "      <td>SRR997026</td>\n",
       "      <td>2.0</td>\n",
       "      <td>male</td>\n",
       "      <td>volar forearm</td>\n",
       "    </tr>\n",
       "    <tr>\n",
       "      <th>3129</th>\n",
       "      <td>SRS483637</td>\n",
       "      <td>SRR997111</td>\n",
       "      <td>2.0</td>\n",
       "      <td>male</td>\n",
       "      <td>volar forearm</td>\n",
       "    </tr>\n",
       "    <tr>\n",
       "      <th>3130</th>\n",
       "      <td>SRS483638</td>\n",
       "      <td>SRR997027</td>\n",
       "      <td>2.0</td>\n",
       "      <td>male</td>\n",
       "      <td>popliteal fossa</td>\n",
       "    </tr>\n",
       "    <tr>\n",
       "      <th>3131</th>\n",
       "      <td>SRS483638</td>\n",
       "      <td>SRR997112</td>\n",
       "      <td>2.0</td>\n",
       "      <td>male</td>\n",
       "      <td>popliteal fossa</td>\n",
       "    </tr>\n",
       "    <tr>\n",
       "      <th>3132</th>\n",
       "      <td>SRS483639</td>\n",
       "      <td>SRR997028</td>\n",
       "      <td>2.0</td>\n",
       "      <td>male</td>\n",
       "      <td>nare</td>\n",
       "    </tr>\n",
       "    <tr>\n",
       "      <th>3133</th>\n",
       "      <td>SRS483639</td>\n",
       "      <td>SRR997113</td>\n",
       "      <td>2.0</td>\n",
       "      <td>male</td>\n",
       "      <td>nare</td>\n",
       "    </tr>\n",
       "    <tr>\n",
       "      <th>3134</th>\n",
       "      <td>SRS483640</td>\n",
       "      <td>SRR997029</td>\n",
       "      <td>2.0</td>\n",
       "      <td>male</td>\n",
       "      <td>antecubital fossa</td>\n",
       "    </tr>\n",
       "    <tr>\n",
       "      <th>3135</th>\n",
       "      <td>SRS483640</td>\n",
       "      <td>SRR997114</td>\n",
       "      <td>2.0</td>\n",
       "      <td>male</td>\n",
       "      <td>antecubital fossa</td>\n",
       "    </tr>\n",
       "    <tr>\n",
       "      <th>3136</th>\n",
       "      <td>SRS483641</td>\n",
       "      <td>SRR997030</td>\n",
       "      <td>2.0</td>\n",
       "      <td>male</td>\n",
       "      <td>volar forearm</td>\n",
       "    </tr>\n",
       "    <tr>\n",
       "      <th>3137</th>\n",
       "      <td>SRS483641</td>\n",
       "      <td>SRR997115</td>\n",
       "      <td>2.0</td>\n",
       "      <td>male</td>\n",
       "      <td>volar forearm</td>\n",
       "    </tr>\n",
       "    <tr>\n",
       "      <th>3138</th>\n",
       "      <td>SRS483642</td>\n",
       "      <td>SRR997031</td>\n",
       "      <td>2.0</td>\n",
       "      <td>male</td>\n",
       "      <td>popliteal fossa</td>\n",
       "    </tr>\n",
       "    <tr>\n",
       "      <th>3139</th>\n",
       "      <td>SRS483642</td>\n",
       "      <td>SRR997116</td>\n",
       "      <td>2.0</td>\n",
       "      <td>male</td>\n",
       "      <td>popliteal fossa</td>\n",
       "    </tr>\n",
       "    <tr>\n",
       "      <th>3140</th>\n",
       "      <td>SRS483643</td>\n",
       "      <td>SRR997033</td>\n",
       "      <td>2.0</td>\n",
       "      <td>male</td>\n",
       "      <td>antecubital fossa</td>\n",
       "    </tr>\n",
       "    <tr>\n",
       "      <th>3141</th>\n",
       "      <td>SRS483643</td>\n",
       "      <td>SRR997118</td>\n",
       "      <td>2.0</td>\n",
       "      <td>male</td>\n",
       "      <td>antecubital fossa</td>\n",
       "    </tr>\n",
       "    <tr>\n",
       "      <th>3142</th>\n",
       "      <td>SRS483644</td>\n",
       "      <td>SRR997032</td>\n",
       "      <td>2.0</td>\n",
       "      <td>male</td>\n",
       "      <td>nare</td>\n",
       "    </tr>\n",
       "    <tr>\n",
       "      <th>3143</th>\n",
       "      <td>SRS483644</td>\n",
       "      <td>SRR997117</td>\n",
       "      <td>2.0</td>\n",
       "      <td>male</td>\n",
       "      <td>nare</td>\n",
       "    </tr>\n",
       "    <tr>\n",
       "      <th>3144</th>\n",
       "      <td>SRS483645</td>\n",
       "      <td>SRR997035</td>\n",
       "      <td>2.0</td>\n",
       "      <td>male</td>\n",
       "      <td>popliteal fossa</td>\n",
       "    </tr>\n",
       "    <tr>\n",
       "      <th>3145</th>\n",
       "      <td>SRS483645</td>\n",
       "      <td>SRR997120</td>\n",
       "      <td>2.0</td>\n",
       "      <td>male</td>\n",
       "      <td>popliteal fossa</td>\n",
       "    </tr>\n",
       "    <tr>\n",
       "      <th>3146</th>\n",
       "      <td>SRS483646</td>\n",
       "      <td>SRR997034</td>\n",
       "      <td>2.0</td>\n",
       "      <td>male</td>\n",
       "      <td>volar forearm</td>\n",
       "    </tr>\n",
       "    <tr>\n",
       "      <th>3147</th>\n",
       "      <td>SRS483646</td>\n",
       "      <td>SRR997119</td>\n",
       "      <td>2.0</td>\n",
       "      <td>male</td>\n",
       "      <td>volar forearm</td>\n",
       "    </tr>\n",
       "    <tr>\n",
       "      <th>3148</th>\n",
       "      <td>SRS483647</td>\n",
       "      <td>SRR997037</td>\n",
       "      <td>2.0</td>\n",
       "      <td>female</td>\n",
       "      <td>vagina</td>\n",
       "    </tr>\n",
       "    <tr>\n",
       "      <th>3149</th>\n",
       "      <td>SRS483647</td>\n",
       "      <td>SRR997122</td>\n",
       "      <td>2.0</td>\n",
       "      <td>female</td>\n",
       "      <td>vagina</td>\n",
       "    </tr>\n",
       "    <tr>\n",
       "      <th>3150</th>\n",
       "      <td>SRS483648</td>\n",
       "      <td>SRR997036</td>\n",
       "      <td>2.0</td>\n",
       "      <td>male</td>\n",
       "      <td>nare</td>\n",
       "    </tr>\n",
       "    <tr>\n",
       "      <th>3151</th>\n",
       "      <td>SRS483648</td>\n",
       "      <td>SRR997121</td>\n",
       "      <td>2.0</td>\n",
       "      <td>male</td>\n",
       "      <td>nare</td>\n",
       "    </tr>\n",
       "  </tbody>\n",
       "</table>\n",
       "<p>3134 rows × 5 columns</p>\n",
       "</div>"
      ],
      "text/plain": [
       "      Sample_ID     Run_ID  Release_version     Sex                Body_site\n",
       "0     SRS451417  SRR919527              2.0    male       antecubital crease\n",
       "1     SRS451417  SRR919587              2.0    male       antecubital crease\n",
       "2     SRS451418  SRR919528              2.0    male                     back\n",
       "3     SRS451418  SRR919588              2.0    male                     back\n",
       "4     SRS451419  SRR919529              2.0    male  external auditory canal\n",
       "5     SRS451419  SRR919589              2.0    male  external auditory canal\n",
       "6     SRS451420  SRR919530              2.0    male          hypothenar palm\n",
       "7     SRS451420  SRR919590              2.0    male          hypothenar palm\n",
       "8     SRS451421  SRR919531              2.0    male    retroauricular crease\n",
       "9     SRS451421  SRR919591              2.0    male    retroauricular crease\n",
       "10    SRS451422  SRR919532              2.0    male                   toeweb\n",
       "11    SRS451422  SRR919592              2.0    male                   toeweb\n",
       "12    SRS451423  SRR919533              2.0    male    retroauricular crease\n",
       "13    SRS451423  SRR919593              2.0    male    retroauricular crease\n",
       "14    SRS451424  SRR919534              2.0    male                   toeweb\n",
       "15    SRS451424  SRR919594              2.0    male                   toeweb\n",
       "16    SRS451425  SRR919535              2.0    male       antecubital crease\n",
       "17    SRS451425  SRR919595              2.0    male       antecubital crease\n",
       "18    SRS451426  SRR919537              2.0    male                 glabella\n",
       "19    SRS451426  SRR919597              2.0    male                 glabella\n",
       "20    SRS451427  SRR919536              2.0    male                     back\n",
       "21    SRS451427  SRR919596              2.0    male                     back\n",
       "22    SRS451428  SRR919538              2.0    male          hypothenar palm\n",
       "23    SRS451428  SRR919598              2.0    male          hypothenar palm\n",
       "24    SRS451429  SRR919539              2.0    male          inguinal crease\n",
       "25    SRS451429  SRR919599              2.0    male          inguinal crease\n",
       "26    SRS451430  SRR919540              2.0    male                manubrium\n",
       "27    SRS451430  SRR919600              2.0    male                manubrium\n",
       "28    SRS451431  SRR919541              2.0    male                  occiput\n",
       "29    SRS451431  SRR919601              2.0    male                  occiput\n",
       "...         ...        ...              ...     ...                      ...\n",
       "3122  SRS483634  SRR997023              2.0    male          popliteal fossa\n",
       "3123  SRS483634  SRR997108              2.0    male          popliteal fossa\n",
       "3124  SRS483635  SRR997025              2.0    male        antecubital fossa\n",
       "3125  SRS483635  SRR997110              2.0    male        antecubital fossa\n",
       "3126  SRS483636  SRR997024              2.0    male                     nare\n",
       "3127  SRS483636  SRR997109              2.0    male                     nare\n",
       "3128  SRS483637  SRR997026              2.0    male            volar forearm\n",
       "3129  SRS483637  SRR997111              2.0    male            volar forearm\n",
       "3130  SRS483638  SRR997027              2.0    male          popliteal fossa\n",
       "3131  SRS483638  SRR997112              2.0    male          popliteal fossa\n",
       "3132  SRS483639  SRR997028              2.0    male                     nare\n",
       "3133  SRS483639  SRR997113              2.0    male                     nare\n",
       "3134  SRS483640  SRR997029              2.0    male        antecubital fossa\n",
       "3135  SRS483640  SRR997114              2.0    male        antecubital fossa\n",
       "3136  SRS483641  SRR997030              2.0    male            volar forearm\n",
       "3137  SRS483641  SRR997115              2.0    male            volar forearm\n",
       "3138  SRS483642  SRR997031              2.0    male          popliteal fossa\n",
       "3139  SRS483642  SRR997116              2.0    male          popliteal fossa\n",
       "3140  SRS483643  SRR997033              2.0    male        antecubital fossa\n",
       "3141  SRS483643  SRR997118              2.0    male        antecubital fossa\n",
       "3142  SRS483644  SRR997032              2.0    male                     nare\n",
       "3143  SRS483644  SRR997117              2.0    male                     nare\n",
       "3144  SRS483645  SRR997035              2.0    male          popliteal fossa\n",
       "3145  SRS483645  SRR997120              2.0    male          popliteal fossa\n",
       "3146  SRS483646  SRR997034              2.0    male            volar forearm\n",
       "3147  SRS483646  SRR997119              2.0    male            volar forearm\n",
       "3148  SRS483647  SRR997037              2.0  female                   vagina\n",
       "3149  SRS483647  SRR997122              2.0  female                   vagina\n",
       "3150  SRS483648  SRR997036              2.0    male                     nare\n",
       "3151  SRS483648  SRR997121              2.0    male                     nare\n",
       "\n",
       "[3134 rows x 5 columns]"
      ]
     },
     "execution_count": 132,
     "metadata": {},
     "output_type": "execute_result"
    }
   ],
   "source": [
    "#Delete empty datas\n",
    "df = df_result_raw\n",
    "df_result_refine = df[df_result_raw != '#N/A ']\n",
    "df_result_refine = df_result_refine.dropna()\n",
    "df_result_refine['Sex'] = df_result_refine['Sex'].str.strip()\n",
    "df_result_refine['Body_site'] = df_result_refine['Body_site'].str.strip()\n",
    "df_result_refine.to_csv('05_sample_'+study+'_meta_refine.csv')\n",
    "df_result_refine"
   ]
  },
  {
   "cell_type": "code",
   "execution_count": 43,
   "metadata": {},
   "outputs": [
    {
     "name": "stdout",
     "output_type": "stream",
     "text": [
      "['back', 'hypothenar palm', 'volar forearm', 'vagina', 'manubrium', 'toenail', 'antecubital crease', 'popliteal fossa', 'glabella', 'external auditory canal', 'toeweb', 'inguinal crease', 'occiput', 'antecubital fossa', 'nare', 'plantar heel', 'retroauricular crease']\n",
      "['female', 'male']\n"
     ]
    }
   ],
   "source": [
    "#Create a list of values in body site metadata\n",
    "meta_list = df_result_refine[\"Body_site\"].tolist()\n",
    "meta_list_refine = list(set(meta_list))\n",
    "for i in range(len(meta_list_refine)):\n",
    "    meta_list_refine[i] = meta_list_refine[i].strip()\n",
    "\n",
    "    meta_list2 = df_result_refine[\"Sex\"].tolist()\n",
    "meta_list2_refine = list(set(meta_list2))\n",
    "for i in range(len(meta_list2_refine)):\n",
    "    meta_list2_refine[i] = meta_list2_refine[i].strip()\n",
    "\n",
    "print(meta_list_refine)\n",
    "print(meta_list2_refine)"
   ]
  },
  {
   "cell_type": "markdown",
   "metadata": {},
   "source": [
    "### 2.2. ERP018577: Human skin bacterial and fungal microbiotas an...\n",
    "#### 2.2.1 Get list of sample for the given study and its metadata\n",
    "\n",
    "Get study: https://www.ebi.ac.uk/metagenomics/api/latest/studies/ERP018577  \n",
    "List samples: https://www.ebi.ac.uk/metagenomics/api/latest/studies/ERP018577/samples  \n",
    "Fetch samples for the given study accession: https://www.ebi.ac.uk/metagenomics/api/latest/samples?study_accession=ERP018577  "
   ]
  },
  {
   "cell_type": "code",
   "execution_count": 5,
   "metadata": {},
   "outputs": [],
   "source": [
    "#Selected study\n",
    "study2 = 'ERP018577'"
   ]
  },
  {
   "cell_type": "code",
   "execution_count": 6,
   "metadata": {},
   "outputs": [
    {
     "name": "stdout",
     "output_type": "stream",
     "text": [
      "03_sample_ERP018577_raw.csv\n"
     ]
    }
   ],
   "source": [
    "#Fetch a list of sample data from a given study\n",
    "filename_sample = '03_sample_'+study2+'_raw.csv'\n",
    "print(filename_sample)\n",
    "if not os.path.isfile(filename_sample):\n",
    "    with open(filename_sample, 'wb') as f:\n",
    "        c = pycurl.Curl()\n",
    "        c.setopt(c.URL, 'https://www.ebi.ac.uk/metagenomics/projects/'+study2+'/overview/doExport')\n",
    "        c.setopt(c.WRITEDATA, f)\n",
    "        c.perform()\n",
    "        c.close()"
   ]
  },
  {
   "cell_type": "code",
   "execution_count": 7,
   "metadata": {},
   "outputs": [],
   "source": [
    "#Filter relevant information from the list\n",
    "df_sample = pd.read_csv(filename_sample)\n",
    "df_sample_refine = df_sample[[\"Sample ID\",\"Run ID\",\"Release version\"]]"
   ]
  },
  {
   "cell_type": "code",
   "execution_count": 13,
   "metadata": {},
   "outputs": [
    {
     "data": {
      "text/plain": [
       "[{'key': 'investigation type', 'unit': None, 'value': 'metagenome'},\n",
       " {'key': 'project name', 'unit': None, 'value': 'Dandruff'},\n",
       " {'key': 'collection date', 'unit': None, 'value': '2014'},\n",
       " {'key': 'sequencing method',\n",
       "  'unit': None,\n",
       "  'value': 'Illumina Miseq Sequencing'},\n",
       " {'key': 'NCBI sample classification', 'unit': None, 'value': '646099'},\n",
       " {'key': 'instrument model', 'unit': None, 'value': 'Illumina MiSeq'},\n",
       " {'key': 'ENA checklist',\n",
       "  'unit': None,\n",
       "  'value': 'GSC MIxS human associated (ERC000014)'},\n",
       " {'key': 'host body site', 'unit': None, 'value': 'Scalp'},\n",
       " {'key': 'host disease status', 'unit': None, 'value': 'Dandruff'}]"
      ]
     },
     "execution_count": 13,
     "metadata": {},
     "output_type": "execute_result"
    }
   ],
   "source": [
    "#check available metadata key\n",
    "with Session(API_BASE) as s:\n",
    "    s_meta = s.get('samples', df_sample_refine.loc[0, \"Sample ID\"]).resource\n",
    "s_meta.sample_metadata"
   ]
  },
  {
   "cell_type": "code",
   "execution_count": 18,
   "metadata": {},
   "outputs": [
    {
     "data": {
      "application/vnd.jupyter.widget-view+json": {
       "model_id": "eb39a7fd627e45feba2710c640c2701c",
       "version_major": 2,
       "version_minor": 0
      },
      "text/plain": [
       "HBox(children=(IntProgress(value=0, max=96), HTML(value='')))"
      ]
     },
     "metadata": {},
     "output_type": "display_data"
    },
    {
     "name": "stdout",
     "output_type": "stream",
     "text": [
      "\n"
     ]
    }
   ],
   "source": [
    "#Create Container\n",
    "if not os.path.isfile('04_raw_meta_'+study2+'.csv'):\n",
    "    df_meta = DataFrame(columns=('Sex',\"Body site\", \"Description\"))\n",
    "    df_meta.index.name = 'No'\n",
    "else:\n",
    "    df_meta = pd.read_csv('04_raw_meta_'+study2+'.csv', index_col=0)\n",
    "\n",
    "#Fetch metadata for given sample\n",
    "pbar = tqdm_notebook(range(len(df_sample_refine))) #to make progressbar\n",
    "for i in pbar:\n",
    "    if not i in df_meta.index:\n",
    "        with Session(API_BASE) as s:\n",
    "            s_meta = s.get('samples', df_sample_refine.loc[i, \"Sample ID\"]).resource\n",
    "            df_meta.loc[i] = [\n",
    "                get_metadata(s_meta.sample_metadata, 'sex'),\n",
    "                get_metadata(s_meta.sample_metadata, 'host body site'),\n",
    "                get_metadata(s_meta.sample_metadata, 'host disease status')\n",
    "            ]\n",
    "        pbar.set_description('processed: %d' % (i))\n",
    "        pbar.update(1)\n",
    "        sleep(1)"
   ]
  },
  {
   "cell_type": "code",
   "execution_count": 19,
   "metadata": {},
   "outputs": [],
   "source": [
    "#Write to container\n",
    "df_meta.to_csv('04_raw_meta_'+study2+'.csv')"
   ]
  },
  {
   "cell_type": "code",
   "execution_count": 20,
   "metadata": {},
   "outputs": [],
   "source": [
    "#Merge metadata with the raw sample list\n",
    "result = pd.concat([df_sample_refine, df_meta], axis=1)\n",
    "result.to_csv('05_sample_'+study2+'_meta.csv')"
   ]
  },
  {
   "cell_type": "markdown",
   "metadata": {},
   "source": [
    "#### 2.2.2. Query samples based on its metadata"
   ]
  },
  {
   "cell_type": "code",
   "execution_count": 176,
   "metadata": {},
   "outputs": [],
   "source": [
    "#Load sample list\n",
    "df_result_raw = pd.read_csv('05_sample_'+study2+'_meta.csv', index_col = 0)"
   ]
  },
  {
   "cell_type": "code",
   "execution_count": 177,
   "metadata": {},
   "outputs": [],
   "source": [
    "#Refine the column name to make it easier for filtering \n",
    "df_result_raw.columns = df_result_raw.columns.str.replace(' ', '_') \n",
    "#df_result_raw"
   ]
  },
  {
   "cell_type": "code",
   "execution_count": 178,
   "metadata": {},
   "outputs": [
    {
     "data": {
      "text/html": [
       "<div>\n",
       "<style scoped>\n",
       "    .dataframe tbody tr th:only-of-type {\n",
       "        vertical-align: middle;\n",
       "    }\n",
       "\n",
       "    .dataframe tbody tr th {\n",
       "        vertical-align: top;\n",
       "    }\n",
       "\n",
       "    .dataframe thead th {\n",
       "        text-align: right;\n",
       "    }\n",
       "</style>\n",
       "<table border=\"1\" class=\"dataframe\">\n",
       "  <thead>\n",
       "    <tr style=\"text-align: right;\">\n",
       "      <th></th>\n",
       "      <th>Sample_ID</th>\n",
       "      <th>Run_ID</th>\n",
       "      <th>Release_version</th>\n",
       "      <th>Sex</th>\n",
       "      <th>Body_site</th>\n",
       "      <th>Disease</th>\n",
       "    </tr>\n",
       "  </thead>\n",
       "  <tbody>\n",
       "    <tr>\n",
       "      <th>0</th>\n",
       "      <td>ERS1421303</td>\n",
       "      <td>ERR1701206</td>\n",
       "      <td>3.0</td>\n",
       "      <td>NaN</td>\n",
       "      <td>Scalp</td>\n",
       "      <td>Dandruff</td>\n",
       "    </tr>\n",
       "    <tr>\n",
       "      <th>1</th>\n",
       "      <td>ERS1421304</td>\n",
       "      <td>ERR1701207</td>\n",
       "      <td>3.0</td>\n",
       "      <td>NaN</td>\n",
       "      <td>Forehead</td>\n",
       "      <td>Dandruff</td>\n",
       "    </tr>\n",
       "    <tr>\n",
       "      <th>2</th>\n",
       "      <td>ERS1421305</td>\n",
       "      <td>ERR1701208</td>\n",
       "      <td>3.0</td>\n",
       "      <td>NaN</td>\n",
       "      <td>Scalp</td>\n",
       "      <td>Dandruff</td>\n",
       "    </tr>\n",
       "    <tr>\n",
       "      <th>3</th>\n",
       "      <td>ERS1421306</td>\n",
       "      <td>ERR1701209</td>\n",
       "      <td>3.0</td>\n",
       "      <td>NaN</td>\n",
       "      <td>Forehead</td>\n",
       "      <td>Dandruff</td>\n",
       "    </tr>\n",
       "    <tr>\n",
       "      <th>4</th>\n",
       "      <td>ERS1421307</td>\n",
       "      <td>ERR1701210</td>\n",
       "      <td>3.0</td>\n",
       "      <td>NaN</td>\n",
       "      <td>Scalp</td>\n",
       "      <td>Dandruff</td>\n",
       "    </tr>\n",
       "    <tr>\n",
       "      <th>5</th>\n",
       "      <td>ERS1421308</td>\n",
       "      <td>ERR1701211</td>\n",
       "      <td>3.0</td>\n",
       "      <td>NaN</td>\n",
       "      <td>Forehead</td>\n",
       "      <td>Dandruff</td>\n",
       "    </tr>\n",
       "    <tr>\n",
       "      <th>6</th>\n",
       "      <td>ERS1421309</td>\n",
       "      <td>ERR1701212</td>\n",
       "      <td>3.0</td>\n",
       "      <td>NaN</td>\n",
       "      <td>Scalp</td>\n",
       "      <td>Dandruff</td>\n",
       "    </tr>\n",
       "    <tr>\n",
       "      <th>7</th>\n",
       "      <td>ERS1421310</td>\n",
       "      <td>ERR1701213</td>\n",
       "      <td>3.0</td>\n",
       "      <td>NaN</td>\n",
       "      <td>Forehead</td>\n",
       "      <td>Dandruff</td>\n",
       "    </tr>\n",
       "    <tr>\n",
       "      <th>8</th>\n",
       "      <td>ERS1421311</td>\n",
       "      <td>ERR1701214</td>\n",
       "      <td>3.0</td>\n",
       "      <td>NaN</td>\n",
       "      <td>Scalp</td>\n",
       "      <td>Dandruff</td>\n",
       "    </tr>\n",
       "    <tr>\n",
       "      <th>9</th>\n",
       "      <td>ERS1421312</td>\n",
       "      <td>ERR1701215</td>\n",
       "      <td>3.0</td>\n",
       "      <td>NaN</td>\n",
       "      <td>Forehead</td>\n",
       "      <td>Dandruff</td>\n",
       "    </tr>\n",
       "    <tr>\n",
       "      <th>10</th>\n",
       "      <td>ERS1421313</td>\n",
       "      <td>ERR1701216</td>\n",
       "      <td>3.0</td>\n",
       "      <td>NaN</td>\n",
       "      <td>Scalp</td>\n",
       "      <td>Dandruff</td>\n",
       "    </tr>\n",
       "    <tr>\n",
       "      <th>11</th>\n",
       "      <td>ERS1421314</td>\n",
       "      <td>ERR1701217</td>\n",
       "      <td>3.0</td>\n",
       "      <td>NaN</td>\n",
       "      <td>Forehead</td>\n",
       "      <td>Dandruff</td>\n",
       "    </tr>\n",
       "    <tr>\n",
       "      <th>12</th>\n",
       "      <td>ERS1421315</td>\n",
       "      <td>ERR1701218</td>\n",
       "      <td>3.0</td>\n",
       "      <td>NaN</td>\n",
       "      <td>Scalp</td>\n",
       "      <td>Dandruff</td>\n",
       "    </tr>\n",
       "    <tr>\n",
       "      <th>13</th>\n",
       "      <td>ERS1421316</td>\n",
       "      <td>ERR1701219</td>\n",
       "      <td>3.0</td>\n",
       "      <td>NaN</td>\n",
       "      <td>Forehead</td>\n",
       "      <td>Dandruff</td>\n",
       "    </tr>\n",
       "    <tr>\n",
       "      <th>14</th>\n",
       "      <td>ERS1421317</td>\n",
       "      <td>ERR1701220</td>\n",
       "      <td>3.0</td>\n",
       "      <td>NaN</td>\n",
       "      <td>Scalp</td>\n",
       "      <td>Dandruff</td>\n",
       "    </tr>\n",
       "    <tr>\n",
       "      <th>15</th>\n",
       "      <td>ERS1421318</td>\n",
       "      <td>ERR1701221</td>\n",
       "      <td>3.0</td>\n",
       "      <td>NaN</td>\n",
       "      <td>Forehead</td>\n",
       "      <td>Dandruff</td>\n",
       "    </tr>\n",
       "    <tr>\n",
       "      <th>16</th>\n",
       "      <td>ERS1421319</td>\n",
       "      <td>ERR1701222</td>\n",
       "      <td>3.0</td>\n",
       "      <td>NaN</td>\n",
       "      <td>Scalp</td>\n",
       "      <td>Dandruff</td>\n",
       "    </tr>\n",
       "    <tr>\n",
       "      <th>17</th>\n",
       "      <td>ERS1421320</td>\n",
       "      <td>ERR1701223</td>\n",
       "      <td>3.0</td>\n",
       "      <td>NaN</td>\n",
       "      <td>Forehead</td>\n",
       "      <td>Dandruff</td>\n",
       "    </tr>\n",
       "    <tr>\n",
       "      <th>18</th>\n",
       "      <td>ERS1421321</td>\n",
       "      <td>ERR1701224</td>\n",
       "      <td>3.0</td>\n",
       "      <td>NaN</td>\n",
       "      <td>Scalp</td>\n",
       "      <td>Dandruff</td>\n",
       "    </tr>\n",
       "    <tr>\n",
       "      <th>19</th>\n",
       "      <td>ERS1421322</td>\n",
       "      <td>ERR1701225</td>\n",
       "      <td>3.0</td>\n",
       "      <td>NaN</td>\n",
       "      <td>Forehead</td>\n",
       "      <td>Dandruff</td>\n",
       "    </tr>\n",
       "    <tr>\n",
       "      <th>20</th>\n",
       "      <td>ERS1421323</td>\n",
       "      <td>ERR1701226</td>\n",
       "      <td>3.0</td>\n",
       "      <td>NaN</td>\n",
       "      <td>Scalp</td>\n",
       "      <td>Dandruff</td>\n",
       "    </tr>\n",
       "    <tr>\n",
       "      <th>21</th>\n",
       "      <td>ERS1421324</td>\n",
       "      <td>ERR1701227</td>\n",
       "      <td>3.0</td>\n",
       "      <td>NaN</td>\n",
       "      <td>Forehead</td>\n",
       "      <td>Dandruff</td>\n",
       "    </tr>\n",
       "    <tr>\n",
       "      <th>22</th>\n",
       "      <td>ERS1421325</td>\n",
       "      <td>ERR1701228</td>\n",
       "      <td>3.0</td>\n",
       "      <td>NaN</td>\n",
       "      <td>Scalp</td>\n",
       "      <td>Dandruff</td>\n",
       "    </tr>\n",
       "    <tr>\n",
       "      <th>23</th>\n",
       "      <td>ERS1421326</td>\n",
       "      <td>ERR1701229</td>\n",
       "      <td>3.0</td>\n",
       "      <td>NaN</td>\n",
       "      <td>Forehead</td>\n",
       "      <td>Dandruff</td>\n",
       "    </tr>\n",
       "    <tr>\n",
       "      <th>24</th>\n",
       "      <td>ERS1421327</td>\n",
       "      <td>ERR1701230</td>\n",
       "      <td>3.0</td>\n",
       "      <td>NaN</td>\n",
       "      <td>Scalp</td>\n",
       "      <td>Dandruff</td>\n",
       "    </tr>\n",
       "    <tr>\n",
       "      <th>25</th>\n",
       "      <td>ERS1421328</td>\n",
       "      <td>ERR1701231</td>\n",
       "      <td>3.0</td>\n",
       "      <td>NaN</td>\n",
       "      <td>Forehead</td>\n",
       "      <td>Dandruff</td>\n",
       "    </tr>\n",
       "    <tr>\n",
       "      <th>26</th>\n",
       "      <td>ERS1421329</td>\n",
       "      <td>ERR1701232</td>\n",
       "      <td>3.0</td>\n",
       "      <td>NaN</td>\n",
       "      <td>Scalp</td>\n",
       "      <td>Health</td>\n",
       "    </tr>\n",
       "    <tr>\n",
       "      <th>27</th>\n",
       "      <td>ERS1421330</td>\n",
       "      <td>ERR1701233</td>\n",
       "      <td>3.0</td>\n",
       "      <td>NaN</td>\n",
       "      <td>Forehead</td>\n",
       "      <td>Health</td>\n",
       "    </tr>\n",
       "    <tr>\n",
       "      <th>28</th>\n",
       "      <td>ERS1421331</td>\n",
       "      <td>ERR1701234</td>\n",
       "      <td>3.0</td>\n",
       "      <td>NaN</td>\n",
       "      <td>Scalp</td>\n",
       "      <td>Health</td>\n",
       "    </tr>\n",
       "    <tr>\n",
       "      <th>29</th>\n",
       "      <td>ERS1421332</td>\n",
       "      <td>ERR1701235</td>\n",
       "      <td>3.0</td>\n",
       "      <td>NaN</td>\n",
       "      <td>Forehead</td>\n",
       "      <td>Health</td>\n",
       "    </tr>\n",
       "    <tr>\n",
       "      <th>...</th>\n",
       "      <td>...</td>\n",
       "      <td>...</td>\n",
       "      <td>...</td>\n",
       "      <td>...</td>\n",
       "      <td>...</td>\n",
       "      <td>...</td>\n",
       "    </tr>\n",
       "    <tr>\n",
       "      <th>66</th>\n",
       "      <td>ERS1421369</td>\n",
       "      <td>ERR1701272</td>\n",
       "      <td>3.0</td>\n",
       "      <td>NaN</td>\n",
       "      <td>Scalp</td>\n",
       "      <td>Dandruff</td>\n",
       "    </tr>\n",
       "    <tr>\n",
       "      <th>67</th>\n",
       "      <td>ERS1421370</td>\n",
       "      <td>ERR1701273</td>\n",
       "      <td>3.0</td>\n",
       "      <td>NaN</td>\n",
       "      <td>Forehead</td>\n",
       "      <td>Dandruff</td>\n",
       "    </tr>\n",
       "    <tr>\n",
       "      <th>68</th>\n",
       "      <td>ERS1421371</td>\n",
       "      <td>ERR1701274</td>\n",
       "      <td>3.0</td>\n",
       "      <td>NaN</td>\n",
       "      <td>Scalp</td>\n",
       "      <td>Dandruff</td>\n",
       "    </tr>\n",
       "    <tr>\n",
       "      <th>69</th>\n",
       "      <td>ERS1421372</td>\n",
       "      <td>ERR1701275</td>\n",
       "      <td>3.0</td>\n",
       "      <td>NaN</td>\n",
       "      <td>Forehead</td>\n",
       "      <td>Dandruff</td>\n",
       "    </tr>\n",
       "    <tr>\n",
       "      <th>70</th>\n",
       "      <td>ERS1421373</td>\n",
       "      <td>ERR1701276</td>\n",
       "      <td>3.0</td>\n",
       "      <td>NaN</td>\n",
       "      <td>Scalp</td>\n",
       "      <td>Dandruff</td>\n",
       "    </tr>\n",
       "    <tr>\n",
       "      <th>71</th>\n",
       "      <td>ERS1421374</td>\n",
       "      <td>ERR1701277</td>\n",
       "      <td>3.0</td>\n",
       "      <td>NaN</td>\n",
       "      <td>Forehead</td>\n",
       "      <td>Dandruff</td>\n",
       "    </tr>\n",
       "    <tr>\n",
       "      <th>72</th>\n",
       "      <td>ERS1421375</td>\n",
       "      <td>ERR1701278</td>\n",
       "      <td>3.0</td>\n",
       "      <td>NaN</td>\n",
       "      <td>Scalp</td>\n",
       "      <td>Dandruff</td>\n",
       "    </tr>\n",
       "    <tr>\n",
       "      <th>73</th>\n",
       "      <td>ERS1421376</td>\n",
       "      <td>ERR1701279</td>\n",
       "      <td>3.0</td>\n",
       "      <td>NaN</td>\n",
       "      <td>Forehead</td>\n",
       "      <td>Dandruff</td>\n",
       "    </tr>\n",
       "    <tr>\n",
       "      <th>74</th>\n",
       "      <td>ERS1421377</td>\n",
       "      <td>ERR1701280</td>\n",
       "      <td>3.0</td>\n",
       "      <td>NaN</td>\n",
       "      <td>Scalp</td>\n",
       "      <td>Health</td>\n",
       "    </tr>\n",
       "    <tr>\n",
       "      <th>75</th>\n",
       "      <td>ERS1421378</td>\n",
       "      <td>ERR1701281</td>\n",
       "      <td>3.0</td>\n",
       "      <td>NaN</td>\n",
       "      <td>Forehead</td>\n",
       "      <td>Health</td>\n",
       "    </tr>\n",
       "    <tr>\n",
       "      <th>76</th>\n",
       "      <td>ERS1421379</td>\n",
       "      <td>ERR1701282</td>\n",
       "      <td>3.0</td>\n",
       "      <td>NaN</td>\n",
       "      <td>Scalp</td>\n",
       "      <td>Health</td>\n",
       "    </tr>\n",
       "    <tr>\n",
       "      <th>77</th>\n",
       "      <td>ERS1421380</td>\n",
       "      <td>ERR1701283</td>\n",
       "      <td>3.0</td>\n",
       "      <td>NaN</td>\n",
       "      <td>Forehead</td>\n",
       "      <td>Health</td>\n",
       "    </tr>\n",
       "    <tr>\n",
       "      <th>78</th>\n",
       "      <td>ERS1421381</td>\n",
       "      <td>ERR1701284</td>\n",
       "      <td>3.0</td>\n",
       "      <td>NaN</td>\n",
       "      <td>Scalp</td>\n",
       "      <td>Health</td>\n",
       "    </tr>\n",
       "    <tr>\n",
       "      <th>79</th>\n",
       "      <td>ERS1421382</td>\n",
       "      <td>ERR1701285</td>\n",
       "      <td>3.0</td>\n",
       "      <td>NaN</td>\n",
       "      <td>Forehead</td>\n",
       "      <td>Health</td>\n",
       "    </tr>\n",
       "    <tr>\n",
       "      <th>80</th>\n",
       "      <td>ERS1421383</td>\n",
       "      <td>ERR1701286</td>\n",
       "      <td>3.0</td>\n",
       "      <td>NaN</td>\n",
       "      <td>Scalp</td>\n",
       "      <td>Health</td>\n",
       "    </tr>\n",
       "    <tr>\n",
       "      <th>81</th>\n",
       "      <td>ERS1421384</td>\n",
       "      <td>ERR1701287</td>\n",
       "      <td>3.0</td>\n",
       "      <td>NaN</td>\n",
       "      <td>Forehead</td>\n",
       "      <td>Health</td>\n",
       "    </tr>\n",
       "    <tr>\n",
       "      <th>82</th>\n",
       "      <td>ERS1421385</td>\n",
       "      <td>ERR1701288</td>\n",
       "      <td>3.0</td>\n",
       "      <td>NaN</td>\n",
       "      <td>Scalp</td>\n",
       "      <td>Health</td>\n",
       "    </tr>\n",
       "    <tr>\n",
       "      <th>83</th>\n",
       "      <td>ERS1421386</td>\n",
       "      <td>ERR1701289</td>\n",
       "      <td>3.0</td>\n",
       "      <td>NaN</td>\n",
       "      <td>Forehead</td>\n",
       "      <td>Health</td>\n",
       "    </tr>\n",
       "    <tr>\n",
       "      <th>84</th>\n",
       "      <td>ERS1421387</td>\n",
       "      <td>ERR1701290</td>\n",
       "      <td>3.0</td>\n",
       "      <td>NaN</td>\n",
       "      <td>Scalp</td>\n",
       "      <td>Health</td>\n",
       "    </tr>\n",
       "    <tr>\n",
       "      <th>85</th>\n",
       "      <td>ERS1421388</td>\n",
       "      <td>ERR1701291</td>\n",
       "      <td>3.0</td>\n",
       "      <td>NaN</td>\n",
       "      <td>Forehead</td>\n",
       "      <td>Health</td>\n",
       "    </tr>\n",
       "    <tr>\n",
       "      <th>86</th>\n",
       "      <td>ERS1421389</td>\n",
       "      <td>ERR1701292</td>\n",
       "      <td>3.0</td>\n",
       "      <td>NaN</td>\n",
       "      <td>Scalp</td>\n",
       "      <td>Health</td>\n",
       "    </tr>\n",
       "    <tr>\n",
       "      <th>87</th>\n",
       "      <td>ERS1421390</td>\n",
       "      <td>ERR1701293</td>\n",
       "      <td>3.0</td>\n",
       "      <td>NaN</td>\n",
       "      <td>Forehead</td>\n",
       "      <td>Health</td>\n",
       "    </tr>\n",
       "    <tr>\n",
       "      <th>88</th>\n",
       "      <td>ERS1421391</td>\n",
       "      <td>ERR1701294</td>\n",
       "      <td>3.0</td>\n",
       "      <td>NaN</td>\n",
       "      <td>Scalp</td>\n",
       "      <td>Health</td>\n",
       "    </tr>\n",
       "    <tr>\n",
       "      <th>89</th>\n",
       "      <td>ERS1421392</td>\n",
       "      <td>ERR1701295</td>\n",
       "      <td>3.0</td>\n",
       "      <td>NaN</td>\n",
       "      <td>Forehead</td>\n",
       "      <td>Health</td>\n",
       "    </tr>\n",
       "    <tr>\n",
       "      <th>90</th>\n",
       "      <td>ERS1421393</td>\n",
       "      <td>ERR1701296</td>\n",
       "      <td>3.0</td>\n",
       "      <td>NaN</td>\n",
       "      <td>Scalp</td>\n",
       "      <td>Health</td>\n",
       "    </tr>\n",
       "    <tr>\n",
       "      <th>91</th>\n",
       "      <td>ERS1421394</td>\n",
       "      <td>ERR1701297</td>\n",
       "      <td>3.0</td>\n",
       "      <td>NaN</td>\n",
       "      <td>Forehead</td>\n",
       "      <td>Health</td>\n",
       "    </tr>\n",
       "    <tr>\n",
       "      <th>92</th>\n",
       "      <td>ERS1421395</td>\n",
       "      <td>ERR1701298</td>\n",
       "      <td>3.0</td>\n",
       "      <td>NaN</td>\n",
       "      <td>Scalp</td>\n",
       "      <td>Health</td>\n",
       "    </tr>\n",
       "    <tr>\n",
       "      <th>93</th>\n",
       "      <td>ERS1421396</td>\n",
       "      <td>ERR1701299</td>\n",
       "      <td>3.0</td>\n",
       "      <td>NaN</td>\n",
       "      <td>Forehead</td>\n",
       "      <td>Health</td>\n",
       "    </tr>\n",
       "    <tr>\n",
       "      <th>94</th>\n",
       "      <td>ERS1421397</td>\n",
       "      <td>ERR1701300</td>\n",
       "      <td>3.0</td>\n",
       "      <td>NaN</td>\n",
       "      <td>Scalp</td>\n",
       "      <td>Health</td>\n",
       "    </tr>\n",
       "    <tr>\n",
       "      <th>95</th>\n",
       "      <td>ERS1421398</td>\n",
       "      <td>ERR1701301</td>\n",
       "      <td>3.0</td>\n",
       "      <td>NaN</td>\n",
       "      <td>Forehead</td>\n",
       "      <td>Health</td>\n",
       "    </tr>\n",
       "  </tbody>\n",
       "</table>\n",
       "<p>96 rows × 6 columns</p>\n",
       "</div>"
      ],
      "text/plain": [
       "     Sample_ID      Run_ID  Release_version  Sex Body_site   Disease\n",
       "0   ERS1421303  ERR1701206              3.0  NaN     Scalp  Dandruff\n",
       "1   ERS1421304  ERR1701207              3.0  NaN  Forehead  Dandruff\n",
       "2   ERS1421305  ERR1701208              3.0  NaN     Scalp  Dandruff\n",
       "3   ERS1421306  ERR1701209              3.0  NaN  Forehead  Dandruff\n",
       "4   ERS1421307  ERR1701210              3.0  NaN     Scalp  Dandruff\n",
       "5   ERS1421308  ERR1701211              3.0  NaN  Forehead  Dandruff\n",
       "6   ERS1421309  ERR1701212              3.0  NaN     Scalp  Dandruff\n",
       "7   ERS1421310  ERR1701213              3.0  NaN  Forehead  Dandruff\n",
       "8   ERS1421311  ERR1701214              3.0  NaN     Scalp  Dandruff\n",
       "9   ERS1421312  ERR1701215              3.0  NaN  Forehead  Dandruff\n",
       "10  ERS1421313  ERR1701216              3.0  NaN     Scalp  Dandruff\n",
       "11  ERS1421314  ERR1701217              3.0  NaN  Forehead  Dandruff\n",
       "12  ERS1421315  ERR1701218              3.0  NaN     Scalp  Dandruff\n",
       "13  ERS1421316  ERR1701219              3.0  NaN  Forehead  Dandruff\n",
       "14  ERS1421317  ERR1701220              3.0  NaN     Scalp  Dandruff\n",
       "15  ERS1421318  ERR1701221              3.0  NaN  Forehead  Dandruff\n",
       "16  ERS1421319  ERR1701222              3.0  NaN     Scalp  Dandruff\n",
       "17  ERS1421320  ERR1701223              3.0  NaN  Forehead  Dandruff\n",
       "18  ERS1421321  ERR1701224              3.0  NaN     Scalp  Dandruff\n",
       "19  ERS1421322  ERR1701225              3.0  NaN  Forehead  Dandruff\n",
       "20  ERS1421323  ERR1701226              3.0  NaN     Scalp  Dandruff\n",
       "21  ERS1421324  ERR1701227              3.0  NaN  Forehead  Dandruff\n",
       "22  ERS1421325  ERR1701228              3.0  NaN     Scalp  Dandruff\n",
       "23  ERS1421326  ERR1701229              3.0  NaN  Forehead  Dandruff\n",
       "24  ERS1421327  ERR1701230              3.0  NaN     Scalp  Dandruff\n",
       "25  ERS1421328  ERR1701231              3.0  NaN  Forehead  Dandruff\n",
       "26  ERS1421329  ERR1701232              3.0  NaN     Scalp    Health\n",
       "27  ERS1421330  ERR1701233              3.0  NaN  Forehead    Health\n",
       "28  ERS1421331  ERR1701234              3.0  NaN     Scalp    Health\n",
       "29  ERS1421332  ERR1701235              3.0  NaN  Forehead    Health\n",
       "..         ...         ...              ...  ...       ...       ...\n",
       "66  ERS1421369  ERR1701272              3.0  NaN     Scalp  Dandruff\n",
       "67  ERS1421370  ERR1701273              3.0  NaN  Forehead  Dandruff\n",
       "68  ERS1421371  ERR1701274              3.0  NaN     Scalp  Dandruff\n",
       "69  ERS1421372  ERR1701275              3.0  NaN  Forehead  Dandruff\n",
       "70  ERS1421373  ERR1701276              3.0  NaN     Scalp  Dandruff\n",
       "71  ERS1421374  ERR1701277              3.0  NaN  Forehead  Dandruff\n",
       "72  ERS1421375  ERR1701278              3.0  NaN     Scalp  Dandruff\n",
       "73  ERS1421376  ERR1701279              3.0  NaN  Forehead  Dandruff\n",
       "74  ERS1421377  ERR1701280              3.0  NaN     Scalp    Health\n",
       "75  ERS1421378  ERR1701281              3.0  NaN  Forehead    Health\n",
       "76  ERS1421379  ERR1701282              3.0  NaN     Scalp    Health\n",
       "77  ERS1421380  ERR1701283              3.0  NaN  Forehead    Health\n",
       "78  ERS1421381  ERR1701284              3.0  NaN     Scalp    Health\n",
       "79  ERS1421382  ERR1701285              3.0  NaN  Forehead    Health\n",
       "80  ERS1421383  ERR1701286              3.0  NaN     Scalp    Health\n",
       "81  ERS1421384  ERR1701287              3.0  NaN  Forehead    Health\n",
       "82  ERS1421385  ERR1701288              3.0  NaN     Scalp    Health\n",
       "83  ERS1421386  ERR1701289              3.0  NaN  Forehead    Health\n",
       "84  ERS1421387  ERR1701290              3.0  NaN     Scalp    Health\n",
       "85  ERS1421388  ERR1701291              3.0  NaN  Forehead    Health\n",
       "86  ERS1421389  ERR1701292              3.0  NaN     Scalp    Health\n",
       "87  ERS1421390  ERR1701293              3.0  NaN  Forehead    Health\n",
       "88  ERS1421391  ERR1701294              3.0  NaN     Scalp    Health\n",
       "89  ERS1421392  ERR1701295              3.0  NaN  Forehead    Health\n",
       "90  ERS1421393  ERR1701296              3.0  NaN     Scalp    Health\n",
       "91  ERS1421394  ERR1701297              3.0  NaN  Forehead    Health\n",
       "92  ERS1421395  ERR1701298              3.0  NaN     Scalp    Health\n",
       "93  ERS1421396  ERR1701299              3.0  NaN  Forehead    Health\n",
       "94  ERS1421397  ERR1701300              3.0  NaN     Scalp    Health\n",
       "95  ERS1421398  ERR1701301              3.0  NaN  Forehead    Health\n",
       "\n",
       "[96 rows x 6 columns]"
      ]
     },
     "execution_count": 178,
     "metadata": {},
     "output_type": "execute_result"
    }
   ],
   "source": [
    "#Delete empty datas\n",
    "df = df_result_raw\n",
    "df_result_refine = df[df_result_raw != '#N/A ']\n",
    "df_result_refine['Body_site'] = df_result_refine['Body_site'].str.strip()\n",
    "df_result_refine['Disease'] = df_result_refine['Disease'].str.strip()\n",
    "df_result_refine.to_csv('05_sample_'+study2+'_meta_refine.csv')\n",
    "df_result_refine"
   ]
  },
  {
   "cell_type": "code",
   "execution_count": 30,
   "metadata": {},
   "outputs": [
    {
     "name": "stdout",
     "output_type": "stream",
     "text": [
      "['Scalp', 'Forehead']\n",
      "['Health', 'Dandruff']\n"
     ]
    }
   ],
   "source": [
    "#Create a list of values in body site metadata\n",
    "meta_list = df_result_refine[\"Body_site\"].tolist()\n",
    "meta_list_refine = list(set(meta_list))\n",
    "for i in range(len(meta_list_refine)):\n",
    "    meta_list_refine[i] = meta_list_refine[i].strip()\n",
    "\n",
    "meta_list2 = df_result_refine[\"Disease\"].tolist()\n",
    "meta_list2_refine = list(set(meta_list2))\n",
    "for i in range(len(meta_list2_refine)):\n",
    "    meta_list2_refine[i] = meta_list2_refine[i].strip()\n",
    "\n",
    "print(meta_list_refine)\n",
    "print(meta_list2_refine)"
   ]
  },
  {
   "cell_type": "markdown",
   "metadata": {},
   "source": [
    "### 2.3. ERP019566: Longitudinal study of the diabetic skin and wo...\n",
    "#### 2.3.1 Get list of sample for the given study and its metadata\n",
    "\n",
    "Get study: https://www.ebi.ac.uk/metagenomics/api/latest/studies/ERP019566  \n",
    "List samples: https://www.ebi.ac.uk/metagenomics/api/latest/studies/ERP019566/samples  \n",
    "Fetch samples for the given study accession: https://www.ebi.ac.uk/metagenomics/api/latest/samples?study_accession=ERP019566 "
   ]
  },
  {
   "cell_type": "code",
   "execution_count": 58,
   "metadata": {},
   "outputs": [],
   "source": [
    "#Selected study\n",
    "study3 = 'ERP019566'"
   ]
  },
  {
   "cell_type": "code",
   "execution_count": 59,
   "metadata": {},
   "outputs": [
    {
     "name": "stdout",
     "output_type": "stream",
     "text": [
      "03_sample_ERP019566_raw.csv\n"
     ]
    }
   ],
   "source": [
    "#Fetch a list of sample data from a given study\n",
    "filename_sample = '03_sample_'+study3+'_raw.csv'\n",
    "print(filename_sample)\n",
    "if not os.path.isfile(filename_sample):\n",
    "    with open(filename_sample, 'wb') as f:\n",
    "        c = pycurl.Curl()\n",
    "        c.setopt(c.URL, 'https://www.ebi.ac.uk/metagenomics/projects/'+study3+'/overview/doExport')\n",
    "        c.setopt(c.WRITEDATA, f)\n",
    "        c.perform()\n",
    "        c.close()"
   ]
  },
  {
   "cell_type": "code",
   "execution_count": 60,
   "metadata": {},
   "outputs": [],
   "source": [
    "#Filter relevant information from the list\n",
    "df_sample = pd.read_csv(filename_sample)\n",
    "df_sample_refine = df_sample[[\"Sample ID\",\"Run ID\",\"Release version\"]]"
   ]
  },
  {
   "cell_type": "code",
   "execution_count": 75,
   "metadata": {},
   "outputs": [
    {
     "data": {
      "text/plain": [
       "[{'key': 'investigation type', 'unit': None, 'value': 'metagenome'},\n",
       " {'key': 'geographic location (longitude)', 'unit': None, 'value': '151.2005'},\n",
       " {'key': 'geographic location (country and/or sea,region)',\n",
       "  'unit': None,\n",
       "  'value': 'Australia'},\n",
       " {'key': 'collection date', 'unit': None, 'value': '2014-01-01/2014-12-31'},\n",
       " {'key': 'environment (biome)',\n",
       "  'unit': None,\n",
       "  'value': 'human-associated habitat'},\n",
       " {'key': 'environment (feature)',\n",
       "  'unit': None,\n",
       "  'value': 'foot plantar aspect'},\n",
       " {'key': 'environment (material)', 'unit': None, 'value': 'skin'},\n",
       " {'key': 'environmental package', 'unit': None, 'value': 'human-skin'},\n",
       " {'key': 'sequencing method',\n",
       "  'unit': None,\n",
       "  'value': '16S amplicon sequencing Illumina MiSeq'},\n",
       " {'key': 'geographic location (latitude)', 'unit': None, 'value': '33.8832'},\n",
       " {'key': 'instrument model', 'unit': None, 'value': 'Illumina MiSeq'}]"
      ]
     },
     "execution_count": 75,
     "metadata": {},
     "output_type": "execute_result"
    }
   ],
   "source": [
    "#check available metadata key\n",
    "with Session(API_BASE) as s:\n",
    "    s_meta = s.get('samples', df_sample_refine.loc[6, \"Sample ID\"]).resource\n",
    "s_meta.sample_metadata\n"
   ]
  },
  {
   "cell_type": "code",
   "execution_count": 74,
   "metadata": {},
   "outputs": [
    {
     "data": {
      "text/plain": [
       "'Control patient 1 left foot time 3'"
      ]
     },
     "execution_count": 74,
     "metadata": {},
     "output_type": "execute_result"
    }
   ],
   "source": [
    "s_meta.sample_name"
   ]
  },
  {
   "cell_type": "code",
   "execution_count": 79,
   "metadata": {},
   "outputs": [
    {
     "data": {
      "application/vnd.jupyter.widget-view+json": {
       "model_id": "5e58dd111ac64e0eb17c2dd2ddc5db9d",
       "version_major": 2,
       "version_minor": 0
      },
      "text/plain": [
       "HBox(children=(IntProgress(value=0, max=258), HTML(value='')))"
      ]
     },
     "metadata": {},
     "output_type": "display_data"
    }
   ],
   "source": [
    "#Create Container\n",
    "if not os.path.isfile('04_raw_meta_'+study3+'.csv'):\n",
    "    df_meta = DataFrame(columns=('Sex',\"Body site\", \"Description\"))\n",
    "    df_meta.index.name = 'No'\n",
    "else:\n",
    "    df_meta = pd.read_csv('04_raw_meta_'+study3+'.csv', index_col=0)\n",
    "\n",
    "#Fetch metadata for given sample\n",
    "pbar = tqdm_notebook(range(len(df_sample_refine))) #to make progressbar\n",
    "for i in pbar:\n",
    "    if not i in df_meta.index:\n",
    "        with Session(API_BASE) as s:\n",
    "            s_meta = s.get('samples', df_sample_refine.loc[i, \"Sample ID\"]).resource\n",
    "            df_meta.loc[i] = [\n",
    "                get_metadata(s_meta.sample_metadata, 'sex'),\n",
    "                get_metadata(s_meta.sample_metadata, 'environment (feature)'),\n",
    "                s_meta.sample_desc\n",
    "            ]\n",
    "        pbar.set_description('processed: %d' % (i))\n",
    "        pbar.update(1)\n",
    "        sleep(1)"
   ]
  },
  {
   "cell_type": "code",
   "execution_count": 83,
   "metadata": {},
   "outputs": [],
   "source": [
    "#Write to container\n",
    "df_meta.to_csv('04_raw_meta_'+study3+'.csv')"
   ]
  },
  {
   "cell_type": "code",
   "execution_count": 84,
   "metadata": {},
   "outputs": [],
   "source": [
    "#Merge metadata with the raw sample list\n",
    "result = pd.concat([df_sample_refine, df_meta], axis=1)\n",
    "result.to_csv('05_sample_'+study3+'_meta.csv')"
   ]
  },
  {
   "cell_type": "markdown",
   "metadata": {},
   "source": [
    "#### 2.3.2. Query samples based on its metadata"
   ]
  },
  {
   "cell_type": "code",
   "execution_count": 210,
   "metadata": {},
   "outputs": [],
   "source": [
    "#Load sample list\n",
    "df_result_raw = pd.read_csv('05_sample_'+study3+'_meta.csv', index_col = 0)"
   ]
  },
  {
   "cell_type": "code",
   "execution_count": 211,
   "metadata": {},
   "outputs": [],
   "source": [
    "#Refine the column name to make it easier for filtering \n",
    "df_result_raw.columns = df_result_raw.columns.str.replace(' ', '_') \n",
    "#df_result_raw"
   ]
  },
  {
   "cell_type": "code",
   "execution_count": 212,
   "metadata": {},
   "outputs": [],
   "source": [
    "#Delete empty datas\n",
    "df = df_result_raw\n",
    "df_result_refine = df[df_result_raw != '#N/A ']\n",
    "df_result_refine['Body_site'] = df_result_refine['Body_site'].str.strip()\n",
    "df_result_refine['Description'] = df_result_refine['Description'].str.strip()\n",
    "df_result_refine.to_csv('05_sample_'+study3+'_meta_refine.csv')\n",
    "#df_result_refine"
   ]
  },
  {
   "cell_type": "code",
   "execution_count": 89,
   "metadata": {},
   "outputs": [
    {
     "name": "stdout",
     "output_type": "stream",
     "text": [
      "['foot plantar aspect']\n",
      "['control_skin_right', 'Positive_3', 'Positive_4', 'diabetic_skin_contra', 'No_DNA_4', 'diabetic_skin_adj', 'control_skin_left', 'Blank_3', 'wound_deb', 'wound_swab', 'Blank_4', 'No_DNA3']\n"
     ]
    }
   ],
   "source": [
    "#Create a list of values in body site metadata\n",
    "meta_list = df_result_refine[\"Body_site\"].tolist()\n",
    "meta_list_refine = list(set(meta_list))\n",
    "for i in range(len(meta_list_refine)):\n",
    "    meta_list_refine[i] = meta_list_refine[i].strip()\n",
    "\n",
    "meta_list2 = df_result_refine[\"Description\"].tolist()\n",
    "meta_list2_refine = list(set(meta_list2))\n",
    "for i in range(len(meta_list2_refine)):\n",
    "    meta_list2_refine[i] = meta_list2_refine[i].strip()\n",
    "\n",
    "print(meta_list_refine)\n",
    "print(meta_list2_refine)"
   ]
  },
  {
   "cell_type": "markdown",
   "metadata": {},
   "source": [
    "## 3. Random sampling from each study to do comparison\n",
    "From the data above, we can compare some samples according to the body sites:\n",
    "1. Foot plantar aspect from control samples of study ERP019566 (Australia) vs plantar heel samples from study SRP002480 (USA)\n",
    "2. Healthy Scalp samples from study vs ERP018577 (Brazil) vs occiput samples from study SRP002480 (USA)"
   ]
  },
  {
   "cell_type": "markdown",
   "metadata": {},
   "source": [
    "### 3.1 Random sampling of occiput and plantar heel samples from study SRP002480 (male & femalae)"
   ]
  },
  {
   "cell_type": "code",
   "execution_count": 147,
   "metadata": {},
   "outputs": [],
   "source": [
    "df = pd.read_csv('05_sample_'+study+'_meta_refine.csv', index_col = 0)       \n",
    "sex_cat = ['female', 'male']\n",
    "bs = ['plantar heel', 'occiput']"
   ]
  },
  {
   "cell_type": "code",
   "execution_count": 170,
   "metadata": {},
   "outputs": [
    {
     "data": {
      "text/html": [
       "<div>\n",
       "<style scoped>\n",
       "    .dataframe tbody tr th:only-of-type {\n",
       "        vertical-align: middle;\n",
       "    }\n",
       "\n",
       "    .dataframe tbody tr th {\n",
       "        vertical-align: top;\n",
       "    }\n",
       "\n",
       "    .dataframe thead th {\n",
       "        text-align: right;\n",
       "    }\n",
       "</style>\n",
       "<table border=\"1\" class=\"dataframe\">\n",
       "  <thead>\n",
       "    <tr style=\"text-align: right;\">\n",
       "      <th></th>\n",
       "      <th>Study_ID</th>\n",
       "      <th>Sample_ID</th>\n",
       "      <th>Run_ID</th>\n",
       "      <th>Release_version</th>\n",
       "      <th>Sex</th>\n",
       "      <th>Body_site</th>\n",
       "    </tr>\n",
       "  </thead>\n",
       "  <tbody>\n",
       "    <tr>\n",
       "      <th>0</th>\n",
       "      <td>SRP002480</td>\n",
       "      <td>SRS451776</td>\n",
       "      <td>SRR920257</td>\n",
       "      <td>2.0</td>\n",
       "      <td>female</td>\n",
       "      <td>plantar heel</td>\n",
       "    </tr>\n",
       "    <tr>\n",
       "      <th>1</th>\n",
       "      <td>SRP002480</td>\n",
       "      <td>SRS451759</td>\n",
       "      <td>SRR920208</td>\n",
       "      <td>2.0</td>\n",
       "      <td>female</td>\n",
       "      <td>plantar heel</td>\n",
       "    </tr>\n",
       "    <tr>\n",
       "      <th>2</th>\n",
       "      <td>SRP002480</td>\n",
       "      <td>SRS451470</td>\n",
       "      <td>SRR919640</td>\n",
       "      <td>2.0</td>\n",
       "      <td>female</td>\n",
       "      <td>plantar heel</td>\n",
       "    </tr>\n",
       "    <tr>\n",
       "      <th>3</th>\n",
       "      <td>SRP002480</td>\n",
       "      <td>SRS451469</td>\n",
       "      <td>SRR919639</td>\n",
       "      <td>2.0</td>\n",
       "      <td>female</td>\n",
       "      <td>plantar heel</td>\n",
       "    </tr>\n",
       "    <tr>\n",
       "      <th>4</th>\n",
       "      <td>SRP002480</td>\n",
       "      <td>SRS451588</td>\n",
       "      <td>SRR919858</td>\n",
       "      <td>2.0</td>\n",
       "      <td>female</td>\n",
       "      <td>plantar heel</td>\n",
       "    </tr>\n",
       "    <tr>\n",
       "      <th>5</th>\n",
       "      <td>SRP002480</td>\n",
       "      <td>SRS451593</td>\n",
       "      <td>SRR919914</td>\n",
       "      <td>2.0</td>\n",
       "      <td>female</td>\n",
       "      <td>occiput</td>\n",
       "    </tr>\n",
       "    <tr>\n",
       "      <th>6</th>\n",
       "      <td>SRP002480</td>\n",
       "      <td>SRS451777</td>\n",
       "      <td>SRR920225</td>\n",
       "      <td>2.0</td>\n",
       "      <td>female</td>\n",
       "      <td>occiput</td>\n",
       "    </tr>\n",
       "    <tr>\n",
       "      <th>7</th>\n",
       "      <td>SRP002480</td>\n",
       "      <td>SRS452030</td>\n",
       "      <td>SRR920903</td>\n",
       "      <td>2.0</td>\n",
       "      <td>female</td>\n",
       "      <td>occiput</td>\n",
       "    </tr>\n",
       "    <tr>\n",
       "      <th>8</th>\n",
       "      <td>SRP002480</td>\n",
       "      <td>SRS452122</td>\n",
       "      <td>SRR921121</td>\n",
       "      <td>2.0</td>\n",
       "      <td>female</td>\n",
       "      <td>occiput</td>\n",
       "    </tr>\n",
       "    <tr>\n",
       "      <th>9</th>\n",
       "      <td>SRP002480</td>\n",
       "      <td>SRS451904</td>\n",
       "      <td>SRR920702</td>\n",
       "      <td>2.0</td>\n",
       "      <td>female</td>\n",
       "      <td>occiput</td>\n",
       "    </tr>\n",
       "    <tr>\n",
       "      <th>10</th>\n",
       "      <td>SRP002480</td>\n",
       "      <td>SRS451882</td>\n",
       "      <td>SRR920680</td>\n",
       "      <td>2.0</td>\n",
       "      <td>male</td>\n",
       "      <td>plantar heel</td>\n",
       "    </tr>\n",
       "    <tr>\n",
       "      <th>11</th>\n",
       "      <td>SRP002480</td>\n",
       "      <td>SRS452119</td>\n",
       "      <td>SRR921055</td>\n",
       "      <td>2.0</td>\n",
       "      <td>male</td>\n",
       "      <td>plantar heel</td>\n",
       "    </tr>\n",
       "    <tr>\n",
       "      <th>12</th>\n",
       "      <td>SRP002480</td>\n",
       "      <td>SRS452142</td>\n",
       "      <td>SRR921141</td>\n",
       "      <td>2.0</td>\n",
       "      <td>male</td>\n",
       "      <td>plantar heel</td>\n",
       "    </tr>\n",
       "    <tr>\n",
       "      <th>13</th>\n",
       "      <td>SRP002480</td>\n",
       "      <td>SRS452102</td>\n",
       "      <td>SRR921038</td>\n",
       "      <td>2.0</td>\n",
       "      <td>male</td>\n",
       "      <td>plantar heel</td>\n",
       "    </tr>\n",
       "    <tr>\n",
       "      <th>14</th>\n",
       "      <td>SRP002480</td>\n",
       "      <td>SRS452110</td>\n",
       "      <td>SRR921046</td>\n",
       "      <td>2.0</td>\n",
       "      <td>male</td>\n",
       "      <td>plantar heel</td>\n",
       "    </tr>\n",
       "    <tr>\n",
       "      <th>15</th>\n",
       "      <td>SRP002480</td>\n",
       "      <td>SRS451617</td>\n",
       "      <td>SRR919938</td>\n",
       "      <td>2.0</td>\n",
       "      <td>male</td>\n",
       "      <td>occiput</td>\n",
       "    </tr>\n",
       "    <tr>\n",
       "      <th>16</th>\n",
       "      <td>SRP002480</td>\n",
       "      <td>SRS451447</td>\n",
       "      <td>SRR919617</td>\n",
       "      <td>2.0</td>\n",
       "      <td>male</td>\n",
       "      <td>occiput</td>\n",
       "    </tr>\n",
       "    <tr>\n",
       "      <th>17</th>\n",
       "      <td>SRP002480</td>\n",
       "      <td>SRS451880</td>\n",
       "      <td>SRR920678</td>\n",
       "      <td>2.0</td>\n",
       "      <td>male</td>\n",
       "      <td>occiput</td>\n",
       "    </tr>\n",
       "    <tr>\n",
       "      <th>18</th>\n",
       "      <td>SRP002480</td>\n",
       "      <td>SRS452092</td>\n",
       "      <td>SRR921029</td>\n",
       "      <td>2.0</td>\n",
       "      <td>male</td>\n",
       "      <td>occiput</td>\n",
       "    </tr>\n",
       "    <tr>\n",
       "      <th>19</th>\n",
       "      <td>SRP002480</td>\n",
       "      <td>SRS451431</td>\n",
       "      <td>SRR919601</td>\n",
       "      <td>2.0</td>\n",
       "      <td>male</td>\n",
       "      <td>occiput</td>\n",
       "    </tr>\n",
       "  </tbody>\n",
       "</table>\n",
       "</div>"
      ],
      "text/plain": [
       "     Study_ID  Sample_ID     Run_ID  Release_version     Sex     Body_site\n",
       "0   SRP002480  SRS451776  SRR920257              2.0  female  plantar heel\n",
       "1   SRP002480  SRS451759  SRR920208              2.0  female  plantar heel\n",
       "2   SRP002480  SRS451470  SRR919640              2.0  female  plantar heel\n",
       "3   SRP002480  SRS451469  SRR919639              2.0  female  plantar heel\n",
       "4   SRP002480  SRS451588  SRR919858              2.0  female  plantar heel\n",
       "5   SRP002480  SRS451593  SRR919914              2.0  female       occiput\n",
       "6   SRP002480  SRS451777  SRR920225              2.0  female       occiput\n",
       "7   SRP002480  SRS452030  SRR920903              2.0  female       occiput\n",
       "8   SRP002480  SRS452122  SRR921121              2.0  female       occiput\n",
       "9   SRP002480  SRS451904  SRR920702              2.0  female       occiput\n",
       "10  SRP002480  SRS451882  SRR920680              2.0    male  plantar heel\n",
       "11  SRP002480  SRS452119  SRR921055              2.0    male  plantar heel\n",
       "12  SRP002480  SRS452142  SRR921141              2.0    male  plantar heel\n",
       "13  SRP002480  SRS452102  SRR921038              2.0    male  plantar heel\n",
       "14  SRP002480  SRS452110  SRR921046              2.0    male  plantar heel\n",
       "15  SRP002480  SRS451617  SRR919938              2.0    male       occiput\n",
       "16  SRP002480  SRS451447  SRR919617              2.0    male       occiput\n",
       "17  SRP002480  SRS451880  SRR920678              2.0    male       occiput\n",
       "18  SRP002480  SRS452092  SRR921029              2.0    male       occiput\n",
       "19  SRP002480  SRS451431  SRR919601              2.0    male       occiput"
      ]
     },
     "execution_count": 170,
     "metadata": {},
     "output_type": "execute_result"
    }
   ],
   "source": [
    "df_merge = pd.DataFrame(columns=('Sample_ID', 'Run_ID', 'Release_version', 'Sex', 'Body_site'))\n",
    "\n",
    "for i in range(len(sex_cat)):\n",
    "    sex_cat_ = sex_cat[i]\n",
    "    for a in range(len(bs)):\n",
    "        bs_ = bs[a]\n",
    "        df_sort = df.query('Sex==@sex_cat_ and Body_site==@bs_')\n",
    "        dataframe = df_sort\n",
    "        amount = 5\n",
    "        df_random_sample = random_sampling(dataframe, amount)\n",
    "        df_merge = pd.concat([df_merge, df_random_sample], ignore_index=True)      \n",
    "\n",
    "df_study_id = []\n",
    "\n",
    "for i in range(len(df_merge)):\n",
    "    df_study_id.append(study)\n",
    "df_study_id = pd.DataFrame(df_study_id, columns=[\"Study_ID\"])\n",
    "\n",
    "df_merge = pd.concat([df_study_id, df_merge], axis=1)\n",
    "df_merge"
   ]
  },
  {
   "cell_type": "code",
   "execution_count": 171,
   "metadata": {},
   "outputs": [],
   "source": [
    "df_merge.to_csv('06_sampled_biom_'+study+'.csv')"
   ]
  },
  {
   "cell_type": "markdown",
   "metadata": {},
   "source": [
    "### 3.2 Random sampling of Healthy Scalp samples from study ERP018577 (Brazil)"
   ]
  },
  {
   "cell_type": "code",
   "execution_count": 197,
   "metadata": {},
   "outputs": [],
   "source": [
    "df = pd.read_csv('05_sample_'+study2+'_meta_refine.csv', index_col = 0)       \n",
    "bs = 'Scalp'\n",
    "des = 'Health'"
   ]
  },
  {
   "cell_type": "code",
   "execution_count": 200,
   "metadata": {},
   "outputs": [
    {
     "data": {
      "text/html": [
       "<div>\n",
       "<style scoped>\n",
       "    .dataframe tbody tr th:only-of-type {\n",
       "        vertical-align: middle;\n",
       "    }\n",
       "\n",
       "    .dataframe tbody tr th {\n",
       "        vertical-align: top;\n",
       "    }\n",
       "\n",
       "    .dataframe thead th {\n",
       "        text-align: right;\n",
       "    }\n",
       "</style>\n",
       "<table border=\"1\" class=\"dataframe\">\n",
       "  <thead>\n",
       "    <tr style=\"text-align: right;\">\n",
       "      <th></th>\n",
       "      <th>Study_ID</th>\n",
       "      <th>Sample_ID</th>\n",
       "      <th>Run_ID</th>\n",
       "      <th>Release_version</th>\n",
       "      <th>Sex</th>\n",
       "      <th>Body_site</th>\n",
       "      <th>Disease</th>\n",
       "    </tr>\n",
       "  </thead>\n",
       "  <tbody>\n",
       "    <tr>\n",
       "      <th>0</th>\n",
       "      <td>ERP018577</td>\n",
       "      <td>ERS1421377</td>\n",
       "      <td>ERR1701280</td>\n",
       "      <td>3.0</td>\n",
       "      <td>NaN</td>\n",
       "      <td>Scalp</td>\n",
       "      <td>Health</td>\n",
       "    </tr>\n",
       "    <tr>\n",
       "      <th>1</th>\n",
       "      <td>ERP018577</td>\n",
       "      <td>ERS1421389</td>\n",
       "      <td>ERR1701292</td>\n",
       "      <td>3.0</td>\n",
       "      <td>NaN</td>\n",
       "      <td>Scalp</td>\n",
       "      <td>Health</td>\n",
       "    </tr>\n",
       "    <tr>\n",
       "      <th>2</th>\n",
       "      <td>ERP018577</td>\n",
       "      <td>ERS1421383</td>\n",
       "      <td>ERR1701286</td>\n",
       "      <td>3.0</td>\n",
       "      <td>NaN</td>\n",
       "      <td>Scalp</td>\n",
       "      <td>Health</td>\n",
       "    </tr>\n",
       "    <tr>\n",
       "      <th>3</th>\n",
       "      <td>ERP018577</td>\n",
       "      <td>ERS1421335</td>\n",
       "      <td>ERR1701238</td>\n",
       "      <td>3.0</td>\n",
       "      <td>NaN</td>\n",
       "      <td>Scalp</td>\n",
       "      <td>Health</td>\n",
       "    </tr>\n",
       "    <tr>\n",
       "      <th>4</th>\n",
       "      <td>ERP018577</td>\n",
       "      <td>ERS1421381</td>\n",
       "      <td>ERR1701284</td>\n",
       "      <td>3.0</td>\n",
       "      <td>NaN</td>\n",
       "      <td>Scalp</td>\n",
       "      <td>Health</td>\n",
       "    </tr>\n",
       "  </tbody>\n",
       "</table>\n",
       "</div>"
      ],
      "text/plain": [
       "    Study_ID   Sample_ID      Run_ID  Release_version  Sex Body_site Disease\n",
       "0  ERP018577  ERS1421377  ERR1701280              3.0  NaN     Scalp  Health\n",
       "1  ERP018577  ERS1421389  ERR1701292              3.0  NaN     Scalp  Health\n",
       "2  ERP018577  ERS1421383  ERR1701286              3.0  NaN     Scalp  Health\n",
       "3  ERP018577  ERS1421335  ERR1701238              3.0  NaN     Scalp  Health\n",
       "4  ERP018577  ERS1421381  ERR1701284              3.0  NaN     Scalp  Health"
      ]
     },
     "execution_count": 200,
     "metadata": {},
     "output_type": "execute_result"
    }
   ],
   "source": [
    "df_merge = pd.DataFrame(columns=('Sample_ID', 'Run_ID', 'Release_version', 'Sex', 'Body_site', 'Disease'))\n",
    "\n",
    "df_sort = df.query('Body_site==@bs and Disease==@des')\n",
    "dataframe = df_sort\n",
    "amount = 5\n",
    "df_random_sample = random_sampling(dataframe, amount)\n",
    "df_merge = pd.concat([df_merge, df_random_sample], ignore_index=True)      \n",
    "\n",
    "df_study_id = []\n",
    "\n",
    "for i in range(len(df_merge)):\n",
    "    df_study_id.append(study2)\n",
    "df_study_id = pd.DataFrame(df_study_id, columns=[\"Study_ID\"])\n",
    "\n",
    "df_merge = pd.concat([df_study_id, df_merge], axis=1)\n",
    "df_merge"
   ]
  },
  {
   "cell_type": "code",
   "execution_count": 201,
   "metadata": {},
   "outputs": [],
   "source": [
    "df_merge.to_csv('06_sampled_biom_'+study2+'.csv')"
   ]
  },
  {
   "cell_type": "markdown",
   "metadata": {},
   "source": [
    "### 3.3 Random sampling of Foot plantar aspect from control samples of study ERP019566 (Australia)"
   ]
  },
  {
   "cell_type": "code",
   "execution_count": 213,
   "metadata": {},
   "outputs": [
    {
     "data": {
      "text/plain": [
       "'foot plantar aspect'"
      ]
     },
     "execution_count": 213,
     "metadata": {},
     "output_type": "execute_result"
    }
   ],
   "source": [
    "df = pd.read_csv('05_sample_'+study3+'_meta_refine.csv', index_col = 0)       \n",
    "bs = 'foot plantar aspect'\n",
    "des = ['control_skin_right', 'control_skin_left']\n",
    "df.loc[0, \"Body_site\"]"
   ]
  },
  {
   "cell_type": "code",
   "execution_count": 220,
   "metadata": {},
   "outputs": [
    {
     "data": {
      "text/html": [
       "<div>\n",
       "<style scoped>\n",
       "    .dataframe tbody tr th:only-of-type {\n",
       "        vertical-align: middle;\n",
       "    }\n",
       "\n",
       "    .dataframe tbody tr th {\n",
       "        vertical-align: top;\n",
       "    }\n",
       "\n",
       "    .dataframe thead th {\n",
       "        text-align: right;\n",
       "    }\n",
       "</style>\n",
       "<table border=\"1\" class=\"dataframe\">\n",
       "  <thead>\n",
       "    <tr style=\"text-align: right;\">\n",
       "      <th></th>\n",
       "      <th>Study_ID</th>\n",
       "      <th>Sample_ID</th>\n",
       "      <th>Run_ID</th>\n",
       "      <th>Release_version</th>\n",
       "      <th>Sex</th>\n",
       "      <th>Body_site</th>\n",
       "      <th>Description</th>\n",
       "    </tr>\n",
       "  </thead>\n",
       "  <tbody>\n",
       "    <tr>\n",
       "      <th>0</th>\n",
       "      <td>ERP019566</td>\n",
       "      <td>ERS1474791</td>\n",
       "      <td>ERR1760038</td>\n",
       "      <td>4.0</td>\n",
       "      <td>NaN</td>\n",
       "      <td>foot plantar aspect</td>\n",
       "      <td>control_skin_right</td>\n",
       "    </tr>\n",
       "    <tr>\n",
       "      <th>1</th>\n",
       "      <td>ERP019566</td>\n",
       "      <td>ERS1474780</td>\n",
       "      <td>ERR1760027</td>\n",
       "      <td>4.0</td>\n",
       "      <td>NaN</td>\n",
       "      <td>foot plantar aspect</td>\n",
       "      <td>control_skin_right</td>\n",
       "    </tr>\n",
       "    <tr>\n",
       "      <th>2</th>\n",
       "      <td>ERP019566</td>\n",
       "      <td>ERS1474511</td>\n",
       "      <td>ERR1759893</td>\n",
       "      <td>4.0</td>\n",
       "      <td>NaN</td>\n",
       "      <td>foot plantar aspect</td>\n",
       "      <td>control_skin_right</td>\n",
       "    </tr>\n",
       "    <tr>\n",
       "      <th>3</th>\n",
       "      <td>ERP019566</td>\n",
       "      <td>ERS1474797</td>\n",
       "      <td>ERR1760044</td>\n",
       "      <td>4.0</td>\n",
       "      <td>NaN</td>\n",
       "      <td>foot plantar aspect</td>\n",
       "      <td>control_skin_right</td>\n",
       "    </tr>\n",
       "    <tr>\n",
       "      <th>4</th>\n",
       "      <td>ERP019566</td>\n",
       "      <td>ERS1474793</td>\n",
       "      <td>ERR1760040</td>\n",
       "      <td>4.0</td>\n",
       "      <td>NaN</td>\n",
       "      <td>foot plantar aspect</td>\n",
       "      <td>control_skin_right</td>\n",
       "    </tr>\n",
       "    <tr>\n",
       "      <th>5</th>\n",
       "      <td>ERP019566</td>\n",
       "      <td>ERS1474566</td>\n",
       "      <td>ERR1759918</td>\n",
       "      <td>4.0</td>\n",
       "      <td>NaN</td>\n",
       "      <td>foot plantar aspect</td>\n",
       "      <td>control_skin_left</td>\n",
       "    </tr>\n",
       "    <tr>\n",
       "      <th>6</th>\n",
       "      <td>ERP019566</td>\n",
       "      <td>ERS1474502</td>\n",
       "      <td>ERR1759884</td>\n",
       "      <td>4.0</td>\n",
       "      <td>NaN</td>\n",
       "      <td>foot plantar aspect</td>\n",
       "      <td>control_skin_left</td>\n",
       "    </tr>\n",
       "    <tr>\n",
       "      <th>7</th>\n",
       "      <td>ERP019566</td>\n",
       "      <td>ERS1474571</td>\n",
       "      <td>ERR1759923</td>\n",
       "      <td>4.0</td>\n",
       "      <td>NaN</td>\n",
       "      <td>foot plantar aspect</td>\n",
       "      <td>control_skin_left</td>\n",
       "    </tr>\n",
       "    <tr>\n",
       "      <th>8</th>\n",
       "      <td>ERP019566</td>\n",
       "      <td>ERS1474573</td>\n",
       "      <td>ERR1759925</td>\n",
       "      <td>4.0</td>\n",
       "      <td>NaN</td>\n",
       "      <td>foot plantar aspect</td>\n",
       "      <td>control_skin_left</td>\n",
       "    </tr>\n",
       "    <tr>\n",
       "      <th>9</th>\n",
       "      <td>ERP019566</td>\n",
       "      <td>ERS1474796</td>\n",
       "      <td>ERR1760043</td>\n",
       "      <td>4.0</td>\n",
       "      <td>NaN</td>\n",
       "      <td>foot plantar aspect</td>\n",
       "      <td>control_skin_left</td>\n",
       "    </tr>\n",
       "  </tbody>\n",
       "</table>\n",
       "</div>"
      ],
      "text/plain": [
       "    Study_ID   Sample_ID      Run_ID  Release_version  Sex  \\\n",
       "0  ERP019566  ERS1474791  ERR1760038              4.0  NaN   \n",
       "1  ERP019566  ERS1474780  ERR1760027              4.0  NaN   \n",
       "2  ERP019566  ERS1474511  ERR1759893              4.0  NaN   \n",
       "3  ERP019566  ERS1474797  ERR1760044              4.0  NaN   \n",
       "4  ERP019566  ERS1474793  ERR1760040              4.0  NaN   \n",
       "5  ERP019566  ERS1474566  ERR1759918              4.0  NaN   \n",
       "6  ERP019566  ERS1474502  ERR1759884              4.0  NaN   \n",
       "7  ERP019566  ERS1474571  ERR1759923              4.0  NaN   \n",
       "8  ERP019566  ERS1474573  ERR1759925              4.0  NaN   \n",
       "9  ERP019566  ERS1474796  ERR1760043              4.0  NaN   \n",
       "\n",
       "             Body_site         Description  \n",
       "0  foot plantar aspect  control_skin_right  \n",
       "1  foot plantar aspect  control_skin_right  \n",
       "2  foot plantar aspect  control_skin_right  \n",
       "3  foot plantar aspect  control_skin_right  \n",
       "4  foot plantar aspect  control_skin_right  \n",
       "5  foot plantar aspect   control_skin_left  \n",
       "6  foot plantar aspect   control_skin_left  \n",
       "7  foot plantar aspect   control_skin_left  \n",
       "8  foot plantar aspect   control_skin_left  \n",
       "9  foot plantar aspect   control_skin_left  "
      ]
     },
     "execution_count": 220,
     "metadata": {},
     "output_type": "execute_result"
    }
   ],
   "source": [
    "df_merge = pd.DataFrame(columns=('Sample_ID', 'Run_ID', 'Release_version', 'Sex', 'Body_site', 'Description'))\n",
    "\n",
    "for i in range(len(des)):\n",
    "    des_ = des[i]\n",
    "    df_sort = df.query('Body_site==@bs and Description==@des_')\n",
    "    dataframe = df_sort\n",
    "    amount = 5\n",
    "    df_random_sample = random_sampling(dataframe, amount)\n",
    "    df_merge = pd.concat([df_merge, df_random_sample], ignore_index=True)      \n",
    "\n",
    "df_study_id = []\n",
    "\n",
    "for i in range(len(df_merge)):\n",
    "    df_study_id.append(study3)\n",
    "df_study_id = pd.DataFrame(df_study_id, columns=[\"Study_ID\"])\n",
    "\n",
    "df_merge = pd.concat([df_study_id, df_merge], axis=1)\n",
    "df_merge"
   ]
  },
  {
   "cell_type": "code",
   "execution_count": 221,
   "metadata": {},
   "outputs": [],
   "source": [
    "df_merge.to_csv('06_sampled_biom_'+study3+'.csv')"
   ]
  },
  {
   "cell_type": "markdown",
   "metadata": {},
   "source": [
    "## 4. Get analysis result of the given sample in the studies\n",
    "___\n",
    "https://www.ebi.ac.uk/metagenomics//projects/SRP002480/samples/SRS451457/runs/SRR919567/results/versions/2.0/taxonomy/OTU-table-HDF5-BIOM"
   ]
  },
  {
   "cell_type": "code",
   "execution_count": 5,
   "metadata": {},
   "outputs": [],
   "source": [
    "def download_biom(df_BIOM, extension, study):\n",
    "    #Create ouput folder\n",
    "    cwd = os.getcwd() #get current working directory\n",
    "    output_folder = \"\\output_\"+study #name of the output folder for a given study, use \\ for directory in windows\n",
    "    if not os.path.isdir(cwd + output_folder):\n",
    "        os.mkdir(cwd + output_folder)\n",
    "    new_dir = cwd + output_folder \n",
    "    new_dir\n",
    "    \n",
    "    #Ambil data dari EBI\n",
    "    for i in tqdm_notebook(df_BIOM.index):\n",
    "        os.chdir(new_dir) #pindah ke folder output\n",
    "        filename = df_BIOM.loc[i, \"Sample_ID\"]+'.biom'\n",
    "        if not os.path.isfile(filename):\n",
    "            link = get_analysis_result(df_BIOM.loc[i, \"Run_ID\"], extension)\n",
    "            with open(filename, 'wb') as f:\n",
    "                c = pycurl.Curl()\n",
    "                c.setopt(c.URL, link)\n",
    "                c.setopt(c.WRITEDATA, f)\n",
    "                c.perform()\n",
    "                c.close()\n",
    "        os.chdir(cwd) #balik ke folder semula\n",
    "    return"
   ]
  },
  {
   "cell_type": "code",
   "execution_count": 14,
   "metadata": {},
   "outputs": [
    {
     "data": {
      "application/vnd.jupyter.widget-view+json": {
       "model_id": "a0887cd458924f699d0934b3f6067b5d",
       "version_major": 2,
       "version_minor": 0
      },
      "text/plain": [
       "HBox(children=(IntProgress(value=0, max=20), HTML(value='')))"
      ]
     },
     "metadata": {},
     "output_type": "display_data"
    }
   ],
   "source": [
    "study = 'SRP002480'\n",
    "extension = 'JSON Biom'\n",
    "df_BIOM = pd.read_csv('06_sampled_biom_'+study+'.csv')\n",
    "download_biom(df_BIOM, extension, study)"
   ]
  },
  {
   "cell_type": "code",
   "execution_count": 15,
   "metadata": {},
   "outputs": [
    {
     "data": {
      "application/vnd.jupyter.widget-view+json": {
       "model_id": "35976f7d40c34d06b1e6d4191efd436c",
       "version_major": 2,
       "version_minor": 0
      },
      "text/plain": [
       "HBox(children=(IntProgress(value=0, max=5), HTML(value='')))"
      ]
     },
     "metadata": {},
     "output_type": "display_data"
    }
   ],
   "source": [
    "study = 'ERP018577'\n",
    "extension = 'JSON Biom'\n",
    "df_BIOM = pd.read_csv('06_sampled_biom_'+study+'.csv')\n",
    "download_biom(df_BIOM, extension, study)"
   ]
  },
  {
   "cell_type": "code",
   "execution_count": 16,
   "metadata": {},
   "outputs": [
    {
     "data": {
      "application/vnd.jupyter.widget-view+json": {
       "model_id": "939ee43ebd0746adaea5d4708451c1e0",
       "version_major": 2,
       "version_minor": 0
      },
      "text/plain": [
       "HBox(children=(IntProgress(value=0, max=10), HTML(value='')))"
      ]
     },
     "metadata": {},
     "output_type": "display_data"
    }
   ],
   "source": [
    "study = 'ERP019566'\n",
    "extension = 'JSON Biom'\n",
    "df_BIOM = pd.read_csv('06_sampled_biom_'+study+'.csv')\n",
    "download_biom(df_BIOM, extension, study)"
   ]
  },
  {
   "cell_type": "markdown",
   "metadata": {},
   "source": [
    "## 5. Create accompanying metadata for downloaded analysis\n",
    "___"
   ]
  },
  {
   "cell_type": "code",
   "execution_count": 17,
   "metadata": {},
   "outputs": [],
   "source": [
    "def download_metadata(df):\n",
    "    df_meta_random = DataFrame(columns=('#SampleID','BarcodeSequence','LinkerPrimerSequence', 'StudyID', 'RunID', 'Sex', 'BodySite', 'Description'))\n",
    "    pbar = tqdm_notebook(range(len(df))) #to make progressbar\n",
    "    for i in pbar:\n",
    "        df_meta_random.loc[i] = [df.loc[i, 'Sample_ID'], \\\n",
    "                                 '_', \\\n",
    "                                 '_', \\\n",
    "                                 df.loc[i, 'Study_ID'], \\\n",
    "                                 df.loc[i, 'Run_ID'], \\\n",
    "                                 df.loc[i, 'Sex'], \\\n",
    "                                 df.loc[i, 'Body_site'], \\\n",
    "                                 df.loc[i, 'Description']\n",
    "                                ]\n",
    "    return df_meta_random"
   ]
  },
  {
   "cell_type": "code",
   "execution_count": 18,
   "metadata": {},
   "outputs": [
    {
     "data": {
      "application/vnd.jupyter.widget-view+json": {
       "model_id": "8cc61f5840ad45c4b1d39953a2d73779",
       "version_major": 2,
       "version_minor": 0
      },
      "text/plain": [
       "HBox(children=(IntProgress(value=0, max=20), HTML(value='')))"
      ]
     },
     "metadata": {},
     "output_type": "display_data"
    },
    {
     "name": "stdout",
     "output_type": "stream",
     "text": [
      "\n"
     ]
    }
   ],
   "source": [
    "study = 'SRP002480'\n",
    "df_biom = pd.read_csv('06_sampled_biom_'+study+'.csv')\n",
    "df_meta_random1 = download_metadata(df_biom)\n",
    "df_meta_random1.to_csv('07_metadata_'+study+'.txt', sep=\"\\t\", index = False)"
   ]
  },
  {
   "cell_type": "code",
   "execution_count": 19,
   "metadata": {},
   "outputs": [
    {
     "data": {
      "application/vnd.jupyter.widget-view+json": {
       "model_id": "4eaa3164b21a4feda5a3d1f91419d500",
       "version_major": 2,
       "version_minor": 0
      },
      "text/plain": [
       "HBox(children=(IntProgress(value=0, max=5), HTML(value='')))"
      ]
     },
     "metadata": {},
     "output_type": "display_data"
    },
    {
     "name": "stdout",
     "output_type": "stream",
     "text": [
      "\n"
     ]
    }
   ],
   "source": [
    "study = 'ERP018577'\n",
    "df_biom = pd.read_csv('06_sampled_biom_'+study+'.csv')\n",
    "df_meta_random2 = download_metadata(df_biom)\n",
    "df_meta_random2.to_csv('07_metadata_'+study+'.txt', sep=\"\\t\", index = False)"
   ]
  },
  {
   "cell_type": "code",
   "execution_count": 22,
   "metadata": {},
   "outputs": [
    {
     "data": {
      "application/vnd.jupyter.widget-view+json": {
       "model_id": "a2625b25f7ac466fbd9e384bb47aff45",
       "version_major": 2,
       "version_minor": 0
      },
      "text/plain": [
       "HBox(children=(IntProgress(value=0, max=10), HTML(value='')))"
      ]
     },
     "metadata": {},
     "output_type": "display_data"
    },
    {
     "name": "stdout",
     "output_type": "stream",
     "text": [
      "\n"
     ]
    }
   ],
   "source": [
    "study= 'ERP019566'\n",
    "df_biom = pd.read_csv('06_sampled_biom_'+study+'.csv')\n",
    "df_meta_random3 = download_metadata(df_biom)\n",
    "df_meta_random3.to_csv('07_metadata_'+study+'.txt', sep=\"\\t\", index = False)"
   ]
  },
  {
   "cell_type": "code",
   "execution_count": 23,
   "metadata": {},
   "outputs": [
    {
     "data": {
      "text/html": [
       "<div>\n",
       "<style scoped>\n",
       "    .dataframe tbody tr th:only-of-type {\n",
       "        vertical-align: middle;\n",
       "    }\n",
       "\n",
       "    .dataframe tbody tr th {\n",
       "        vertical-align: top;\n",
       "    }\n",
       "\n",
       "    .dataframe thead th {\n",
       "        text-align: right;\n",
       "    }\n",
       "</style>\n",
       "<table border=\"1\" class=\"dataframe\">\n",
       "  <thead>\n",
       "    <tr style=\"text-align: right;\">\n",
       "      <th></th>\n",
       "      <th>#SampleID</th>\n",
       "      <th>BarcodeSequence</th>\n",
       "      <th>LinkerPrimerSequence</th>\n",
       "      <th>StudyID</th>\n",
       "      <th>RunID</th>\n",
       "      <th>Sex</th>\n",
       "      <th>BodySite</th>\n",
       "      <th>Description</th>\n",
       "    </tr>\n",
       "  </thead>\n",
       "  <tbody>\n",
       "    <tr>\n",
       "      <th>0</th>\n",
       "      <td>SRS451776</td>\n",
       "      <td>_</td>\n",
       "      <td>_</td>\n",
       "      <td>SRP002480</td>\n",
       "      <td>SRR920257</td>\n",
       "      <td>female</td>\n",
       "      <td>plantar heel</td>\n",
       "      <td>_</td>\n",
       "    </tr>\n",
       "    <tr>\n",
       "      <th>1</th>\n",
       "      <td>SRS451759</td>\n",
       "      <td>_</td>\n",
       "      <td>_</td>\n",
       "      <td>SRP002480</td>\n",
       "      <td>SRR920208</td>\n",
       "      <td>female</td>\n",
       "      <td>plantar heel</td>\n",
       "      <td>_</td>\n",
       "    </tr>\n",
       "    <tr>\n",
       "      <th>2</th>\n",
       "      <td>SRS451470</td>\n",
       "      <td>_</td>\n",
       "      <td>_</td>\n",
       "      <td>SRP002480</td>\n",
       "      <td>SRR919640</td>\n",
       "      <td>female</td>\n",
       "      <td>plantar heel</td>\n",
       "      <td>_</td>\n",
       "    </tr>\n",
       "    <tr>\n",
       "      <th>3</th>\n",
       "      <td>SRS451469</td>\n",
       "      <td>_</td>\n",
       "      <td>_</td>\n",
       "      <td>SRP002480</td>\n",
       "      <td>SRR919639</td>\n",
       "      <td>female</td>\n",
       "      <td>plantar heel</td>\n",
       "      <td>_</td>\n",
       "    </tr>\n",
       "    <tr>\n",
       "      <th>4</th>\n",
       "      <td>SRS451588</td>\n",
       "      <td>_</td>\n",
       "      <td>_</td>\n",
       "      <td>SRP002480</td>\n",
       "      <td>SRR919858</td>\n",
       "      <td>female</td>\n",
       "      <td>plantar heel</td>\n",
       "      <td>_</td>\n",
       "    </tr>\n",
       "    <tr>\n",
       "      <th>5</th>\n",
       "      <td>SRS451593</td>\n",
       "      <td>_</td>\n",
       "      <td>_</td>\n",
       "      <td>SRP002480</td>\n",
       "      <td>SRR919914</td>\n",
       "      <td>female</td>\n",
       "      <td>occiput</td>\n",
       "      <td>_</td>\n",
       "    </tr>\n",
       "    <tr>\n",
       "      <th>6</th>\n",
       "      <td>SRS451777</td>\n",
       "      <td>_</td>\n",
       "      <td>_</td>\n",
       "      <td>SRP002480</td>\n",
       "      <td>SRR920225</td>\n",
       "      <td>female</td>\n",
       "      <td>occiput</td>\n",
       "      <td>_</td>\n",
       "    </tr>\n",
       "    <tr>\n",
       "      <th>7</th>\n",
       "      <td>SRS452030</td>\n",
       "      <td>_</td>\n",
       "      <td>_</td>\n",
       "      <td>SRP002480</td>\n",
       "      <td>SRR920903</td>\n",
       "      <td>female</td>\n",
       "      <td>occiput</td>\n",
       "      <td>_</td>\n",
       "    </tr>\n",
       "    <tr>\n",
       "      <th>8</th>\n",
       "      <td>SRS452122</td>\n",
       "      <td>_</td>\n",
       "      <td>_</td>\n",
       "      <td>SRP002480</td>\n",
       "      <td>SRR921121</td>\n",
       "      <td>female</td>\n",
       "      <td>occiput</td>\n",
       "      <td>_</td>\n",
       "    </tr>\n",
       "    <tr>\n",
       "      <th>9</th>\n",
       "      <td>SRS451904</td>\n",
       "      <td>_</td>\n",
       "      <td>_</td>\n",
       "      <td>SRP002480</td>\n",
       "      <td>SRR920702</td>\n",
       "      <td>female</td>\n",
       "      <td>occiput</td>\n",
       "      <td>_</td>\n",
       "    </tr>\n",
       "    <tr>\n",
       "      <th>10</th>\n",
       "      <td>SRS451882</td>\n",
       "      <td>_</td>\n",
       "      <td>_</td>\n",
       "      <td>SRP002480</td>\n",
       "      <td>SRR920680</td>\n",
       "      <td>male</td>\n",
       "      <td>plantar heel</td>\n",
       "      <td>_</td>\n",
       "    </tr>\n",
       "    <tr>\n",
       "      <th>11</th>\n",
       "      <td>SRS452119</td>\n",
       "      <td>_</td>\n",
       "      <td>_</td>\n",
       "      <td>SRP002480</td>\n",
       "      <td>SRR921055</td>\n",
       "      <td>male</td>\n",
       "      <td>plantar heel</td>\n",
       "      <td>_</td>\n",
       "    </tr>\n",
       "    <tr>\n",
       "      <th>12</th>\n",
       "      <td>SRS452142</td>\n",
       "      <td>_</td>\n",
       "      <td>_</td>\n",
       "      <td>SRP002480</td>\n",
       "      <td>SRR921141</td>\n",
       "      <td>male</td>\n",
       "      <td>plantar heel</td>\n",
       "      <td>_</td>\n",
       "    </tr>\n",
       "    <tr>\n",
       "      <th>13</th>\n",
       "      <td>SRS452102</td>\n",
       "      <td>_</td>\n",
       "      <td>_</td>\n",
       "      <td>SRP002480</td>\n",
       "      <td>SRR921038</td>\n",
       "      <td>male</td>\n",
       "      <td>plantar heel</td>\n",
       "      <td>_</td>\n",
       "    </tr>\n",
       "    <tr>\n",
       "      <th>14</th>\n",
       "      <td>SRS452110</td>\n",
       "      <td>_</td>\n",
       "      <td>_</td>\n",
       "      <td>SRP002480</td>\n",
       "      <td>SRR921046</td>\n",
       "      <td>male</td>\n",
       "      <td>plantar heel</td>\n",
       "      <td>_</td>\n",
       "    </tr>\n",
       "    <tr>\n",
       "      <th>15</th>\n",
       "      <td>SRS451617</td>\n",
       "      <td>_</td>\n",
       "      <td>_</td>\n",
       "      <td>SRP002480</td>\n",
       "      <td>SRR919938</td>\n",
       "      <td>male</td>\n",
       "      <td>occiput</td>\n",
       "      <td>_</td>\n",
       "    </tr>\n",
       "    <tr>\n",
       "      <th>16</th>\n",
       "      <td>SRS451447</td>\n",
       "      <td>_</td>\n",
       "      <td>_</td>\n",
       "      <td>SRP002480</td>\n",
       "      <td>SRR919617</td>\n",
       "      <td>male</td>\n",
       "      <td>occiput</td>\n",
       "      <td>_</td>\n",
       "    </tr>\n",
       "    <tr>\n",
       "      <th>17</th>\n",
       "      <td>SRS451880</td>\n",
       "      <td>_</td>\n",
       "      <td>_</td>\n",
       "      <td>SRP002480</td>\n",
       "      <td>SRR920678</td>\n",
       "      <td>male</td>\n",
       "      <td>occiput</td>\n",
       "      <td>_</td>\n",
       "    </tr>\n",
       "    <tr>\n",
       "      <th>18</th>\n",
       "      <td>SRS452092</td>\n",
       "      <td>_</td>\n",
       "      <td>_</td>\n",
       "      <td>SRP002480</td>\n",
       "      <td>SRR921029</td>\n",
       "      <td>male</td>\n",
       "      <td>occiput</td>\n",
       "      <td>_</td>\n",
       "    </tr>\n",
       "    <tr>\n",
       "      <th>19</th>\n",
       "      <td>SRS451431</td>\n",
       "      <td>_</td>\n",
       "      <td>_</td>\n",
       "      <td>SRP002480</td>\n",
       "      <td>SRR919601</td>\n",
       "      <td>male</td>\n",
       "      <td>occiput</td>\n",
       "      <td>_</td>\n",
       "    </tr>\n",
       "    <tr>\n",
       "      <th>0</th>\n",
       "      <td>ERS1421377</td>\n",
       "      <td>_</td>\n",
       "      <td>_</td>\n",
       "      <td>ERP018577</td>\n",
       "      <td>ERR1701280</td>\n",
       "      <td>_</td>\n",
       "      <td>Scalp</td>\n",
       "      <td>Health</td>\n",
       "    </tr>\n",
       "    <tr>\n",
       "      <th>1</th>\n",
       "      <td>ERS1421389</td>\n",
       "      <td>_</td>\n",
       "      <td>_</td>\n",
       "      <td>ERP018577</td>\n",
       "      <td>ERR1701292</td>\n",
       "      <td>_</td>\n",
       "      <td>Scalp</td>\n",
       "      <td>Health</td>\n",
       "    </tr>\n",
       "    <tr>\n",
       "      <th>2</th>\n",
       "      <td>ERS1421383</td>\n",
       "      <td>_</td>\n",
       "      <td>_</td>\n",
       "      <td>ERP018577</td>\n",
       "      <td>ERR1701286</td>\n",
       "      <td>_</td>\n",
       "      <td>Scalp</td>\n",
       "      <td>Health</td>\n",
       "    </tr>\n",
       "    <tr>\n",
       "      <th>3</th>\n",
       "      <td>ERS1421335</td>\n",
       "      <td>_</td>\n",
       "      <td>_</td>\n",
       "      <td>ERP018577</td>\n",
       "      <td>ERR1701238</td>\n",
       "      <td>_</td>\n",
       "      <td>Scalp</td>\n",
       "      <td>Health</td>\n",
       "    </tr>\n",
       "    <tr>\n",
       "      <th>4</th>\n",
       "      <td>ERS1421381</td>\n",
       "      <td>_</td>\n",
       "      <td>_</td>\n",
       "      <td>ERP018577</td>\n",
       "      <td>ERR1701284</td>\n",
       "      <td>_</td>\n",
       "      <td>Scalp</td>\n",
       "      <td>Health</td>\n",
       "    </tr>\n",
       "    <tr>\n",
       "      <th>0</th>\n",
       "      <td>ERS1474791</td>\n",
       "      <td>_</td>\n",
       "      <td>_</td>\n",
       "      <td>ERP019566</td>\n",
       "      <td>ERR1760038</td>\n",
       "      <td>_</td>\n",
       "      <td>foot plantar aspect</td>\n",
       "      <td>control_skin_right</td>\n",
       "    </tr>\n",
       "    <tr>\n",
       "      <th>1</th>\n",
       "      <td>ERS1474780</td>\n",
       "      <td>_</td>\n",
       "      <td>_</td>\n",
       "      <td>ERP019566</td>\n",
       "      <td>ERR1760027</td>\n",
       "      <td>_</td>\n",
       "      <td>foot plantar aspect</td>\n",
       "      <td>control_skin_right</td>\n",
       "    </tr>\n",
       "    <tr>\n",
       "      <th>2</th>\n",
       "      <td>ERS1474511</td>\n",
       "      <td>_</td>\n",
       "      <td>_</td>\n",
       "      <td>ERP019566</td>\n",
       "      <td>ERR1759893</td>\n",
       "      <td>_</td>\n",
       "      <td>foot plantar aspect</td>\n",
       "      <td>control_skin_right</td>\n",
       "    </tr>\n",
       "    <tr>\n",
       "      <th>3</th>\n",
       "      <td>ERS1474797</td>\n",
       "      <td>_</td>\n",
       "      <td>_</td>\n",
       "      <td>ERP019566</td>\n",
       "      <td>ERR1760044</td>\n",
       "      <td>_</td>\n",
       "      <td>foot plantar aspect</td>\n",
       "      <td>control_skin_right</td>\n",
       "    </tr>\n",
       "    <tr>\n",
       "      <th>4</th>\n",
       "      <td>ERS1474793</td>\n",
       "      <td>_</td>\n",
       "      <td>_</td>\n",
       "      <td>ERP019566</td>\n",
       "      <td>ERR1760040</td>\n",
       "      <td>_</td>\n",
       "      <td>foot plantar aspect</td>\n",
       "      <td>control_skin_right</td>\n",
       "    </tr>\n",
       "    <tr>\n",
       "      <th>5</th>\n",
       "      <td>ERS1474566</td>\n",
       "      <td>_</td>\n",
       "      <td>_</td>\n",
       "      <td>ERP019566</td>\n",
       "      <td>ERR1759918</td>\n",
       "      <td>_</td>\n",
       "      <td>foot plantar aspect</td>\n",
       "      <td>control_skin_left</td>\n",
       "    </tr>\n",
       "    <tr>\n",
       "      <th>6</th>\n",
       "      <td>ERS1474502</td>\n",
       "      <td>_</td>\n",
       "      <td>_</td>\n",
       "      <td>ERP019566</td>\n",
       "      <td>ERR1759884</td>\n",
       "      <td>_</td>\n",
       "      <td>foot plantar aspect</td>\n",
       "      <td>control_skin_left</td>\n",
       "    </tr>\n",
       "    <tr>\n",
       "      <th>7</th>\n",
       "      <td>ERS1474571</td>\n",
       "      <td>_</td>\n",
       "      <td>_</td>\n",
       "      <td>ERP019566</td>\n",
       "      <td>ERR1759923</td>\n",
       "      <td>_</td>\n",
       "      <td>foot plantar aspect</td>\n",
       "      <td>control_skin_left</td>\n",
       "    </tr>\n",
       "    <tr>\n",
       "      <th>8</th>\n",
       "      <td>ERS1474573</td>\n",
       "      <td>_</td>\n",
       "      <td>_</td>\n",
       "      <td>ERP019566</td>\n",
       "      <td>ERR1759925</td>\n",
       "      <td>_</td>\n",
       "      <td>foot plantar aspect</td>\n",
       "      <td>control_skin_left</td>\n",
       "    </tr>\n",
       "    <tr>\n",
       "      <th>9</th>\n",
       "      <td>ERS1474796</td>\n",
       "      <td>_</td>\n",
       "      <td>_</td>\n",
       "      <td>ERP019566</td>\n",
       "      <td>ERR1760043</td>\n",
       "      <td>_</td>\n",
       "      <td>foot plantar aspect</td>\n",
       "      <td>control_skin_left</td>\n",
       "    </tr>\n",
       "  </tbody>\n",
       "</table>\n",
       "</div>"
      ],
      "text/plain": [
       "     #SampleID BarcodeSequence LinkerPrimerSequence    StudyID       RunID  \\\n",
       "0    SRS451776               _                    _  SRP002480   SRR920257   \n",
       "1    SRS451759               _                    _  SRP002480   SRR920208   \n",
       "2    SRS451470               _                    _  SRP002480   SRR919640   \n",
       "3    SRS451469               _                    _  SRP002480   SRR919639   \n",
       "4    SRS451588               _                    _  SRP002480   SRR919858   \n",
       "5    SRS451593               _                    _  SRP002480   SRR919914   \n",
       "6    SRS451777               _                    _  SRP002480   SRR920225   \n",
       "7    SRS452030               _                    _  SRP002480   SRR920903   \n",
       "8    SRS452122               _                    _  SRP002480   SRR921121   \n",
       "9    SRS451904               _                    _  SRP002480   SRR920702   \n",
       "10   SRS451882               _                    _  SRP002480   SRR920680   \n",
       "11   SRS452119               _                    _  SRP002480   SRR921055   \n",
       "12   SRS452142               _                    _  SRP002480   SRR921141   \n",
       "13   SRS452102               _                    _  SRP002480   SRR921038   \n",
       "14   SRS452110               _                    _  SRP002480   SRR921046   \n",
       "15   SRS451617               _                    _  SRP002480   SRR919938   \n",
       "16   SRS451447               _                    _  SRP002480   SRR919617   \n",
       "17   SRS451880               _                    _  SRP002480   SRR920678   \n",
       "18   SRS452092               _                    _  SRP002480   SRR921029   \n",
       "19   SRS451431               _                    _  SRP002480   SRR919601   \n",
       "0   ERS1421377               _                    _  ERP018577  ERR1701280   \n",
       "1   ERS1421389               _                    _  ERP018577  ERR1701292   \n",
       "2   ERS1421383               _                    _  ERP018577  ERR1701286   \n",
       "3   ERS1421335               _                    _  ERP018577  ERR1701238   \n",
       "4   ERS1421381               _                    _  ERP018577  ERR1701284   \n",
       "0   ERS1474791               _                    _  ERP019566  ERR1760038   \n",
       "1   ERS1474780               _                    _  ERP019566  ERR1760027   \n",
       "2   ERS1474511               _                    _  ERP019566  ERR1759893   \n",
       "3   ERS1474797               _                    _  ERP019566  ERR1760044   \n",
       "4   ERS1474793               _                    _  ERP019566  ERR1760040   \n",
       "5   ERS1474566               _                    _  ERP019566  ERR1759918   \n",
       "6   ERS1474502               _                    _  ERP019566  ERR1759884   \n",
       "7   ERS1474571               _                    _  ERP019566  ERR1759923   \n",
       "8   ERS1474573               _                    _  ERP019566  ERR1759925   \n",
       "9   ERS1474796               _                    _  ERP019566  ERR1760043   \n",
       "\n",
       "       Sex             BodySite         Description  \n",
       "0   female         plantar heel                   _  \n",
       "1   female         plantar heel                   _  \n",
       "2   female         plantar heel                   _  \n",
       "3   female         plantar heel                   _  \n",
       "4   female         plantar heel                   _  \n",
       "5   female              occiput                   _  \n",
       "6   female              occiput                   _  \n",
       "7   female              occiput                   _  \n",
       "8   female              occiput                   _  \n",
       "9   female              occiput                   _  \n",
       "10    male         plantar heel                   _  \n",
       "11    male         plantar heel                   _  \n",
       "12    male         plantar heel                   _  \n",
       "13    male         plantar heel                   _  \n",
       "14    male         plantar heel                   _  \n",
       "15    male              occiput                   _  \n",
       "16    male              occiput                   _  \n",
       "17    male              occiput                   _  \n",
       "18    male              occiput                   _  \n",
       "19    male              occiput                   _  \n",
       "0        _                Scalp              Health  \n",
       "1        _                Scalp              Health  \n",
       "2        _                Scalp              Health  \n",
       "3        _                Scalp              Health  \n",
       "4        _                Scalp              Health  \n",
       "0        _  foot plantar aspect  control_skin_right  \n",
       "1        _  foot plantar aspect  control_skin_right  \n",
       "2        _  foot plantar aspect  control_skin_right  \n",
       "3        _  foot plantar aspect  control_skin_right  \n",
       "4        _  foot plantar aspect  control_skin_right  \n",
       "5        _  foot plantar aspect   control_skin_left  \n",
       "6        _  foot plantar aspect   control_skin_left  \n",
       "7        _  foot plantar aspect   control_skin_left  \n",
       "8        _  foot plantar aspect   control_skin_left  \n",
       "9        _  foot plantar aspect   control_skin_left  "
      ]
     },
     "execution_count": 23,
     "metadata": {},
     "output_type": "execute_result"
    }
   ],
   "source": [
    "df_meta_random_merged = pd.concat([df_meta_random1, df_meta_random2, df_meta_random3])\n",
    "df_meta_random_merged = df_meta_random_merged.fillna('_')\n",
    "df_meta_random_merged.to_csv('07_metadata_merged.txt', sep=\"\\t\", index = False)\n",
    "df_meta_random_merged.to_csv('07_metadata_merged.csv')\n",
    "df_meta_random_merged"
   ]
  },
  {
   "cell_type": "markdown",
   "metadata": {},
   "source": [
    "### References\n",
    "---\n",
    "<a id='ref1'></a>\n",
    "1. Alex L Mitchell, Maxim Scheremetjew, Hubert Denise, Simon Potter, Aleksandra Tarkowska, Matloob Qureshi, Gustavo A Salazar, Sebastien Pesseat, Miguel A Boland, Fiona M I Hunter, Petra ten Hoopen, Blaise Alako, Clara Amid, Darren J Wilkinson, Thomas P Curtis, Guy Cochrane, Robert D Finn; EBI Metagenomics in 2017: enriching the analysis of microbial communities, from sequence reads to assemblies, Nucleic Acids Research, Volume 46, Issue D1, 4 January 2018, Pages D726–D735, https://doi.org/10.1093/nar/gkx967"
   ]
  },
  {
   "cell_type": "code",
   "execution_count": null,
   "metadata": {},
   "outputs": [],
   "source": []
  }
 ],
 "metadata": {
  "kernelspec": {
   "display_name": "Python 3",
   "language": "python",
   "name": "python3"
  },
  "language_info": {
   "codemirror_mode": {
    "name": "ipython",
    "version": 3
   },
   "file_extension": ".py",
   "mimetype": "text/x-python",
   "name": "python",
   "nbconvert_exporter": "python",
   "pygments_lexer": "ipython3",
   "version": "3.6.0"
  }
 },
 "nbformat": 4,
 "nbformat_minor": 2
}
