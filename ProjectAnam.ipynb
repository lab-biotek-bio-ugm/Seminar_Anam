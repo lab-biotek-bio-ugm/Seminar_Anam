{
 "cells": [
  {
   "cell_type": "code",
   "execution_count": 6,
   "metadata": {},
   "outputs": [],
   "source": [
    "#RUN\n",
    "from pandas import DataFrame\n",
    "import pandas as pd\n",
    "import numpy as np"
   ]
  },
  {
   "cell_type": "code",
   "execution_count": 7,
   "metadata": {},
   "outputs": [],
   "source": [
    "#RUN\n",
    "from jsonapi_client import Session, Filter\n",
    "import pycurl\n",
    "\n",
    "API_BASE = 'https://www.ebi.ac.uk/metagenomics/api/latest/'"
   ]
  },
  {
   "cell_type": "code",
   "execution_count": 23,
   "metadata": {},
   "outputs": [],
   "source": [
    "#RUN\n",
    "# 'studies' bisa diganti dengan target semisal 'sample' ; 'MGYS00001939' merupakan accession\n",
    "with Session(API_BASE) as s:\n",
    "    std = s.get('studies', 'MGYS00000709').resource"
   ]
  },
  {
   "cell_type": "code",
   "execution_count": 24,
   "metadata": {},
   "outputs": [
    {
     "data": {
      "text/plain": [
       "<ResourceObject: studies: MGYS00000709 (2435648516168) (2435648516168)>"
      ]
     },
     "execution_count": 24,
     "metadata": {},
     "output_type": "execute_result"
    }
   ],
   "source": [
    "#RUN\n",
    "#memunculkan study_name\n",
    "std"
   ]
  },
  {
   "cell_type": "code",
   "execution_count": 25,
   "metadata": {},
   "outputs": [
    {
     "data": {
      "text/plain": [
       "1"
      ]
     },
     "execution_count": 25,
     "metadata": {},
     "output_type": "execute_result"
    }
   ],
   "source": [
    "#RUN\n",
    "#melihat jumlah sample pada study di atas\n",
    "std.samples_count"
   ]
  },
  {
   "cell_type": "code",
   "execution_count": 26,
   "metadata": {},
   "outputs": [
    {
     "data": {
      "text/plain": [
       "[<ResourceObject: samples: SRS369430 (2435649617088) (2435649617088)>]"
      ]
     },
     "execution_count": 26,
     "metadata": {},
     "output_type": "execute_result"
    }
   ],
   "source": [
    "#RUN\n",
    "#memunculkan list sample sesuai jumlah\n",
    "std.samples"
   ]
  },
  {
   "cell_type": "code",
   "execution_count": null,
   "metadata": {
    "scrolled": true
   },
   "outputs": [],
   "source": [
    "#RUN/SKIP\n",
    "sample = std.samples\n",
    "#melihat informasi pada salah satu sample yang dipilih\n",
    "x=sample[0]\n",
    "x.sample_metadata"
   ]
  },
  {
   "cell_type": "code",
   "execution_count": null,
   "metadata": {},
   "outputs": [],
   "source": [
    "#SKIP\n",
    "blank = []\n",
    "for x in sample:\n",
    "    #print(x.sample_metadata)\n",
    "    df = pd.DataFrame(x.sample_metadata)\n",
    "    df['key'].tolist()\n",
    "    print(df)\n",
    "    #df = pd.DataFrame(x.sample_metadata)\n",
    "    #print(df)\n",
    "    #index = np.where(df['key'].str.contains('location'))[0]\n",
    "    #blank.append(df.iloc[index, :])\n",
    "    #index = np.where(df['key'].str.contains('biome'))[0]\n",
    "    #blank.append(df.iloc[index, :])\n",
    "    #index = np.where(df['key'].str.contains('elevation'))[0]\n",
    "    #blank.append(df.iloc[index, :])\n",
    "    #df_new = pd.concat(blank)\n",
    "#df_new"
   ]
  },
  {
   "cell_type": "code",
   "execution_count": 27,
   "metadata": {},
   "outputs": [
    {
     "name": "stdout",
     "output_type": "stream",
     "text": [
      "MGYS00000709\n"
     ]
    }
   ],
   "source": [
    "#RUN\n",
    "with Session(API_BASE) as s:\n",
    "    std = s.get('studies', 'MGYS00000709').resource\n",
    "print(std.accession)\n",
    "#melihat informasi pada salah satu sample yang dipilih\n",
    "sample = std.samples"
   ]
  },
  {
   "cell_type": "code",
   "execution_count": 28,
   "metadata": {},
   "outputs": [
    {
     "name": "stdout",
     "output_type": "stream",
     "text": [
      "analyses: MGYA00038093\n",
      "analyses: MGYA00038092\n"
     ]
    }
   ],
   "source": [
    "#RUN\n",
    "#membuat container kosong di bawah :\n",
    "df = pd.DataFrame([])\n",
    "acc = []\n",
    "sample_name = []\n",
    "analyze = []\n",
    "for x in sample:\n",
    "    acc.append(x.accession)\n",
    "    sample_name.append(x.sample_name)\n",
    "    for a in x.runs:\n",
    "        #print('runs: '+str(a.accession))\n",
    "        for b in a.analyses:\n",
    "            print('analyses: '+str(b.accession))\n",
    "    analyze.append(b.accession)\n",
    "    meta = x.sample_metadata\n",
    "    meta = pd.DataFrame.from_dict(meta)\n",
    "    meta = meta.set_index('key') \n",
    "    meta = meta.drop(columns='unit')\n",
    "    meta = meta.transpose()\n",
    "    df = df.append(meta)\n",
    "acc = pd.DataFrame(acc, columns=['ID_Sample'])\n",
    "sample_name = pd.DataFrame(sample_name, columns=['Sample Name'])\n",
    "analyze = pd.DataFrame(analyze, columns=['ID_Analyses'])"
   ]
  },
  {
   "cell_type": "code",
   "execution_count": 29,
   "metadata": {},
   "outputs": [],
   "source": [
    "#RUN\n",
    "#reset index agar dapat di merge\n",
    "df = df.reset_index()\n",
    "df = df.drop(columns='index')"
   ]
  },
  {
   "cell_type": "code",
   "execution_count": 30,
   "metadata": {},
   "outputs": [
    {
     "data": {
      "text/html": [
       "<div>\n",
       "<style scoped>\n",
       "    .dataframe tbody tr th:only-of-type {\n",
       "        vertical-align: middle;\n",
       "    }\n",
       "\n",
       "    .dataframe tbody tr th {\n",
       "        vertical-align: top;\n",
       "    }\n",
       "\n",
       "    .dataframe thead th {\n",
       "        text-align: right;\n",
       "    }\n",
       "</style>\n",
       "<table border=\"1\" class=\"dataframe\">\n",
       "  <thead>\n",
       "    <tr style=\"text-align: right;\">\n",
       "      <th></th>\n",
       "      <th>ID_Sample</th>\n",
       "      <th>Sample Name</th>\n",
       "      <th>ID_Analyses</th>\n",
       "      <th>NCBI sample classification</th>\n",
       "      <th>instrument model</th>\n",
       "    </tr>\n",
       "  </thead>\n",
       "  <tbody>\n",
       "    <tr>\n",
       "      <th>0</th>\n",
       "      <td>SRS369430</td>\n",
       "      <td>Bacterial community of winter wheat-cultivated...</td>\n",
       "      <td>MGYA00038092</td>\n",
       "      <td>410658</td>\n",
       "      <td>454 GS FLX Titanium</td>\n",
       "    </tr>\n",
       "  </tbody>\n",
       "</table>\n",
       "</div>"
      ],
      "text/plain": [
       "   ID_Sample                                        Sample Name   ID_Analyses  \\\n",
       "0  SRS369430  Bacterial community of winter wheat-cultivated...  MGYA00038092   \n",
       "\n",
       "  NCBI sample classification     instrument model  \n",
       "0                     410658  454 GS FLX Titanium  "
      ]
     },
     "execution_count": 30,
     "metadata": {},
     "output_type": "execute_result"
    }
   ],
   "source": [
    "#RUN\n",
    "#script merge\n",
    "merged = acc.merge(sample_name, left_index=True, right_index=True, how='inner')\n",
    "merged = merged.merge(analyze, left_index=True, right_index=True, how='inner')\n",
    "merged = merged.merge(df, left_index=True, right_index=True, how='inner')\n",
    "merged"
   ]
  },
  {
   "cell_type": "code",
   "execution_count": null,
   "metadata": {},
   "outputs": [],
   "source": [
    "#RUN SEKALI AJA\n",
    "#membuat folder\n",
    "from pathlib import Path\n",
    "import os\n",
    "_dir = os.getcwd()\n",
    "#_dir = 'D:\\\\Seminar\\\\Seminar_Anam'\n",
    "_dir = os.path.join(_dir, 'Study_Jagung')\n",
    "if not os.path.exists(_dir):\n",
    "    os.makedirs(_dir)\n",
    "print(_dir)"
   ]
  },
  {
   "cell_type": "code",
   "execution_count": 22,
   "metadata": {},
   "outputs": [
    {
     "name": "stdout",
     "output_type": "stream",
     "text": [
      "D:\\Seminar\\Seminar_Anam\\Study_Jagung\n"
     ]
    }
   ],
   "source": [
    "#RUN\n",
    "#masuk ke folder \"Study_Jagung\"\n",
    "%cd Study_Jagung\n",
    "#export ke .csv\n",
    "merged.to_csv(std.accession+'.csv')"
   ]
  },
  {
   "cell_type": "code",
   "execution_count": null,
   "metadata": {},
   "outputs": [],
   "source": [
    "#SKIP\n",
    "for x in sample:\n",
    "    #print('sample: '+str(i.accession))\n",
    "    for a in x.runs:\n",
    "        #print('runs: '+str(a.accession))\n",
    "        for b in a.analyses:\n",
    "            print('analyses: '+str(b.accession))"
   ]
  },
  {
   "cell_type": "code",
   "execution_count": null,
   "metadata": {},
   "outputs": [],
   "source": [
    "#SKIP\n",
    "#memasukkan sample yang dipilih ke bentuk kolom\n",
    "df = pd.DataFrame(sample[0].sample_metadata)\n",
    "df"
   ]
  },
  {
   "cell_type": "code",
   "execution_count": null,
   "metadata": {},
   "outputs": [],
   "source": [
    "#SKIP\n",
    "blank = []"
   ]
  },
  {
   "cell_type": "code",
   "execution_count": null,
   "metadata": {},
   "outputs": [],
   "source": [
    "#SKIP\n",
    "#membuat index baru dari list 'key' yang dipilih\n",
    "index = np.where(df['key'].str.contains('location'))[0]\n",
    "blank.append(df.iloc[index, :])\n",
    "index = np.where(df['key'].str.contains('biome'))[0]\n",
    "blank.append(df.iloc[index, :])\n",
    "index = np.where(df['key'].str.contains('elevation'))[0]\n",
    "blank.append(df.iloc[index, :])"
   ]
  },
  {
   "cell_type": "code",
   "execution_count": null,
   "metadata": {},
   "outputs": [],
   "source": [
    "#SKIP\n",
    "#'key' yang dilih dijadikan data frame baru\n",
    "df_new = pd.concat(blank)\n",
    "df_new"
   ]
  },
  {
   "cell_type": "code",
   "execution_count": null,
   "metadata": {},
   "outputs": [],
   "source": [
    "#SKIP\n",
    "filename_sample = '' "
   ]
  },
  {
   "cell_type": "code",
   "execution_count": null,
   "metadata": {},
   "outputs": [],
   "source": [
    "#SKIP\n",
    "#membuat loop accession di dalam bentuk list\n",
    "for x in sample:\n",
    "    #print('sample: '+str(i.accession))\n",
    "    for a in x.runs:\n",
    "        #print('runs: '+str(a.accession))\n",
    "        for b in a.analyses:\n",
    "            print('analyses: '+str(b.accession))\n",
    "            #for z in y.downloads:\n",
    "                #if 'json.biom' in z.url:\n",
    "                    #print(z.url)"
   ]
  },
  {
   "cell_type": "code",
   "execution_count": null,
   "metadata": {},
   "outputs": [],
   "source": [
    "#SKIP\n",
    "#membuat folder\n",
    "from pathlib import Path\n",
    "import os\n",
    "_dir = os.getcwd()\n",
    "#_dir = 'D:\\\\Seminar\\\\Seminar_Anam'\n",
    "_dir = os.path.join(_dir, 'Study_Jagung')\n",
    "if not os.path.exists(_dir):\n",
    "    os.makedirs(_dir)\n",
    "print(_dir)\n",
    "#%rmdir(Study+str)\n",
    "#with open('_dir'+i.accession+'.biom', 'wb') as f:\n",
    "    #c = pycurl.Curl()\n",
    "    #c.setopt(c.URL, z.url)\n",
    "    #c.setopt(c.WRITEDATA, f)\n",
    "    #c.perform()\n",
    "#c.close()"
   ]
  }
 ],
 "metadata": {
  "kernelspec": {
   "display_name": "Python 3",
   "language": "python",
   "name": "python3"
  },
  "language_info": {
   "codemirror_mode": {
    "name": "ipython",
    "version": 3
   },
   "file_extension": ".py",
   "mimetype": "text/x-python",
   "name": "python",
   "nbconvert_exporter": "python",
   "pygments_lexer": "ipython3",
   "version": "3.6.4"
  }
 },
 "nbformat": 4,
 "nbformat_minor": 2
}
