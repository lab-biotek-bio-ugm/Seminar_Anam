{
 "cells": [
  {
   "cell_type": "code",
   "execution_count": 1,
   "metadata": {},
   "outputs": [],
   "source": [
    "from pandas import DataFrame\n",
    "import pandas as pd\n",
    "import numpy as np"
   ]
  },
  {
   "cell_type": "code",
   "execution_count": 2,
   "metadata": {},
   "outputs": [],
   "source": [
    "from jsonapi_client import Session, Filter\n",
    "import pycurl\n",
    "\n",
    "API_BASE = 'https://www.ebi.ac.uk/metagenomics/api/latest/'"
   ]
  },
  {
   "cell_type": "code",
   "execution_count": 3,
   "metadata": {},
   "outputs": [],
   "source": [
    "# 'studies' bisa diganti dengan target semisal 'sample' ; 'MGYS00001939' merupakan accession\n",
    "with Session(API_BASE) as s:\n",
    "    std = s.get('studies', 'MGYS00001939').resource"
   ]
  },
  {
   "cell_type": "code",
   "execution_count": 4,
   "metadata": {},
   "outputs": [
    {
     "data": {
      "text/plain": [
       "<ResourceObject: studies: MGYS00001939 (2053604286024) (2053604286024)>"
      ]
     },
     "execution_count": 4,
     "metadata": {},
     "output_type": "execute_result"
    }
   ],
   "source": [
    "#memunculkan study_name\n",
    "std"
   ]
  },
  {
   "cell_type": "code",
   "execution_count": 5,
   "metadata": {},
   "outputs": [
    {
     "data": {
      "text/plain": [
       "12"
      ]
     },
     "execution_count": 5,
     "metadata": {},
     "output_type": "execute_result"
    }
   ],
   "source": [
    "#melihat jumlah sample pada study di atas\n",
    "std.samples_count"
   ]
  },
  {
   "cell_type": "code",
   "execution_count": 6,
   "metadata": {},
   "outputs": [
    {
     "data": {
      "text/plain": [
       "[<ResourceObject: samples: ERS1851088 (2053597982168) (2053597982168)>,\n",
       " <ResourceObject: samples: ERS1851084 (2053604912152) (2053604912152)>,\n",
       " <ResourceObject: samples: ERS1851093 (2053605028416) (2053605028416)>,\n",
       " <ResourceObject: samples: ERS1851087 (2053605029424) (2053605029424)>,\n",
       " <ResourceObject: samples: ERS1851094 (2053605030432) (2053605030432)>,\n",
       " <ResourceObject: samples: ERS1851086 (2053605031440) (2053605031440)>,\n",
       " <ResourceObject: samples: ERS1851095 (2053605077232) (2053605077232)>,\n",
       " <ResourceObject: samples: ERS1851090 (2053605078240) (2053605078240)>,\n",
       " <ResourceObject: samples: ERS1851092 (2053605079248) (2053605079248)>,\n",
       " <ResourceObject: samples: ERS1851085 (2053605080256) (2053605080256)>,\n",
       " <ResourceObject: samples: ERS1851091 (2053605110000) (2053605110000)>,\n",
       " <ResourceObject: samples: ERS1851089 (2053605111008) (2053605111008)>]"
      ]
     },
     "execution_count": 6,
     "metadata": {},
     "output_type": "execute_result"
    }
   ],
   "source": [
    "#memunculkan list sample sesuai jumlah\n",
    "std.samples"
   ]
  },
  {
   "cell_type": "code",
   "execution_count": 7,
   "metadata": {
    "scrolled": true
   },
   "outputs": [
    {
     "data": {
      "text/plain": [
       "[{'key': 'investigation type', 'unit': None, 'value': 'metatranscriptome'},\n",
       " {'key': 'geographic location (longitude)', 'unit': None, 'value': '5.411394'},\n",
       " {'key': 'geographic location (country and/or sea,region)',\n",
       "  'unit': None,\n",
       "  'value': 'Belgium'},\n",
       " {'key': 'collection date', 'unit': None, 'value': '2015-03-18'},\n",
       " {'key': 'environment (biome)', 'unit': None, 'value': 'area of cropland'},\n",
       " {'key': 'environment (feature)', 'unit': None, 'value': 'area of cropland'},\n",
       " {'key': 'environment (material)', 'unit': None, 'value': 'agricultural soil'},\n",
       " {'key': 'environmental package', 'unit': None, 'value': 'soil'},\n",
       " {'key': 'sequencing method', 'unit': None, 'value': 'Illumina'},\n",
       " {'key': 'elevation', 'unit': None, 'value': '46.0'},\n",
       " {'key': 'geographic location (latitude)', 'unit': None, 'value': '50.93487'},\n",
       " {'key': 'instrument model', 'unit': None, 'value': 'Illumina HiSeq 4000'}]"
      ]
     },
     "execution_count": 7,
     "metadata": {},
     "output_type": "execute_result"
    }
   ],
   "source": [
    "sample = std.samples\n",
    "#melihat informasi pada salah satu sample yang dipilih\n",
    "x=sample[0]\n",
    "x.sample_metadata"
   ]
  },
  {
   "cell_type": "code",
   "execution_count": null,
   "metadata": {},
   "outputs": [],
   "source": [
    "blank = []\n",
    "for x in sample:\n",
    "    #print(x.sample_metadata)\n",
    "    df = pd.DataFrame(x.sample_metadata)\n",
    "    df['key'].tolist()\n",
    "    print(df)\n",
    "    #df = pd.DataFrame(x.sample_metadata)\n",
    "    #print(df)\n",
    "    #index = np.where(df['key'].str.contains('location'))[0]\n",
    "    #blank.append(df.iloc[index, :])\n",
    "    #index = np.where(df['key'].str.contains('biome'))[0]\n",
    "    #blank.append(df.iloc[index, :])\n",
    "    #index = np.where(df['key'].str.contains('elevation'))[0]\n",
    "    #blank.append(df.iloc[index, :])\n",
    "    #df_new = pd.concat(blank)\n",
    "#df_new"
   ]
  },
  {
   "cell_type": "code",
   "execution_count": 18,
   "metadata": {},
   "outputs": [
    {
     "name": "stdout",
     "output_type": "stream",
     "text": [
      "MGYS00001939\n"
     ]
    }
   ],
   "source": [
    "with Session(API_BASE) as s:\n",
    "    std = s.get('studies', 'MGYS00001939').resource\n",
    "print(std.accession)\n",
    "#melihat informasi pada salah satu sample yang dipilih\n",
    "sample = std.samples"
   ]
  },
  {
   "cell_type": "code",
   "execution_count": 20,
   "metadata": {},
   "outputs": [
    {
     "name": "stdout",
     "output_type": "stream",
     "text": [
      "analyses: MGYA00135103\n",
      "analyses: MGYA00135102\n",
      "analyses: MGYA00135099\n",
      "analyses: MGYA00135098\n",
      "analyses: MGYA00135093\n",
      "analyses: MGYA00135104\n",
      "analyses: MGYA00135094\n",
      "analyses: MGYA00135095\n",
      "analyses: MGYA00135096\n",
      "analyses: MGYA00135100\n",
      "analyses: MGYA00135101\n",
      "analyses: MGYA00135097\n"
     ]
    }
   ],
   "source": [
    "#membuat container kosong di bawah :\n",
    "df = pd.DataFrame([])\n",
    "acc = []\n",
    "sample_name = []\n",
    "analyze = []\n",
    "for x in sample:\n",
    "    acc.append(x.accession)\n",
    "    sample_name.append(x.sample_name)\n",
    "    for a in x.runs:\n",
    "        #print('runs: '+str(a.accession))\n",
    "        for b in a.analyses:\n",
    "            print('analyses: '+str(b.accession))\n",
    "    analyze.append(b.accession)\n",
    "    meta = x.sample_metadata\n",
    "    meta = pd.DataFrame.from_dict(meta)\n",
    "    meta = meta.set_index('key') \n",
    "    meta = meta.drop(columns='unit')\n",
    "    meta = meta.transpose()\n",
    "    df = df.append(meta)\n",
    "acc = pd.DataFrame(acc, columns=['ID_Sample'])\n",
    "sample_name = pd.DataFrame(sample_name, columns=['Sample Name'])\n",
    "analyze = pd.DataFrame(analyze, columns=['ID_Analyses'])"
   ]
  },
  {
   "cell_type": "code",
   "execution_count": 27,
   "metadata": {},
   "outputs": [
    {
     "name": "stdout",
     "output_type": "stream",
     "text": [
      "sample: ERS1851088\n",
      "sample: ERS1851084\n",
      "sample: ERS1851093\n",
      "sample: ERS1851087\n",
      "sample: ERS1851094\n",
      "sample: ERS1851086\n",
      "sample: ERS1851095\n",
      "sample: ERS1851090\n",
      "sample: ERS1851092\n",
      "sample: ERS1851085\n",
      "sample: ERS1851091\n",
      "sample: ERS1851089\n"
     ]
    }
   ],
   "source": [
    "for x in sample:\n",
    "    print('sample: '+str(x.accession))\n",
    "    #for a in x.runs:\n",
    "        #print('runs: '+str(a.accession))\n",
    "        #for b in a.analyses:\n",
    "            #print('analyses: '+str(b.accession))"
   ]
  },
  {
   "cell_type": "code",
   "execution_count": 21,
   "metadata": {},
   "outputs": [],
   "source": [
    "#reset index agar dapat di merge\n",
    "df = df.reset_index()\n",
    "df = df.drop(columns='index')"
   ]
  },
  {
   "cell_type": "code",
   "execution_count": 22,
   "metadata": {},
   "outputs": [
    {
     "data": {
      "text/html": [
       "<div>\n",
       "<style scoped>\n",
       "    .dataframe tbody tr th:only-of-type {\n",
       "        vertical-align: middle;\n",
       "    }\n",
       "\n",
       "    .dataframe tbody tr th {\n",
       "        vertical-align: top;\n",
       "    }\n",
       "\n",
       "    .dataframe thead th {\n",
       "        text-align: right;\n",
       "    }\n",
       "</style>\n",
       "<table border=\"1\" class=\"dataframe\">\n",
       "  <thead>\n",
       "    <tr style=\"text-align: right;\">\n",
       "      <th></th>\n",
       "      <th>ID_Sample</th>\n",
       "      <th>Sample Name</th>\n",
       "      <th>ID_Analyses</th>\n",
       "      <th>investigation type</th>\n",
       "      <th>geographic location (longitude)</th>\n",
       "      <th>geographic location (country and/or sea,region)</th>\n",
       "      <th>collection date</th>\n",
       "      <th>environment (biome)</th>\n",
       "      <th>environment (feature)</th>\n",
       "      <th>environment (material)</th>\n",
       "      <th>environmental package</th>\n",
       "      <th>sequencing method</th>\n",
       "      <th>elevation</th>\n",
       "      <th>geographic location (latitude)</th>\n",
       "      <th>instrument model</th>\n",
       "    </tr>\n",
       "  </thead>\n",
       "  <tbody>\n",
       "    <tr>\n",
       "      <th>0</th>\n",
       "      <td>ERS1851088</td>\n",
       "      <td>Bulk soil exposed to nanosilver, sample 2</td>\n",
       "      <td>MGYA00135103</td>\n",
       "      <td>metatranscriptome</td>\n",
       "      <td>5.411394</td>\n",
       "      <td>Belgium</td>\n",
       "      <td>2015-03-18</td>\n",
       "      <td>area of cropland</td>\n",
       "      <td>area of cropland</td>\n",
       "      <td>agricultural soil</td>\n",
       "      <td>soil</td>\n",
       "      <td>Illumina</td>\n",
       "      <td>46.0</td>\n",
       "      <td>50.93487</td>\n",
       "      <td>Illumina HiSeq 4000</td>\n",
       "    </tr>\n",
       "    <tr>\n",
       "      <th>1</th>\n",
       "      <td>ERS1851084</td>\n",
       "      <td>Bulk soil not exposed to nanosilver, sample 1</td>\n",
       "      <td>MGYA00135102</td>\n",
       "      <td>metatranscriptome</td>\n",
       "      <td>5.411394</td>\n",
       "      <td>Belgium</td>\n",
       "      <td>2015-03-18</td>\n",
       "      <td>area of cropland</td>\n",
       "      <td>area of cropland</td>\n",
       "      <td>agricultural soil</td>\n",
       "      <td>soil</td>\n",
       "      <td>Illumina</td>\n",
       "      <td>46.0</td>\n",
       "      <td>50.93487</td>\n",
       "      <td>Illumina HiSeq 4000</td>\n",
       "    </tr>\n",
       "    <tr>\n",
       "      <th>2</th>\n",
       "      <td>ERS1851093</td>\n",
       "      <td>Rhizosphere soil exposed to nanosilver, sample 1</td>\n",
       "      <td>MGYA00135099</td>\n",
       "      <td>metatranscriptome</td>\n",
       "      <td>5.411394</td>\n",
       "      <td>Belgium</td>\n",
       "      <td>2015-03-18</td>\n",
       "      <td>area of cropland</td>\n",
       "      <td>area of cropland</td>\n",
       "      <td>agricultural soil</td>\n",
       "      <td>soil</td>\n",
       "      <td>Illumina</td>\n",
       "      <td>46.0</td>\n",
       "      <td>50.93487</td>\n",
       "      <td>Illumina HiSeq 4000</td>\n",
       "    </tr>\n",
       "    <tr>\n",
       "      <th>3</th>\n",
       "      <td>ERS1851087</td>\n",
       "      <td>Bulk soil exposed to nanosilver, sample 1</td>\n",
       "      <td>MGYA00135098</td>\n",
       "      <td>metatranscriptome</td>\n",
       "      <td>5.411394</td>\n",
       "      <td>Belgium</td>\n",
       "      <td>2015-03-18</td>\n",
       "      <td>area of cropland</td>\n",
       "      <td>area of cropland</td>\n",
       "      <td>agricultural soil</td>\n",
       "      <td>soil</td>\n",
       "      <td>Illumina</td>\n",
       "      <td>46.0</td>\n",
       "      <td>50.93487</td>\n",
       "      <td>Illumina HiSeq 4000</td>\n",
       "    </tr>\n",
       "    <tr>\n",
       "      <th>4</th>\n",
       "      <td>ERS1851094</td>\n",
       "      <td>Rhizosphere soil exposed to nanosilver, sample 2</td>\n",
       "      <td>MGYA00135093</td>\n",
       "      <td>metatranscriptome</td>\n",
       "      <td>5.411394</td>\n",
       "      <td>Belgium</td>\n",
       "      <td>2015-03-18</td>\n",
       "      <td>area of cropland</td>\n",
       "      <td>area of cropland</td>\n",
       "      <td>agricultural soil</td>\n",
       "      <td>soil</td>\n",
       "      <td>Illumina</td>\n",
       "      <td>46.0</td>\n",
       "      <td>50.93487</td>\n",
       "      <td>Illumina HiSeq 4000</td>\n",
       "    </tr>\n",
       "    <tr>\n",
       "      <th>5</th>\n",
       "      <td>ERS1851086</td>\n",
       "      <td>Bulk soil not exposed to nanosilver, sample 3</td>\n",
       "      <td>MGYA00135104</td>\n",
       "      <td>metatranscriptome</td>\n",
       "      <td>5.411394</td>\n",
       "      <td>Belgium</td>\n",
       "      <td>2015-03-18</td>\n",
       "      <td>area of cropland</td>\n",
       "      <td>area of cropland</td>\n",
       "      <td>agricultural soil</td>\n",
       "      <td>soil</td>\n",
       "      <td>Illumina</td>\n",
       "      <td>46.0</td>\n",
       "      <td>50.93487</td>\n",
       "      <td>Illumina HiSeq 4000</td>\n",
       "    </tr>\n",
       "    <tr>\n",
       "      <th>6</th>\n",
       "      <td>ERS1851095</td>\n",
       "      <td>Rhizosphere soil exposed to nanosilver, sample 3</td>\n",
       "      <td>MGYA00135094</td>\n",
       "      <td>metatranscriptome</td>\n",
       "      <td>5.411394</td>\n",
       "      <td>Belgium</td>\n",
       "      <td>2015-03-18</td>\n",
       "      <td>area of cropland</td>\n",
       "      <td>area of cropland</td>\n",
       "      <td>agricultural soil</td>\n",
       "      <td>soil</td>\n",
       "      <td>Illumina</td>\n",
       "      <td>46.0</td>\n",
       "      <td>50.93487</td>\n",
       "      <td>Illumina HiSeq 4000</td>\n",
       "    </tr>\n",
       "    <tr>\n",
       "      <th>7</th>\n",
       "      <td>ERS1851090</td>\n",
       "      <td>Rhizosphere soil not exposed to nanosilver, sa...</td>\n",
       "      <td>MGYA00135095</td>\n",
       "      <td>metatranscriptome</td>\n",
       "      <td>5.411394</td>\n",
       "      <td>Belgium</td>\n",
       "      <td>2015-03-18</td>\n",
       "      <td>area of cropland</td>\n",
       "      <td>area of cropland</td>\n",
       "      <td>agricultural soil</td>\n",
       "      <td>soil</td>\n",
       "      <td>Illumina</td>\n",
       "      <td>46.0</td>\n",
       "      <td>50.93487</td>\n",
       "      <td>Illumina HiSeq 4000</td>\n",
       "    </tr>\n",
       "    <tr>\n",
       "      <th>8</th>\n",
       "      <td>ERS1851092</td>\n",
       "      <td>Rhizosphere soil not exposed to nanosilver, sa...</td>\n",
       "      <td>MGYA00135096</td>\n",
       "      <td>metatranscriptome</td>\n",
       "      <td>5.411394</td>\n",
       "      <td>Belgium</td>\n",
       "      <td>2015-03-18</td>\n",
       "      <td>area of cropland</td>\n",
       "      <td>area of cropland</td>\n",
       "      <td>agricultural soil</td>\n",
       "      <td>soil</td>\n",
       "      <td>Illumina</td>\n",
       "      <td>46.0</td>\n",
       "      <td>50.93487</td>\n",
       "      <td>Illumina HiSeq 4000</td>\n",
       "    </tr>\n",
       "    <tr>\n",
       "      <th>9</th>\n",
       "      <td>ERS1851085</td>\n",
       "      <td>Bulk soil not exposed to nanosilver, sample 2</td>\n",
       "      <td>MGYA00135100</td>\n",
       "      <td>metatranscriptome</td>\n",
       "      <td>5.411394</td>\n",
       "      <td>Belgium</td>\n",
       "      <td>2015-03-18</td>\n",
       "      <td>area of cropland</td>\n",
       "      <td>area of cropland</td>\n",
       "      <td>agricultural soil</td>\n",
       "      <td>soil</td>\n",
       "      <td>Illumina</td>\n",
       "      <td>46.0</td>\n",
       "      <td>50.93487</td>\n",
       "      <td>Illumina HiSeq 4000</td>\n",
       "    </tr>\n",
       "    <tr>\n",
       "      <th>10</th>\n",
       "      <td>ERS1851091</td>\n",
       "      <td>Rhizosphere soil not exposed to nanosilver, sa...</td>\n",
       "      <td>MGYA00135101</td>\n",
       "      <td>metatranscriptome</td>\n",
       "      <td>5.411394</td>\n",
       "      <td>Belgium</td>\n",
       "      <td>2015-03-18</td>\n",
       "      <td>area of cropland</td>\n",
       "      <td>area of cropland</td>\n",
       "      <td>agricultural soil</td>\n",
       "      <td>soil</td>\n",
       "      <td>Illumina</td>\n",
       "      <td>46.0</td>\n",
       "      <td>50.93487</td>\n",
       "      <td>Illumina HiSeq 4000</td>\n",
       "    </tr>\n",
       "    <tr>\n",
       "      <th>11</th>\n",
       "      <td>ERS1851089</td>\n",
       "      <td>Bulk soil exposed to nanosilver, sample 3</td>\n",
       "      <td>MGYA00135097</td>\n",
       "      <td>metatranscriptome</td>\n",
       "      <td>5.411394</td>\n",
       "      <td>Belgium</td>\n",
       "      <td>2015-03-18</td>\n",
       "      <td>area of cropland</td>\n",
       "      <td>area of cropland</td>\n",
       "      <td>agricultural soil</td>\n",
       "      <td>soil</td>\n",
       "      <td>Illumina</td>\n",
       "      <td>46.0</td>\n",
       "      <td>50.93487</td>\n",
       "      <td>Illumina HiSeq 4000</td>\n",
       "    </tr>\n",
       "  </tbody>\n",
       "</table>\n",
       "</div>"
      ],
      "text/plain": [
       "     ID_Sample                                        Sample Name  \\\n",
       "0   ERS1851088          Bulk soil exposed to nanosilver, sample 2   \n",
       "1   ERS1851084      Bulk soil not exposed to nanosilver, sample 1   \n",
       "2   ERS1851093   Rhizosphere soil exposed to nanosilver, sample 1   \n",
       "3   ERS1851087          Bulk soil exposed to nanosilver, sample 1   \n",
       "4   ERS1851094   Rhizosphere soil exposed to nanosilver, sample 2   \n",
       "5   ERS1851086      Bulk soil not exposed to nanosilver, sample 3   \n",
       "6   ERS1851095   Rhizosphere soil exposed to nanosilver, sample 3   \n",
       "7   ERS1851090  Rhizosphere soil not exposed to nanosilver, sa...   \n",
       "8   ERS1851092  Rhizosphere soil not exposed to nanosilver, sa...   \n",
       "9   ERS1851085      Bulk soil not exposed to nanosilver, sample 2   \n",
       "10  ERS1851091  Rhizosphere soil not exposed to nanosilver, sa...   \n",
       "11  ERS1851089          Bulk soil exposed to nanosilver, sample 3   \n",
       "\n",
       "     ID_Analyses investigation type geographic location (longitude)  \\\n",
       "0   MGYA00135103  metatranscriptome                        5.411394   \n",
       "1   MGYA00135102  metatranscriptome                        5.411394   \n",
       "2   MGYA00135099  metatranscriptome                        5.411394   \n",
       "3   MGYA00135098  metatranscriptome                        5.411394   \n",
       "4   MGYA00135093  metatranscriptome                        5.411394   \n",
       "5   MGYA00135104  metatranscriptome                        5.411394   \n",
       "6   MGYA00135094  metatranscriptome                        5.411394   \n",
       "7   MGYA00135095  metatranscriptome                        5.411394   \n",
       "8   MGYA00135096  metatranscriptome                        5.411394   \n",
       "9   MGYA00135100  metatranscriptome                        5.411394   \n",
       "10  MGYA00135101  metatranscriptome                        5.411394   \n",
       "11  MGYA00135097  metatranscriptome                        5.411394   \n",
       "\n",
       "   geographic location (country and/or sea,region) collection date  \\\n",
       "0                                          Belgium      2015-03-18   \n",
       "1                                          Belgium      2015-03-18   \n",
       "2                                          Belgium      2015-03-18   \n",
       "3                                          Belgium      2015-03-18   \n",
       "4                                          Belgium      2015-03-18   \n",
       "5                                          Belgium      2015-03-18   \n",
       "6                                          Belgium      2015-03-18   \n",
       "7                                          Belgium      2015-03-18   \n",
       "8                                          Belgium      2015-03-18   \n",
       "9                                          Belgium      2015-03-18   \n",
       "10                                         Belgium      2015-03-18   \n",
       "11                                         Belgium      2015-03-18   \n",
       "\n",
       "   environment (biome) environment (feature) environment (material)  \\\n",
       "0     area of cropland      area of cropland      agricultural soil   \n",
       "1     area of cropland      area of cropland      agricultural soil   \n",
       "2     area of cropland      area of cropland      agricultural soil   \n",
       "3     area of cropland      area of cropland      agricultural soil   \n",
       "4     area of cropland      area of cropland      agricultural soil   \n",
       "5     area of cropland      area of cropland      agricultural soil   \n",
       "6     area of cropland      area of cropland      agricultural soil   \n",
       "7     area of cropland      area of cropland      agricultural soil   \n",
       "8     area of cropland      area of cropland      agricultural soil   \n",
       "9     area of cropland      area of cropland      agricultural soil   \n",
       "10    area of cropland      area of cropland      agricultural soil   \n",
       "11    area of cropland      area of cropland      agricultural soil   \n",
       "\n",
       "   environmental package sequencing method elevation  \\\n",
       "0                   soil          Illumina      46.0   \n",
       "1                   soil          Illumina      46.0   \n",
       "2                   soil          Illumina      46.0   \n",
       "3                   soil          Illumina      46.0   \n",
       "4                   soil          Illumina      46.0   \n",
       "5                   soil          Illumina      46.0   \n",
       "6                   soil          Illumina      46.0   \n",
       "7                   soil          Illumina      46.0   \n",
       "8                   soil          Illumina      46.0   \n",
       "9                   soil          Illumina      46.0   \n",
       "10                  soil          Illumina      46.0   \n",
       "11                  soil          Illumina      46.0   \n",
       "\n",
       "   geographic location (latitude)     instrument model  \n",
       "0                        50.93487  Illumina HiSeq 4000  \n",
       "1                        50.93487  Illumina HiSeq 4000  \n",
       "2                        50.93487  Illumina HiSeq 4000  \n",
       "3                        50.93487  Illumina HiSeq 4000  \n",
       "4                        50.93487  Illumina HiSeq 4000  \n",
       "5                        50.93487  Illumina HiSeq 4000  \n",
       "6                        50.93487  Illumina HiSeq 4000  \n",
       "7                        50.93487  Illumina HiSeq 4000  \n",
       "8                        50.93487  Illumina HiSeq 4000  \n",
       "9                        50.93487  Illumina HiSeq 4000  \n",
       "10                       50.93487  Illumina HiSeq 4000  \n",
       "11                       50.93487  Illumina HiSeq 4000  "
      ]
     },
     "execution_count": 22,
     "metadata": {},
     "output_type": "execute_result"
    }
   ],
   "source": [
    "#script merge\n",
    "merged = acc.merge(sample_name, left_index=True, right_index=True, how='inner')\n",
    "merged = merged.merge(analyze, left_index=True, right_index=True, how='inner')\n",
    "merged = merged.merge(df, left_index=True, right_index=True, how='inner')\n",
    "merged"
   ]
  },
  {
   "cell_type": "code",
   "execution_count": 24,
   "metadata": {},
   "outputs": [
    {
     "name": "stdout",
     "output_type": "stream",
     "text": [
      "D:\\Seminar\\Seminar_Anam\\Study_Jagung\n"
     ]
    }
   ],
   "source": [
    "#membuat folder\n",
    "from pathlib import Path\n",
    "import os\n",
    "_dir = os.getcwd()\n",
    "#_dir = 'D:\\\\Seminar\\\\Seminar_Anam'\n",
    "_dir = os.path.join(_dir, 'Study_Jagung')\n",
    "if not os.path.exists(_dir):\n",
    "    os.makedirs(_dir)\n",
    "print(_dir)"
   ]
  },
  {
   "cell_type": "code",
   "execution_count": 25,
   "metadata": {},
   "outputs": [
    {
     "name": "stdout",
     "output_type": "stream",
     "text": [
      "D:\\Seminar\\Seminar_Anam\\Study_Jagung\n"
     ]
    }
   ],
   "source": [
    "#masuk ke folder \"Study_Jagung\"\n",
    "%cd Study_Jagung\n",
    "#export ke .csv\n",
    "merged.to_csv(std.accession+'.csv')"
   ]
  },
  {
   "cell_type": "code",
   "execution_count": 9,
   "metadata": {},
   "outputs": [
    {
     "name": "stdout",
     "output_type": "stream",
     "text": [
      "analyses: MGYA00135103\n",
      "analyses: MGYA00135102\n",
      "analyses: MGYA00135099\n",
      "analyses: MGYA00135098\n",
      "analyses: MGYA00135093\n",
      "analyses: MGYA00135104\n",
      "analyses: MGYA00135094\n",
      "analyses: MGYA00135095\n",
      "analyses: MGYA00135096\n",
      "analyses: MGYA00135100\n",
      "analyses: MGYA00135101\n",
      "analyses: MGYA00135097\n"
     ]
    }
   ],
   "source": [
    "for x in sample:\n",
    "    #print('sample: '+str(i.accession))\n",
    "    for a in x.runs:\n",
    "        #print('runs: '+str(a.accession))\n",
    "        for b in a.analyses:\n",
    "            print('analyses: '+str(b.accession))"
   ]
  },
  {
   "cell_type": "code",
   "execution_count": null,
   "metadata": {},
   "outputs": [],
   "source": [
    "#memasukkan sample yang dipilih ke bentuk kolom\n",
    "df = pd.DataFrame(sample[0].sample_metadata)\n",
    "df"
   ]
  },
  {
   "cell_type": "code",
   "execution_count": null,
   "metadata": {},
   "outputs": [],
   "source": [
    "blank = []"
   ]
  },
  {
   "cell_type": "code",
   "execution_count": null,
   "metadata": {},
   "outputs": [],
   "source": [
    "#membuat index baru dari list 'key' yang dipilih\n",
    "index = np.where(df['key'].str.contains('location'))[0]\n",
    "blank.append(df.iloc[index, :])\n",
    "index = np.where(df['key'].str.contains('biome'))[0]\n",
    "blank.append(df.iloc[index, :])\n",
    "index = np.where(df['key'].str.contains('elevation'))[0]\n",
    "blank.append(df.iloc[index, :])"
   ]
  },
  {
   "cell_type": "code",
   "execution_count": null,
   "metadata": {},
   "outputs": [],
   "source": [
    "#'key' yang dilih dijadikan data frame baru\n",
    "df_new = pd.concat(blank)\n",
    "df_new"
   ]
  },
  {
   "cell_type": "code",
   "execution_count": null,
   "metadata": {},
   "outputs": [],
   "source": [
    "filename_sample = '' "
   ]
  },
  {
   "cell_type": "code",
   "execution_count": null,
   "metadata": {},
   "outputs": [],
   "source": [
    "#membuat loop accession di dalam bentuk list\n",
    "for x in sample:\n",
    "    #print('sample: '+str(i.accession))\n",
    "    for a in x.runs:\n",
    "        #print('runs: '+str(a.accession))\n",
    "        for b in a.analyses:\n",
    "            print('analyses: '+str(b.accession))\n",
    "            #for z in y.downloads:\n",
    "                #if 'json.biom' in z.url:\n",
    "                    #print(z.url)"
   ]
  },
  {
   "cell_type": "code",
   "execution_count": 13,
   "metadata": {},
   "outputs": [
    {
     "name": "stdout",
     "output_type": "stream",
     "text": [
      "D:\\Seminar\\Seminar_Anam\\Study_Jagung\n"
     ]
    }
   ],
   "source": [
    "#membuat folder\n",
    "from pathlib import Path\n",
    "import os\n",
    "_dir = os.getcwd()\n",
    "#_dir = 'D:\\\\Seminar\\\\Seminar_Anam'\n",
    "_dir = os.path.join(_dir, 'Study_Jagung')\n",
    "if not os.path.exists(_dir):\n",
    "    os.makedirs(_dir)\n",
    "print(_dir)\n",
    "#%rmdir(Study+str)\n",
    "#with open('_dir'+i.accession+'.biom', 'wb') as f:\n",
    "    #c = pycurl.Curl()\n",
    "    #c.setopt(c.URL, z.url)\n",
    "    #c.setopt(c.WRITEDATA, f)\n",
    "    #c.perform()\n",
    "#c.close()"
   ]
  },
  {
   "cell_type": "code",
   "execution_count": null,
   "metadata": {},
   "outputs": [],
   "source": []
  },
  {
   "cell_type": "code",
   "execution_count": null,
   "metadata": {},
   "outputs": [],
   "source": []
  }
 ],
 "metadata": {
  "kernelspec": {
   "display_name": "Python 3",
   "language": "python",
   "name": "python3"
  },
  "language_info": {
   "codemirror_mode": {
    "name": "ipython",
    "version": 3
   },
   "file_extension": ".py",
   "mimetype": "text/x-python",
   "name": "python",
   "nbconvert_exporter": "python",
   "pygments_lexer": "ipython3",
   "version": "3.6.4"
  }
 },
 "nbformat": 4,
 "nbformat_minor": 2
}
