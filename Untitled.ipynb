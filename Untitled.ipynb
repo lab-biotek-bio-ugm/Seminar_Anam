{
 "cells": [
  {
   "cell_type": "code",
   "execution_count": 1,
   "metadata": {},
   "outputs": [
    {
     "data": {
      "text/html": [
       "<table>\n",
       "<thead><tr><th></th><th scope=col>wt1</th><th scope=col>wt2</th><th scope=col>wt3</th><th scope=col>wt4</th><th scope=col>wt5</th><th scope=col>ko1</th><th scope=col>ko2</th><th scope=col>ko3</th><th scope=col>ko4</th><th scope=col>ko5</th></tr></thead>\n",
       "<tbody>\n",
       "\t<tr><th scope=row>gene1</th><td>426</td><td>432</td><td>409</td><td>442</td><td>419</td><td>789</td><td>773</td><td>825</td><td>783</td><td>752</td></tr>\n",
       "\t<tr><th scope=row>gene2</th><td>957</td><td>932</td><td>961</td><td>880</td><td>941</td><td>467</td><td>457</td><td>508</td><td>471</td><td>464</td></tr>\n",
       "\t<tr><th scope=row>gene3</th><td>120</td><td>106</td><td> 99</td><td>105</td><td>110</td><td>657</td><td>621</td><td>614</td><td>693</td><td>644</td></tr>\n",
       "\t<tr><th scope=row>gene4</th><td>897</td><td>942</td><td>918</td><td>920</td><td>922</td><td>955</td><td>865</td><td>904</td><td>933</td><td>937</td></tr>\n",
       "\t<tr><th scope=row>gene5</th><td>798</td><td>800</td><td>799</td><td>832</td><td>848</td><td>459</td><td>457</td><td>469</td><td>486</td><td>455</td></tr>\n",
       "\t<tr><th scope=row>gene6</th><td>475</td><td>447</td><td>461</td><td>412</td><td>432</td><td>577</td><td>608</td><td>665</td><td>620</td><td>571</td></tr>\n",
       "</tbody>\n",
       "</table>\n"
      ],
      "text/latex": [
       "\\begin{tabular}{r|llllllllll}\n",
       "  & wt1 & wt2 & wt3 & wt4 & wt5 & ko1 & ko2 & ko3 & ko4 & ko5\\\\\n",
       "\\hline\n",
       "\tgene1 & 426 & 432 & 409 & 442 & 419 & 789 & 773 & 825 & 783 & 752\\\\\n",
       "\tgene2 & 957 & 932 & 961 & 880 & 941 & 467 & 457 & 508 & 471 & 464\\\\\n",
       "\tgene3 & 120 & 106 &  99 & 105 & 110 & 657 & 621 & 614 & 693 & 644\\\\\n",
       "\tgene4 & 897 & 942 & 918 & 920 & 922 & 955 & 865 & 904 & 933 & 937\\\\\n",
       "\tgene5 & 798 & 800 & 799 & 832 & 848 & 459 & 457 & 469 & 486 & 455\\\\\n",
       "\tgene6 & 475 & 447 & 461 & 412 & 432 & 577 & 608 & 665 & 620 & 571\\\\\n",
       "\\end{tabular}\n"
      ],
      "text/markdown": [
       "\n",
       "| <!--/--> | wt1 | wt2 | wt3 | wt4 | wt5 | ko1 | ko2 | ko3 | ko4 | ko5 | \n",
       "|---|---|---|---|---|---|\n",
       "| gene1 | 426 | 432 | 409 | 442 | 419 | 789 | 773 | 825 | 783 | 752 | \n",
       "| gene2 | 957 | 932 | 961 | 880 | 941 | 467 | 457 | 508 | 471 | 464 | \n",
       "| gene3 | 120 | 106 |  99 | 105 | 110 | 657 | 621 | 614 | 693 | 644 | \n",
       "| gene4 | 897 | 942 | 918 | 920 | 922 | 955 | 865 | 904 | 933 | 937 | \n",
       "| gene5 | 798 | 800 | 799 | 832 | 848 | 459 | 457 | 469 | 486 | 455 | \n",
       "| gene6 | 475 | 447 | 461 | 412 | 432 | 577 | 608 | 665 | 620 | 571 | \n",
       "\n",
       "\n"
      ],
      "text/plain": [
       "      wt1 wt2 wt3 wt4 wt5 ko1 ko2 ko3 ko4 ko5\n",
       "gene1 426 432 409 442 419 789 773 825 783 752\n",
       "gene2 957 932 961 880 941 467 457 508 471 464\n",
       "gene3 120 106  99 105 110 657 621 614 693 644\n",
       "gene4 897 942 918 920 922 955 865 904 933 937\n",
       "gene5 798 800 799 832 848 459 457 469 486 455\n",
       "gene6 475 447 461 412 432 577 608 665 620 571"
      ]
     },
     "metadata": {},
     "output_type": "display_data"
    },
    {
     "data": {
      "text/html": [
       "<ol class=list-inline>\n",
       "\t<li>100</li>\n",
       "\t<li>10</li>\n",
       "</ol>\n"
      ],
      "text/latex": [
       "\\begin{enumerate*}\n",
       "\\item 100\n",
       "\\item 10\n",
       "\\end{enumerate*}\n"
      ],
      "text/markdown": [
       "1. 100\n",
       "2. 10\n",
       "\n",
       "\n"
      ],
      "text/plain": [
       "[1] 100  10"
      ]
     },
     "metadata": {},
     "output_type": "display_data"
    },
    {
     "data": {
      "text/html": [
       "<ol class=list-inline>\n",
       "\t<li>87.3</li>\n",
       "\t<li>4</li>\n",
       "\t<li>2.7</li>\n",
       "\t<li>2.1</li>\n",
       "\t<li>1.1</li>\n",
       "\t<li>1</li>\n",
       "\t<li>0.7</li>\n",
       "\t<li>0.7</li>\n",
       "\t<li>0.4</li>\n",
       "\t<li>0</li>\n",
       "</ol>\n"
      ],
      "text/latex": [
       "\\begin{enumerate*}\n",
       "\\item 87.3\n",
       "\\item 4\n",
       "\\item 2.7\n",
       "\\item 2.1\n",
       "\\item 1.1\n",
       "\\item 1\n",
       "\\item 0.7\n",
       "\\item 0.7\n",
       "\\item 0.4\n",
       "\\item 0\n",
       "\\end{enumerate*}\n"
      ],
      "text/markdown": [
       "1. 87.3\n",
       "2. 4\n",
       "3. 2.7\n",
       "4. 2.1\n",
       "5. 1.1\n",
       "6. 1\n",
       "7. 0.7\n",
       "8. 0.7\n",
       "9. 0.4\n",
       "10. 0\n",
       "\n",
       "\n"
      ],
      "text/plain": [
       " [1] 87.3  4.0  2.7  2.1  1.1  1.0  0.7  0.7  0.4  0.0"
      ]
     },
     "metadata": {},
     "output_type": "display_data"
    },
    {
     "data": {
      "text/html": [
       "<table>\n",
       "<thead><tr><th></th><th scope=col>Sample</th><th scope=col>X</th><th scope=col>Y</th></tr></thead>\n",
       "<tbody>\n",
       "\t<tr><th scope=row>wt1</th><td>wt1       </td><td>-9.114176 </td><td> 3.6953588</td></tr>\n",
       "\t<tr><th scope=row>wt2</th><td>wt2       </td><td>-8.833162 </td><td> 0.2170605</td></tr>\n",
       "\t<tr><th scope=row>wt3</th><td>wt3       </td><td>-8.686908 </td><td>-2.3091796</td></tr>\n",
       "\t<tr><th scope=row>wt4</th><td>wt4       </td><td>-8.825060 </td><td>-3.2588694</td></tr>\n",
       "\t<tr><th scope=row>wt5</th><td>wt5       </td><td>-8.847097 </td><td> 1.5210516</td></tr>\n",
       "\t<tr><th scope=row>ko1</th><td>ko1       </td><td> 8.635573 </td><td> 0.5085262</td></tr>\n",
       "\t<tr><th scope=row>ko2</th><td>ko2       </td><td> 9.177276 </td><td>-1.0972604</td></tr>\n",
       "\t<tr><th scope=row>ko3</th><td>ko3       </td><td> 9.055855 </td><td>-1.0474478</td></tr>\n",
       "\t<tr><th scope=row>ko4</th><td>ko4       </td><td> 8.579503 </td><td> 1.0288494</td></tr>\n",
       "\t<tr><th scope=row>ko5</th><td>ko5       </td><td> 8.858196 </td><td> 0.7419107</td></tr>\n",
       "</tbody>\n",
       "</table>\n"
      ],
      "text/latex": [
       "\\begin{tabular}{r|lll}\n",
       "  & Sample & X & Y\\\\\n",
       "\\hline\n",
       "\twt1 & wt1        & -9.114176  &  3.6953588\\\\\n",
       "\twt2 & wt2        & -8.833162  &  0.2170605\\\\\n",
       "\twt3 & wt3        & -8.686908  & -2.3091796\\\\\n",
       "\twt4 & wt4        & -8.825060  & -3.2588694\\\\\n",
       "\twt5 & wt5        & -8.847097  &  1.5210516\\\\\n",
       "\tko1 & ko1        &  8.635573  &  0.5085262\\\\\n",
       "\tko2 & ko2        &  9.177276  & -1.0972604\\\\\n",
       "\tko3 & ko3        &  9.055855  & -1.0474478\\\\\n",
       "\tko4 & ko4        &  8.579503  &  1.0288494\\\\\n",
       "\tko5 & ko5        &  8.858196  &  0.7419107\\\\\n",
       "\\end{tabular}\n"
      ],
      "text/markdown": [
       "\n",
       "| <!--/--> | Sample | X | Y | \n",
       "|---|---|---|---|---|---|---|---|---|---|\n",
       "| wt1 | wt1        | -9.114176  |  3.6953588 | \n",
       "| wt2 | wt2        | -8.833162  |  0.2170605 | \n",
       "| wt3 | wt3        | -8.686908  | -2.3091796 | \n",
       "| wt4 | wt4        | -8.825060  | -3.2588694 | \n",
       "| wt5 | wt5        | -8.847097  |  1.5210516 | \n",
       "| ko1 | ko1        |  8.635573  |  0.5085262 | \n",
       "| ko2 | ko2        |  9.177276  | -1.0972604 | \n",
       "| ko3 | ko3        |  9.055855  | -1.0474478 | \n",
       "| ko4 | ko4        |  8.579503  |  1.0288494 | \n",
       "| ko5 | ko5        |  8.858196  |  0.7419107 | \n",
       "\n",
       "\n"
      ],
      "text/plain": [
       "    Sample X         Y         \n",
       "wt1 wt1    -9.114176  3.6953588\n",
       "wt2 wt2    -8.833162  0.2170605\n",
       "wt3 wt3    -8.686908 -2.3091796\n",
       "wt4 wt4    -8.825060 -3.2588694\n",
       "wt5 wt5    -8.847097  1.5210516\n",
       "ko1 ko1     8.635573  0.5085262\n",
       "ko2 ko2     9.177276 -1.0972604\n",
       "ko3 ko3     9.055855 -1.0474478\n",
       "ko4 ko4     8.579503  1.0288494\n",
       "ko5 ko5     8.858196  0.7419107"
      ]
     },
     "metadata": {},
     "output_type": "display_data"
    },
    {
     "data": {},
     "metadata": {},
     "output_type": "display_data"
    },
    {
     "data": {
      "text/html": [
       "<ol class=list-inline>\n",
       "\t<li>87.3</li>\n",
       "\t<li>4</li>\n",
       "\t<li>2.7</li>\n",
       "\t<li>2.1</li>\n",
       "\t<li>1.1</li>\n",
       "\t<li>1</li>\n",
       "\t<li>0.7</li>\n",
       "\t<li>0.7</li>\n",
       "\t<li>0.4</li>\n",
       "\t<li>0</li>\n",
       "</ol>\n"
      ],
      "text/latex": [
       "\\begin{enumerate*}\n",
       "\\item 87.3\n",
       "\\item 4\n",
       "\\item 2.7\n",
       "\\item 2.1\n",
       "\\item 1.1\n",
       "\\item 1\n",
       "\\item 0.7\n",
       "\\item 0.7\n",
       "\\item 0.4\n",
       "\\item 0\n",
       "\\end{enumerate*}\n"
      ],
      "text/markdown": [
       "1. 87.3\n",
       "2. 4\n",
       "3. 2.7\n",
       "4. 2.1\n",
       "5. 1.1\n",
       "6. 1\n",
       "7. 0.7\n",
       "8. 0.7\n",
       "9. 0.4\n",
       "10. 0\n",
       "\n",
       "\n"
      ],
      "text/plain": [
       " [1] 87.3  4.0  2.7  2.1  1.1  1.0  0.7  0.7  0.4  0.0"
      ]
     },
     "metadata": {},
     "output_type": "display_data"
    },
    {
     "data": {
      "text/html": [
       "<table>\n",
       "<thead><tr><th></th><th scope=col>Sample</th><th scope=col>X</th><th scope=col>Y</th></tr></thead>\n",
       "<tbody>\n",
       "\t<tr><th scope=row>wt1</th><td>wt1       </td><td>-9.114176 </td><td> 3.6953588</td></tr>\n",
       "\t<tr><th scope=row>wt2</th><td>wt2       </td><td>-8.833162 </td><td> 0.2170605</td></tr>\n",
       "\t<tr><th scope=row>wt3</th><td>wt3       </td><td>-8.686908 </td><td>-2.3091796</td></tr>\n",
       "\t<tr><th scope=row>wt4</th><td>wt4       </td><td>-8.825060 </td><td>-3.2588694</td></tr>\n",
       "\t<tr><th scope=row>wt5</th><td>wt5       </td><td>-8.847097 </td><td> 1.5210516</td></tr>\n",
       "\t<tr><th scope=row>ko1</th><td>ko1       </td><td> 8.635573 </td><td> 0.5085262</td></tr>\n",
       "\t<tr><th scope=row>ko2</th><td>ko2       </td><td> 9.177276 </td><td>-1.0972604</td></tr>\n",
       "\t<tr><th scope=row>ko3</th><td>ko3       </td><td> 9.055855 </td><td>-1.0474478</td></tr>\n",
       "\t<tr><th scope=row>ko4</th><td>ko4       </td><td> 8.579503 </td><td> 1.0288494</td></tr>\n",
       "\t<tr><th scope=row>ko5</th><td>ko5       </td><td> 8.858196 </td><td> 0.7419107</td></tr>\n",
       "</tbody>\n",
       "</table>\n"
      ],
      "text/latex": [
       "\\begin{tabular}{r|lll}\n",
       "  & Sample & X & Y\\\\\n",
       "\\hline\n",
       "\twt1 & wt1        & -9.114176  &  3.6953588\\\\\n",
       "\twt2 & wt2        & -8.833162  &  0.2170605\\\\\n",
       "\twt3 & wt3        & -8.686908  & -2.3091796\\\\\n",
       "\twt4 & wt4        & -8.825060  & -3.2588694\\\\\n",
       "\twt5 & wt5        & -8.847097  &  1.5210516\\\\\n",
       "\tko1 & ko1        &  8.635573  &  0.5085262\\\\\n",
       "\tko2 & ko2        &  9.177276  & -1.0972604\\\\\n",
       "\tko3 & ko3        &  9.055855  & -1.0474478\\\\\n",
       "\tko4 & ko4        &  8.579503  &  1.0288494\\\\\n",
       "\tko5 & ko5        &  8.858196  &  0.7419107\\\\\n",
       "\\end{tabular}\n"
      ],
      "text/markdown": [
       "\n",
       "| <!--/--> | Sample | X | Y | \n",
       "|---|---|---|---|---|---|---|---|---|---|\n",
       "| wt1 | wt1        | -9.114176  |  3.6953588 | \n",
       "| wt2 | wt2        | -8.833162  |  0.2170605 | \n",
       "| wt3 | wt3        | -8.686908  | -2.3091796 | \n",
       "| wt4 | wt4        | -8.825060  | -3.2588694 | \n",
       "| wt5 | wt5        | -8.847097  |  1.5210516 | \n",
       "| ko1 | ko1        |  8.635573  |  0.5085262 | \n",
       "| ko2 | ko2        |  9.177276  | -1.0972604 | \n",
       "| ko3 | ko3        |  9.055855  | -1.0474478 | \n",
       "| ko4 | ko4        |  8.579503  |  1.0288494 | \n",
       "| ko5 | ko5        |  8.858196  |  0.7419107 | \n",
       "\n",
       "\n"
      ],
      "text/plain": [
       "    Sample X         Y         \n",
       "wt1 wt1    -9.114176  3.6953588\n",
       "wt2 wt2    -8.833162  0.2170605\n",
       "wt3 wt3    -8.686908 -2.3091796\n",
       "wt4 wt4    -8.825060 -3.2588694\n",
       "wt5 wt5    -8.847097  1.5210516\n",
       "ko1 ko1     8.635573  0.5085262\n",
       "ko2 ko2     9.177276 -1.0972604\n",
       "ko3 ko3     9.055855 -1.0474478\n",
       "ko4 ko4     8.579503  1.0288494\n",
       "ko5 ko5     8.858196  0.7419107"
      ]
     },
     "metadata": {},
     "output_type": "display_data"
    },
    {
     "data": {},
     "metadata": {},
     "output_type": "display_data"
    },
    {
     "data": {
      "image/png": "[encoded data removed]",
      "text/plain": [
       "plot without title"
      ]
     },
     "metadata": {},
     "output_type": "display_data",
     "source": "R display func"
    },
    {
     "data": {
      "text/html": [
       "<table>\n",
       "<thead><tr><th></th><th scope=col>wt1</th><th scope=col>wt2</th><th scope=col>wt3</th><th scope=col>wt4</th><th scope=col>wt5</th><th scope=col>ko1</th><th scope=col>ko2</th><th scope=col>ko3</th><th scope=col>ko4</th><th scope=col>ko5</th></tr></thead>\n",
       "<tbody>\n",
       "\t<tr><th scope=row>wt1</th><td>0</td><td>0</td><td>0</td><td>0</td><td>0</td><td>0</td><td>0</td><td>0</td><td>0</td><td>0</td></tr>\n",
       "\t<tr><th scope=row>wt2</th><td>0</td><td>0</td><td>0</td><td>0</td><td>0</td><td>0</td><td>0</td><td>0</td><td>0</td><td>0</td></tr>\n",
       "\t<tr><th scope=row>wt3</th><td>0</td><td>0</td><td>0</td><td>0</td><td>0</td><td>0</td><td>0</td><td>0</td><td>0</td><td>0</td></tr>\n",
       "\t<tr><th scope=row>wt4</th><td>0</td><td>0</td><td>0</td><td>0</td><td>0</td><td>0</td><td>0</td><td>0</td><td>0</td><td>0</td></tr>\n",
       "\t<tr><th scope=row>wt5</th><td>0</td><td>0</td><td>0</td><td>0</td><td>0</td><td>0</td><td>0</td><td>0</td><td>0</td><td>0</td></tr>\n",
       "\t<tr><th scope=row>ko1</th><td>0</td><td>0</td><td>0</td><td>0</td><td>0</td><td>0</td><td>0</td><td>0</td><td>0</td><td>0</td></tr>\n",
       "\t<tr><th scope=row>ko2</th><td>0</td><td>0</td><td>0</td><td>0</td><td>0</td><td>0</td><td>0</td><td>0</td><td>0</td><td>0</td></tr>\n",
       "\t<tr><th scope=row>ko3</th><td>0</td><td>0</td><td>0</td><td>0</td><td>0</td><td>0</td><td>0</td><td>0</td><td>0</td><td>0</td></tr>\n",
       "\t<tr><th scope=row>ko4</th><td>0</td><td>0</td><td>0</td><td>0</td><td>0</td><td>0</td><td>0</td><td>0</td><td>0</td><td>0</td></tr>\n",
       "\t<tr><th scope=row>ko5</th><td>0</td><td>0</td><td>0</td><td>0</td><td>0</td><td>0</td><td>0</td><td>0</td><td>0</td><td>0</td></tr>\n",
       "</tbody>\n",
       "</table>\n"
      ],
      "text/latex": [
       "\\begin{tabular}{r|llllllllll}\n",
       "  & wt1 & wt2 & wt3 & wt4 & wt5 & ko1 & ko2 & ko3 & ko4 & ko5\\\\\n",
       "\\hline\n",
       "\twt1 & 0 & 0 & 0 & 0 & 0 & 0 & 0 & 0 & 0 & 0\\\\\n",
       "\twt2 & 0 & 0 & 0 & 0 & 0 & 0 & 0 & 0 & 0 & 0\\\\\n",
       "\twt3 & 0 & 0 & 0 & 0 & 0 & 0 & 0 & 0 & 0 & 0\\\\\n",
       "\twt4 & 0 & 0 & 0 & 0 & 0 & 0 & 0 & 0 & 0 & 0\\\\\n",
       "\twt5 & 0 & 0 & 0 & 0 & 0 & 0 & 0 & 0 & 0 & 0\\\\\n",
       "\tko1 & 0 & 0 & 0 & 0 & 0 & 0 & 0 & 0 & 0 & 0\\\\\n",
       "\tko2 & 0 & 0 & 0 & 0 & 0 & 0 & 0 & 0 & 0 & 0\\\\\n",
       "\tko3 & 0 & 0 & 0 & 0 & 0 & 0 & 0 & 0 & 0 & 0\\\\\n",
       "\tko4 & 0 & 0 & 0 & 0 & 0 & 0 & 0 & 0 & 0 & 0\\\\\n",
       "\tko5 & 0 & 0 & 0 & 0 & 0 & 0 & 0 & 0 & 0 & 0\\\\\n",
       "\\end{tabular}\n"
      ],
      "text/markdown": [
       "\n",
       "| <!--/--> | wt1 | wt2 | wt3 | wt4 | wt5 | ko1 | ko2 | ko3 | ko4 | ko5 | \n",
       "|---|---|---|---|---|---|---|---|---|---|\n",
       "| wt1 | 0 | 0 | 0 | 0 | 0 | 0 | 0 | 0 | 0 | 0 | \n",
       "| wt2 | 0 | 0 | 0 | 0 | 0 | 0 | 0 | 0 | 0 | 0 | \n",
       "| wt3 | 0 | 0 | 0 | 0 | 0 | 0 | 0 | 0 | 0 | 0 | \n",
       "| wt4 | 0 | 0 | 0 | 0 | 0 | 0 | 0 | 0 | 0 | 0 | \n",
       "| wt5 | 0 | 0 | 0 | 0 | 0 | 0 | 0 | 0 | 0 | 0 | \n",
       "| ko1 | 0 | 0 | 0 | 0 | 0 | 0 | 0 | 0 | 0 | 0 | \n",
       "| ko2 | 0 | 0 | 0 | 0 | 0 | 0 | 0 | 0 | 0 | 0 | \n",
       "| ko3 | 0 | 0 | 0 | 0 | 0 | 0 | 0 | 0 | 0 | 0 | \n",
       "| ko4 | 0 | 0 | 0 | 0 | 0 | 0 | 0 | 0 | 0 | 0 | \n",
       "| ko5 | 0 | 0 | 0 | 0 | 0 | 0 | 0 | 0 | 0 | 0 | \n",
       "\n",
       "\n"
      ],
      "text/plain": [
       "    wt1 wt2 wt3 wt4 wt5 ko1 ko2 ko3 ko4 ko5\n",
       "wt1 0   0   0   0   0   0   0   0   0   0  \n",
       "wt2 0   0   0   0   0   0   0   0   0   0  \n",
       "wt3 0   0   0   0   0   0   0   0   0   0  \n",
       "wt4 0   0   0   0   0   0   0   0   0   0  \n",
       "wt5 0   0   0   0   0   0   0   0   0   0  \n",
       "ko1 0   0   0   0   0   0   0   0   0   0  \n",
       "ko2 0   0   0   0   0   0   0   0   0   0  \n",
       "ko3 0   0   0   0   0   0   0   0   0   0  \n",
       "ko4 0   0   0   0   0   0   0   0   0   0  \n",
       "ko5 0   0   0   0   0   0   0   0   0   0  "
      ]
     },
     "metadata": {},
     "output_type": "display_data"
    },
    {
     "data": {
      "text/html": [
       "<table>\n",
       "<thead><tr><th></th><th scope=col>wt1</th><th scope=col>wt2</th><th scope=col>wt3</th><th scope=col>wt4</th><th scope=col>wt5</th><th scope=col>ko1</th><th scope=col>ko2</th><th scope=col>ko3</th><th scope=col>ko4</th><th scope=col>ko5</th></tr></thead>\n",
       "<tbody>\n",
       "\t<tr><th scope=row>wt1</th><td>0.00000000</td><td>0.00000000</td><td>0.00000000</td><td>0.00000000</td><td>0.000000  </td><td>0.00000000</td><td>0.00000000</td><td>0.00000000</td><td>0.00000000</td><td>0         </td></tr>\n",
       "\t<tr><th scope=row>wt2</th><td>0.08578314</td><td>0.00000000</td><td>0.00000000</td><td>0.00000000</td><td>0.000000  </td><td>0.00000000</td><td>0.00000000</td><td>0.00000000</td><td>0.00000000</td><td>0         </td></tr>\n",
       "\t<tr><th scope=row>wt3</th><td>0.09878175</td><td>0.08443217</td><td>0.00000000</td><td>0.00000000</td><td>0.000000  </td><td>0.00000000</td><td>0.00000000</td><td>0.00000000</td><td>0.00000000</td><td>0         </td></tr>\n",
       "\t<tr><th scope=row>wt4</th><td>0.10682328</td><td>0.08471778</td><td>0.08478397</td><td>0.00000000</td><td>0.000000  </td><td>0.00000000</td><td>0.00000000</td><td>0.00000000</td><td>0.00000000</td><td>0         </td></tr>\n",
       "\t<tr><th scope=row>wt5</th><td>0.08851679</td><td>0.08287673</td><td>0.09470201</td><td>0.09720507</td><td>0.000000  </td><td>0.00000000</td><td>0.00000000</td><td>0.00000000</td><td>0.00000000</td><td>0         </td></tr>\n",
       "\t<tr><th scope=row>ko1</th><td>1.24324340</td><td>1.24167821</td><td>1.25921575</td><td>1.26010349</td><td>1.244934  </td><td>0.00000000</td><td>0.00000000</td><td>0.00000000</td><td>0.00000000</td><td>0         </td></tr>\n",
       "\t<tr><th scope=row>ko2</th><td>1.25258548</td><td>1.24952368</td><td>1.26749512</td><td>1.26824169</td><td>1.254427  </td><td>0.07721277</td><td>0.00000000</td><td>0.00000000</td><td>0.00000000</td><td>0         </td></tr>\n",
       "\t<tr><th scope=row>ko3</th><td>1.25252212</td><td>1.24830364</td><td>1.26511720</td><td>1.26873580</td><td>1.255618  </td><td>0.07990734</td><td>0.07994846</td><td>0.00000000</td><td>0.00000000</td><td>0         </td></tr>\n",
       "\t<tr><th scope=row>ko4</th><td>1.24389832</td><td>1.24296696</td><td>1.26090486</td><td>1.26127771</td><td>1.245184  </td><td>0.07294480</td><td>0.09141238</td><td>0.08901271</td><td>0.00000000</td><td>0         </td></tr>\n",
       "\t<tr><th scope=row>ko5</th><td>1.25186527</td><td>1.24745325</td><td>1.26780605</td><td>1.26879024</td><td>1.254829  </td><td>0.05970356</td><td>0.09175602</td><td>0.08277272</td><td>0.07903347</td><td>0         </td></tr>\n",
       "</tbody>\n",
       "</table>\n"
      ],
      "text/latex": [
       "\\begin{tabular}{r|llllllllll}\n",
       "  & wt1 & wt2 & wt3 & wt4 & wt5 & ko1 & ko2 & ko3 & ko4 & ko5\\\\\n",
       "\\hline\n",
       "\twt1 & 0.00000000 & 0.00000000 & 0.00000000 & 0.00000000 & 0.000000   & 0.00000000 & 0.00000000 & 0.00000000 & 0.00000000 & 0         \\\\\n",
       "\twt2 & 0.08578314 & 0.00000000 & 0.00000000 & 0.00000000 & 0.000000   & 0.00000000 & 0.00000000 & 0.00000000 & 0.00000000 & 0         \\\\\n",
       "\twt3 & 0.09878175 & 0.08443217 & 0.00000000 & 0.00000000 & 0.000000   & 0.00000000 & 0.00000000 & 0.00000000 & 0.00000000 & 0         \\\\\n",
       "\twt4 & 0.10682328 & 0.08471778 & 0.08478397 & 0.00000000 & 0.000000   & 0.00000000 & 0.00000000 & 0.00000000 & 0.00000000 & 0         \\\\\n",
       "\twt5 & 0.08851679 & 0.08287673 & 0.09470201 & 0.09720507 & 0.000000   & 0.00000000 & 0.00000000 & 0.00000000 & 0.00000000 & 0         \\\\\n",
       "\tko1 & 1.24324340 & 1.24167821 & 1.25921575 & 1.26010349 & 1.244934   & 0.00000000 & 0.00000000 & 0.00000000 & 0.00000000 & 0         \\\\\n",
       "\tko2 & 1.25258548 & 1.24952368 & 1.26749512 & 1.26824169 & 1.254427   & 0.07721277 & 0.00000000 & 0.00000000 & 0.00000000 & 0         \\\\\n",
       "\tko3 & 1.25252212 & 1.24830364 & 1.26511720 & 1.26873580 & 1.255618   & 0.07990734 & 0.07994846 & 0.00000000 & 0.00000000 & 0         \\\\\n",
       "\tko4 & 1.24389832 & 1.24296696 & 1.26090486 & 1.26127771 & 1.245184   & 0.07294480 & 0.09141238 & 0.08901271 & 0.00000000 & 0         \\\\\n",
       "\tko5 & 1.25186527 & 1.24745325 & 1.26780605 & 1.26879024 & 1.254829   & 0.05970356 & 0.09175602 & 0.08277272 & 0.07903347 & 0         \\\\\n",
       "\\end{tabular}\n"
      ],
      "text/markdown": [
       "\n",
       "| <!--/--> | wt1 | wt2 | wt3 | wt4 | wt5 | ko1 | ko2 | ko3 | ko4 | ko5 | \n",
       "|---|---|---|---|---|---|---|---|---|---|\n",
       "| wt1 | 0.00000000 | 0.00000000 | 0.00000000 | 0.00000000 | 0.000000   | 0.00000000 | 0.00000000 | 0.00000000 | 0.00000000 | 0          | \n",
       "| wt2 | 0.08578314 | 0.00000000 | 0.00000000 | 0.00000000 | 0.000000   | 0.00000000 | 0.00000000 | 0.00000000 | 0.00000000 | 0          | \n",
       "| wt3 | 0.09878175 | 0.08443217 | 0.00000000 | 0.00000000 | 0.000000   | 0.00000000 | 0.00000000 | 0.00000000 | 0.00000000 | 0          | \n",
       "| wt4 | 0.10682328 | 0.08471778 | 0.08478397 | 0.00000000 | 0.000000   | 0.00000000 | 0.00000000 | 0.00000000 | 0.00000000 | 0          | \n",
       "| wt5 | 0.08851679 | 0.08287673 | 0.09470201 | 0.09720507 | 0.000000   | 0.00000000 | 0.00000000 | 0.00000000 | 0.00000000 | 0          | \n",
       "| ko1 | 1.24324340 | 1.24167821 | 1.25921575 | 1.26010349 | 1.244934   | 0.00000000 | 0.00000000 | 0.00000000 | 0.00000000 | 0          | \n",
       "| ko2 | 1.25258548 | 1.24952368 | 1.26749512 | 1.26824169 | 1.254427   | 0.07721277 | 0.00000000 | 0.00000000 | 0.00000000 | 0          | \n",
       "| ko3 | 1.25252212 | 1.24830364 | 1.26511720 | 1.26873580 | 1.255618   | 0.07990734 | 0.07994846 | 0.00000000 | 0.00000000 | 0          | \n",
       "| ko4 | 1.24389832 | 1.24296696 | 1.26090486 | 1.26127771 | 1.245184   | 0.07294480 | 0.09141238 | 0.08901271 | 0.00000000 | 0          | \n",
       "| ko5 | 1.25186527 | 1.24745325 | 1.26780605 | 1.26879024 | 1.254829   | 0.05970356 | 0.09175602 | 0.08277272 | 0.07903347 | 0          | \n",
       "\n",
       "\n"
      ],
      "text/plain": [
       "    wt1        wt2        wt3        wt4        wt5      ko1        ko2       \n",
       "wt1 0.00000000 0.00000000 0.00000000 0.00000000 0.000000 0.00000000 0.00000000\n",
       "wt2 0.08578314 0.00000000 0.00000000 0.00000000 0.000000 0.00000000 0.00000000\n",
       "wt3 0.09878175 0.08443217 0.00000000 0.00000000 0.000000 0.00000000 0.00000000\n",
       "wt4 0.10682328 0.08471778 0.08478397 0.00000000 0.000000 0.00000000 0.00000000\n",
       "wt5 0.08851679 0.08287673 0.09470201 0.09720507 0.000000 0.00000000 0.00000000\n",
       "ko1 1.24324340 1.24167821 1.25921575 1.26010349 1.244934 0.00000000 0.00000000\n",
       "ko2 1.25258548 1.24952368 1.26749512 1.26824169 1.254427 0.07721277 0.00000000\n",
       "ko3 1.25252212 1.24830364 1.26511720 1.26873580 1.255618 0.07990734 0.07994846\n",
       "ko4 1.24389832 1.24296696 1.26090486 1.26127771 1.245184 0.07294480 0.09141238\n",
       "ko5 1.25186527 1.24745325 1.26780605 1.26879024 1.254829 0.05970356 0.09175602\n",
       "    ko3        ko4        ko5\n",
       "wt1 0.00000000 0.00000000 0  \n",
       "wt2 0.00000000 0.00000000 0  \n",
       "wt3 0.00000000 0.00000000 0  \n",
       "wt4 0.00000000 0.00000000 0  \n",
       "wt5 0.00000000 0.00000000 0  \n",
       "ko1 0.00000000 0.00000000 0  \n",
       "ko2 0.00000000 0.00000000 0  \n",
       "ko3 0.00000000 0.00000000 0  \n",
       "ko4 0.08901271 0.00000000 0  \n",
       "ko5 0.08277272 0.07903347 0  "
      ]
     },
     "metadata": {},
     "output_type": "display_data"
    },
    {
     "data": {
      "text/html": [
       "<ol class=list-inline>\n",
       "\t<li>99.3</li>\n",
       "\t<li>0.2</li>\n",
       "\t<li>0.2</li>\n",
       "\t<li>0.1</li>\n",
       "\t<li>0.1</li>\n",
       "\t<li>0.1</li>\n",
       "\t<li>0.1</li>\n",
       "\t<li>0</li>\n",
       "\t<li>0</li>\n",
       "\t<li>0</li>\n",
       "</ol>\n"
      ],
      "text/latex": [
       "\\begin{enumerate*}\n",
       "\\item 99.3\n",
       "\\item 0.2\n",
       "\\item 0.2\n",
       "\\item 0.1\n",
       "\\item 0.1\n",
       "\\item 0.1\n",
       "\\item 0.1\n",
       "\\item 0\n",
       "\\item 0\n",
       "\\item 0\n",
       "\\end{enumerate*}\n"
      ],
      "text/markdown": [
       "1. 99.3\n",
       "2. 0.2\n",
       "3. 0.2\n",
       "4. 0.1\n",
       "5. 0.1\n",
       "6. 0.1\n",
       "7. 0.1\n",
       "8. 0\n",
       "9. 0\n",
       "10. 0\n",
       "\n",
       "\n"
      ],
      "text/plain": [
       " [1] 99.3  0.2  0.2  0.1  0.1  0.1  0.1  0.0  0.0  0.0"
      ]
     },
     "metadata": {},
     "output_type": "display_data"
    },
    {
     "data": {
      "text/html": [
       "<table>\n",
       "<thead><tr><th></th><th scope=col>Sample</th><th scope=col>X</th><th scope=col>Y</th></tr></thead>\n",
       "<tbody>\n",
       "\t<tr><th scope=row>wt1</th><td>wt1          </td><td>-0.6198409   </td><td> 3.069312e-02</td></tr>\n",
       "\t<tr><th scope=row>wt2</th><td>wt2          </td><td>-0.6176352   </td><td>-1.843650e-02</td></tr>\n",
       "\t<tr><th scope=row>wt3</th><td>wt3          </td><td>-0.6354521   </td><td>-4.097809e-02</td></tr>\n",
       "\t<tr><th scope=row>wt4</th><td>wt4          </td><td>-0.6366197   </td><td>-1.479088e-02</td></tr>\n",
       "\t<tr><th scope=row>wt5</th><td>wt5          </td><td>-0.6222808   </td><td> 4.376710e-02</td></tr>\n",
       "\t<tr><th scope=row>ko1</th><td>ko1          </td><td> 0.6215183   </td><td> 1.690034e-02</td></tr>\n",
       "\t<tr><th scope=row>ko2</th><td>ko2          </td><td> 0.6295183   </td><td>-1.164236e-02</td></tr>\n",
       "\t<tr><th scope=row>ko3</th><td>ko3          </td><td> 0.6292433   </td><td>-4.525622e-02</td></tr>\n",
       "\t<tr><th scope=row>ko4</th><td>ko4          </td><td> 0.6220029   </td><td> 3.984081e-02</td></tr>\n",
       "\t<tr><th scope=row>ko5</th><td>ko5          </td><td> 0.6295460   </td><td>-9.730848e-05</td></tr>\n",
       "</tbody>\n",
       "</table>\n"
      ],
      "text/latex": [
       "\\begin{tabular}{r|lll}\n",
       "  & Sample & X & Y\\\\\n",
       "\\hline\n",
       "\twt1 & wt1           & -0.6198409    &  3.069312e-02\\\\\n",
       "\twt2 & wt2           & -0.6176352    & -1.843650e-02\\\\\n",
       "\twt3 & wt3           & -0.6354521    & -4.097809e-02\\\\\n",
       "\twt4 & wt4           & -0.6366197    & -1.479088e-02\\\\\n",
       "\twt5 & wt5           & -0.6222808    &  4.376710e-02\\\\\n",
       "\tko1 & ko1           &  0.6215183    &  1.690034e-02\\\\\n",
       "\tko2 & ko2           &  0.6295183    & -1.164236e-02\\\\\n",
       "\tko3 & ko3           &  0.6292433    & -4.525622e-02\\\\\n",
       "\tko4 & ko4           &  0.6220029    &  3.984081e-02\\\\\n",
       "\tko5 & ko5           &  0.6295460    & -9.730848e-05\\\\\n",
       "\\end{tabular}\n"
      ],
      "text/markdown": [
       "\n",
       "| <!--/--> | Sample | X | Y | \n",
       "|---|---|---|---|---|---|---|---|---|---|\n",
       "| wt1 | wt1           | -0.6198409    |  3.069312e-02 | \n",
       "| wt2 | wt2           | -0.6176352    | -1.843650e-02 | \n",
       "| wt3 | wt3           | -0.6354521    | -4.097809e-02 | \n",
       "| wt4 | wt4           | -0.6366197    | -1.479088e-02 | \n",
       "| wt5 | wt5           | -0.6222808    |  4.376710e-02 | \n",
       "| ko1 | ko1           |  0.6215183    |  1.690034e-02 | \n",
       "| ko2 | ko2           |  0.6295183    | -1.164236e-02 | \n",
       "| ko3 | ko3           |  0.6292433    | -4.525622e-02 | \n",
       "| ko4 | ko4           |  0.6220029    |  3.984081e-02 | \n",
       "| ko5 | ko5           |  0.6295460    | -9.730848e-05 | \n",
       "\n",
       "\n"
      ],
      "text/plain": [
       "    Sample X          Y            \n",
       "wt1 wt1    -0.6198409  3.069312e-02\n",
       "wt2 wt2    -0.6176352 -1.843650e-02\n",
       "wt3 wt3    -0.6354521 -4.097809e-02\n",
       "wt4 wt4    -0.6366197 -1.479088e-02\n",
       "wt5 wt5    -0.6222808  4.376710e-02\n",
       "ko1 ko1     0.6215183  1.690034e-02\n",
       "ko2 ko2     0.6295183 -1.164236e-02\n",
       "ko3 ko3     0.6292433 -4.525622e-02\n",
       "ko4 ko4     0.6220029  3.984081e-02\n",
       "ko5 ko5     0.6295460 -9.730848e-05"
      ]
     },
     "metadata": {},
     "output_type": "display_data"
    },
    {
     "data": {},
     "metadata": {},
     "output_type": "display_data"
    },
    {
     "data": {
      "image/png": "[encoded data removed]",
      "text/plain": [
       "plot without title"
      ]
     },
     "metadata": {},
     "output_type": "display_data",
     "source": "R display func"
    },
    {
     "data": {
      "image/png": "[encoded data removed]",
      "text/plain": [
       "plot without title"
      ]
     },
     "metadata": {},
     "output_type": "display_data",
     "source": "R display func"
    }
   ],
   "source": [
    "library(ggplot2)\n",
    "\n",
    "\n",
    " \n",
    "###################################################################\n",
    "##\n",
    "## 2) Now draw an MDS plot using the same data and the Euclidean\n",
    "##    distance. This graph should look the same as the PCA plot\n",
    "##\n",
    "###################################################################\n",
    " \n",
    "## first, calculate the distance matrix using the Euclidian distance.\n",
    "## NOTE: We are transposing, scaling and centering the data just like PCA.\n",
    "distance.matrix <- dist(scale(t(data.matrix), center=TRUE, scale=TRUE),\n",
    "  method=\"euclidean\")\n",
    " \n",
    "## do the MDS math (this is basically eigen value decomposition)\n",
    "mds.stuff <- cmdscale(distance.matrix, eig=TRUE, x.ret=TRUE)\n",
    " \n",
    "## calculate the percentage of variation that each MDS axis accounts for...\n",
    "mds.var.per <- round(mds.stuff$eig/sum(mds.stuff$eig)*100, 1)\n",
    "mds.var.per\n",
    " \n",
    "## now make a fancy looking plot that shows the MDS axes and the variation:\n",
    "mds.values <- mds.stuff$points\n",
    "mds.data <- data.frame(Sample=rownames(mds.values),\n",
    "  X=mds.values[,1],\n",
    "  Y=mds.values[,2])\n",
    "mds.data\n",
    " \n",
    "ggplot(data=mds.data, aes(x=X, y=Y, label=Sample)) +\n",
    "  geom_text() +\n",
    "  theme_bw() +\n",
    "  xlab(paste(\"MDS1 - \", mds.var.per[1], \"%\", sep=\"\")) +\n",
    "  ylab(paste(\"MDS2 - \", mds.var.per[2], \"%\", sep=\"\")) +\n",
    "  ggtitle(\"MDS plot using Euclidean distance\")\n",
    " \n",
    "###################################################################\n",
    "##\n",
    "## 3) Now draw an MDS plot using the same data and the average log(fold change)\n",
    "##    This graph should look different than the first two\n",
    "##\n",
    "###################################################################\n",
    " \n",
    "## first, take the log2 of all the values in the data.matrix.\n",
    "## This makes it easy to compute log2(Fold Change) between a gene in two\n",
    "## samples since...\n",
    "##\n",
    "## log2(Fold Change) = log2(value for sample 1) - log2(value for sample 2)\n",
    "##\n",
    "log2.data.matrix <- log2(data.matrix)\n",
    " \n",
    "## now create an empty distance matrix\n",
    "log2.distance.matrix <- matrix(0,\n",
    "  nrow=ncol(log2.data.matrix),\n",
    "  ncol=ncol(log2.data.matrix),\n",
    "  dimnames=list(colnames(log2.data.matrix),\n",
    "    colnames(log2.data.matrix)))\n",
    " \n",
    "log2.distance.matrix\n",
    " \n",
    "## now compute the distance matrix using avg(absolute value(log2(FC)))\n",
    "for(i in 1:ncol(log2.distance.matrix)) {\n",
    "  for(j in 1:i) {\n",
    "    log2.distance.matrix[i, j] <-\n",
    "      mean(abs(log2.data.matrix[,i] - log2.data.matrix[,j]))\n",
    "  }\n",
    "}\n",
    "log2.distance.matrix\n",
    " \n",
    "## do the MDS math (this is basically eigen value decomposition)\n",
    "## cmdscale() is the function for \"Classical Multi-Dimensional Scalign\"\n",
    "mds.stuff <- cmdscale(as.dist(log2.distance.matrix),\n",
    "  eig=TRUE,\n",
    "  x.ret=TRUE)\n",
    " \n",
    "## calculate the percentage of variation that each MDS axis accounts for...\n",
    "mds.var.per <- round(mds.stuff$eig/sum(mds.stuff$eig)*100, 1)\n",
    "mds.var.per\n",
    " \n",
    "## now make a fancy looking plot that shows the MDS axes and the variation:\n",
    "mds.values <- mds.stuff$points\n",
    "mds.data <- data.frame(Sample=rownames(mds.values),\n",
    "  X=mds.values[,1],\n",
    "  Y=mds.values[,2])\n",
    "mds.data\n",
    " \n",
    "ggplot(data=mds.data, aes(x=X, y=Y, label=Sample)) +\n",
    "  geom_text() +\n",
    "  theme_bw() +\n",
    "  xlab(paste(\"MDS1 - \", mds.var.per[1], \"%\", sep=\"\")) +\n",
    "  ylab(paste(\"MDS2 - \", mds.var.per[2], \"%\", sep=\"\")) +\n",
    "  ggtitle(\"MDS plot using avg(logFC) as the distance\")"
   ]
  },
  {
   "cell_type": "markdown",
   "metadata": {},
   "source": [
    "In this example, the data is in a matrix called data.matrix columns are individual samples (i.e. cells) rows are measurements taken for all the samples (i.e. genes)\n",
    "Just for the sake of the example, here's some made up data... "
   ]
  },
  {
   "cell_type": "code",
   "execution_count": 2,
   "metadata": {},
   "outputs": [
    {
     "data": {
      "text/html": [
       "<table>\n",
       "<thead><tr><th></th><th scope=col>wt1</th><th scope=col>wt2</th><th scope=col>wt3</th><th scope=col>wt4</th><th scope=col>wt5</th><th scope=col>ko1</th><th scope=col>ko2</th><th scope=col>ko3</th><th scope=col>ko4</th><th scope=col>ko5</th></tr></thead>\n",
       "<tbody>\n",
       "\t<tr><th scope=row>gene1</th><td>920 </td><td>919 </td><td>943 </td><td>961 </td><td>1029</td><td>620 </td><td>589 </td><td>608 </td><td>607 </td><td>588 </td></tr>\n",
       "\t<tr><th scope=row>gene2</th><td>953 </td><td>898 </td><td>863 </td><td>898 </td><td> 846</td><td>130 </td><td>120 </td><td>109 </td><td>107 </td><td>115 </td></tr>\n",
       "\t<tr><th scope=row>gene3</th><td>704 </td><td>701 </td><td>690 </td><td>678 </td><td> 681</td><td>456 </td><td>381 </td><td>416 </td><td>412 </td><td>434 </td></tr>\n",
       "\t<tr><th scope=row>gene4</th><td>879 </td><td>947 </td><td>929 </td><td>865 </td><td> 907</td><td>188 </td><td>196 </td><td>182 </td><td>205 </td><td>187 </td></tr>\n",
       "\t<tr><th scope=row>gene5</th><td>203 </td><td>234 </td><td>206 </td><td>213 </td><td> 224</td><td>875 </td><td>801 </td><td>825 </td><td>836 </td><td>816 </td></tr>\n",
       "\t<tr><th scope=row>gene6</th><td>245 </td><td>281 </td><td>267 </td><td>247 </td><td> 248</td><td>300 </td><td>283 </td><td>294 </td><td>289 </td><td>332 </td></tr>\n",
       "</tbody>\n",
       "</table>\n"
      ],
      "text/latex": [
       "\\begin{tabular}{r|llllllllll}\n",
       "  & wt1 & wt2 & wt3 & wt4 & wt5 & ko1 & ko2 & ko3 & ko4 & ko5\\\\\n",
       "\\hline\n",
       "\tgene1 & 920  & 919  & 943  & 961  & 1029 & 620  & 589  & 608  & 607  & 588 \\\\\n",
       "\tgene2 & 953  & 898  & 863  & 898  &  846 & 130  & 120  & 109  & 107  & 115 \\\\\n",
       "\tgene3 & 704  & 701  & 690  & 678  &  681 & 456  & 381  & 416  & 412  & 434 \\\\\n",
       "\tgene4 & 879  & 947  & 929  & 865  &  907 & 188  & 196  & 182  & 205  & 187 \\\\\n",
       "\tgene5 & 203  & 234  & 206  & 213  &  224 & 875  & 801  & 825  & 836  & 816 \\\\\n",
       "\tgene6 & 245  & 281  & 267  & 247  &  248 & 300  & 283  & 294  & 289  & 332 \\\\\n",
       "\\end{tabular}\n"
      ],
      "text/markdown": [
       "\n",
       "| <!--/--> | wt1 | wt2 | wt3 | wt4 | wt5 | ko1 | ko2 | ko3 | ko4 | ko5 | \n",
       "|---|---|---|---|---|---|\n",
       "| gene1 | 920  | 919  | 943  | 961  | 1029 | 620  | 589  | 608  | 607  | 588  | \n",
       "| gene2 | 953  | 898  | 863  | 898  |  846 | 130  | 120  | 109  | 107  | 115  | \n",
       "| gene3 | 704  | 701  | 690  | 678  |  681 | 456  | 381  | 416  | 412  | 434  | \n",
       "| gene4 | 879  | 947  | 929  | 865  |  907 | 188  | 196  | 182  | 205  | 187  | \n",
       "| gene5 | 203  | 234  | 206  | 213  |  224 | 875  | 801  | 825  | 836  | 816  | \n",
       "| gene6 | 245  | 281  | 267  | 247  |  248 | 300  | 283  | 294  | 289  | 332  | \n",
       "\n",
       "\n"
      ],
      "text/plain": [
       "      wt1 wt2 wt3 wt4 wt5  ko1 ko2 ko3 ko4 ko5\n",
       "gene1 920 919 943 961 1029 620 589 608 607 588\n",
       "gene2 953 898 863 898  846 130 120 109 107 115\n",
       "gene3 704 701 690 678  681 456 381 416 412 434\n",
       "gene4 879 947 929 865  907 188 196 182 205 187\n",
       "gene5 203 234 206 213  224 875 801 825 836 816\n",
       "gene6 245 281 267 247  248 300 283 294 289 332"
      ]
     },
     "metadata": {},
     "output_type": "display_data"
    },
    {
     "data": {
      "text/html": [
       "<ol class=list-inline>\n",
       "\t<li>100</li>\n",
       "\t<li>10</li>\n",
       "</ol>\n"
      ],
      "text/latex": [
       "\\begin{enumerate*}\n",
       "\\item 100\n",
       "\\item 10\n",
       "\\end{enumerate*}\n"
      ],
      "text/markdown": [
       "1. 100\n",
       "2. 10\n",
       "\n",
       "\n"
      ],
      "text/plain": [
       "[1] 100  10"
      ]
     },
     "metadata": {},
     "output_type": "display_data"
    }
   ],
   "source": [
    "data.matrix <- matrix(nrow=100, ncol=10)\n",
    "colnames(data.matrix) <- c(\n",
    "  paste(\"wt\", 1:5, sep=\"\"),\n",
    "  paste(\"ko\", 1:5, sep=\"\"))\n",
    "rownames(data.matrix) <- paste(\"gene\", 1:100, sep=\"\")\n",
    "for (i in 1:100) {\n",
    "  wt.values <- rpois(5, lambda=sample(x=10:1000, size=1))\n",
    "  ko.values <- rpois(5, lambda=sample(x=10:1000, size=1))\n",
    " \n",
    "  data.matrix[i,] <- c(wt.values, ko.values)\n",
    "}\n",
    "head(data.matrix)\n",
    "dim(data.matrix)"
   ]
  },
  {
   "cell_type": "markdown",
   "metadata": {},
   "source": [
    "1) Just for reference, draw a PCA plot using this data..."
   ]
  },
  {
   "cell_type": "code",
   "execution_count": 4,
   "metadata": {},
   "outputs": [
    {
     "data": {
      "text/html": [
       "<ol class=list-inline>\n",
       "\t<li>90.6</li>\n",
       "\t<li>2.9</li>\n",
       "\t<li>1.6</li>\n",
       "\t<li>1.5</li>\n",
       "\t<li>1.1</li>\n",
       "\t<li>0.8</li>\n",
       "\t<li>0.8</li>\n",
       "\t<li>0.5</li>\n",
       "\t<li>0.3</li>\n",
       "\t<li>0</li>\n",
       "</ol>\n"
      ],
      "text/latex": [
       "\\begin{enumerate*}\n",
       "\\item 90.6\n",
       "\\item 2.9\n",
       "\\item 1.6\n",
       "\\item 1.5\n",
       "\\item 1.1\n",
       "\\item 0.8\n",
       "\\item 0.8\n",
       "\\item 0.5\n",
       "\\item 0.3\n",
       "\\item 0\n",
       "\\end{enumerate*}\n"
      ],
      "text/markdown": [
       "1. 90.6\n",
       "2. 2.9\n",
       "3. 1.6\n",
       "4. 1.5\n",
       "5. 1.1\n",
       "6. 0.8\n",
       "7. 0.8\n",
       "8. 0.5\n",
       "9. 0.3\n",
       "10. 0\n",
       "\n",
       "\n"
      ],
      "text/plain": [
       " [1] 90.6  2.9  1.6  1.5  1.1  0.8  0.8  0.5  0.3  0.0"
      ]
     },
     "metadata": {},
     "output_type": "display_data"
    },
    {
     "data": {
      "text/html": [
       "<table>\n",
       "<thead><tr><th></th><th scope=col>Sample</th><th scope=col>X</th><th scope=col>Y</th></tr></thead>\n",
       "<tbody>\n",
       "\t<tr><th scope=row>wt1</th><td>wt1        </td><td>-9.411637  </td><td> 2.04048289</td></tr>\n",
       "\t<tr><th scope=row>wt2</th><td>wt2        </td><td>-8.819882  </td><td>-0.15772308</td></tr>\n",
       "\t<tr><th scope=row>wt3</th><td>wt3        </td><td>-9.050617  </td><td>-1.22092439</td></tr>\n",
       "\t<tr><th scope=row>wt4</th><td>wt4        </td><td>-8.852632  </td><td> 0.51327522</td></tr>\n",
       "\t<tr><th scope=row>wt5</th><td>wt5        </td><td>-8.991043  </td><td>-1.15090779</td></tr>\n",
       "\t<tr><th scope=row>ko1</th><td>ko1        </td><td> 8.953103  </td><td>-0.06138603</td></tr>\n",
       "\t<tr><th scope=row>ko2</th><td>ko2        </td><td> 8.561861  </td><td>-0.76563262</td></tr>\n",
       "\t<tr><th scope=row>ko3</th><td>ko3        </td><td> 9.243682  </td><td> 2.63908542</td></tr>\n",
       "\t<tr><th scope=row>ko4</th><td>ko4        </td><td> 9.059978  </td><td>-3.07235905</td></tr>\n",
       "\t<tr><th scope=row>ko5</th><td>ko5        </td><td> 9.307187  </td><td> 1.23608943</td></tr>\n",
       "</tbody>\n",
       "</table>\n"
      ],
      "text/latex": [
       "\\begin{tabular}{r|lll}\n",
       "  & Sample & X & Y\\\\\n",
       "\\hline\n",
       "\twt1 & wt1         & -9.411637   &  2.04048289\\\\\n",
       "\twt2 & wt2         & -8.819882   & -0.15772308\\\\\n",
       "\twt3 & wt3         & -9.050617   & -1.22092439\\\\\n",
       "\twt4 & wt4         & -8.852632   &  0.51327522\\\\\n",
       "\twt5 & wt5         & -8.991043   & -1.15090779\\\\\n",
       "\tko1 & ko1         &  8.953103   & -0.06138603\\\\\n",
       "\tko2 & ko2         &  8.561861   & -0.76563262\\\\\n",
       "\tko3 & ko3         &  9.243682   &  2.63908542\\\\\n",
       "\tko4 & ko4         &  9.059978   & -3.07235905\\\\\n",
       "\tko5 & ko5         &  9.307187   &  1.23608943\\\\\n",
       "\\end{tabular}\n"
      ],
      "text/markdown": [
       "\n",
       "| <!--/--> | Sample | X | Y | \n",
       "|---|---|---|---|---|---|---|---|---|---|\n",
       "| wt1 | wt1         | -9.411637   |  2.04048289 | \n",
       "| wt2 | wt2         | -8.819882   | -0.15772308 | \n",
       "| wt3 | wt3         | -9.050617   | -1.22092439 | \n",
       "| wt4 | wt4         | -8.852632   |  0.51327522 | \n",
       "| wt5 | wt5         | -8.991043   | -1.15090779 | \n",
       "| ko1 | ko1         |  8.953103   | -0.06138603 | \n",
       "| ko2 | ko2         |  8.561861   | -0.76563262 | \n",
       "| ko3 | ko3         |  9.243682   |  2.63908542 | \n",
       "| ko4 | ko4         |  9.059978   | -3.07235905 | \n",
       "| ko5 | ko5         |  9.307187   |  1.23608943 | \n",
       "\n",
       "\n"
      ],
      "text/plain": [
       "    Sample X         Y          \n",
       "wt1 wt1    -9.411637  2.04048289\n",
       "wt2 wt2    -8.819882 -0.15772308\n",
       "wt3 wt3    -9.050617 -1.22092439\n",
       "wt4 wt4    -8.852632  0.51327522\n",
       "wt5 wt5    -8.991043 -1.15090779\n",
       "ko1 ko1     8.953103 -0.06138603\n",
       "ko2 ko2     8.561861 -0.76563262\n",
       "ko3 ko3     9.243682  2.63908542\n",
       "ko4 ko4     9.059978 -3.07235905\n",
       "ko5 ko5     9.307187  1.23608943"
      ]
     },
     "metadata": {},
     "output_type": "display_data"
    },
    {
     "data": {},
     "metadata": {},
     "output_type": "display_data"
    },
    {
     "data": {
      "image/png": "[encoded data removed]",
      "text/plain": [
       "plot without title"
      ]
     },
     "metadata": {},
     "output_type": "display_data",
     "source": "R display func"
    }
   ],
   "source": [
    "pca <- prcomp(t(data.matrix), scale=TRUE, center=TRUE) \n",
    " \n",
    "## calculate the percentage of variation that each PC accounts for...\n",
    "pca.var <- pca$sdev^2\n",
    "pca.var.per <- round(pca.var/sum(pca.var)*100, 1)\n",
    "pca.var.per\n",
    " \n",
    "## now make a fancy looking plot that shows the PCs and the variation:\n",
    "pca.data <- data.frame(Sample=rownames(pca$x),\n",
    "  X=pca$x[,1],\n",
    "  Y=pca$x[,2])\n",
    "pca.data\n",
    " \n",
    "ggplot(data=pca.data, aes(x=X, y=Y, label=Sample)) +\n",
    "  geom_text() +\n",
    "  xlab(paste(\"PC1 - \", pca.var.per[1], \"%\", sep=\"\")) +\n",
    "  ylab(paste(\"PC2 - \", pca.var.per[2], \"%\", sep=\"\")) +\n",
    "  theme_bw() +\n",
    "  ggtitle(\"PCA Graph\")"
   ]
  },
  {
   "cell_type": "code",
   "execution_count": 5,
   "metadata": {},
   "outputs": [
    {
     "ename": "ERROR",
     "evalue": "Error in read.nexus.data(): could not find function \"read.nexus.data\"\n",
     "execution_count": 5,
     "output_type": "error",
     "traceback": [
      "Error in read.nexus.data(): could not find function \"read.nexus.data\"\nTraceback:\n"
     ]
    }
   ],
   "source": [
    "read.nexus.data()"
   ]
  },
  {
   "cell_type": "code",
   "execution_count": null,
   "metadata": {},
   "outputs": [],
   "source": []
  }
 ],
 "metadata": {
  "kernelspec": {
   "display_name": "R",
   "language": "R",
   "name": "ir"
  },
  "language_info": {
   "codemirror_mode": "r",
   "file_extension": ".r",
   "mimetype": "text/x-r-source",
   "name": "R",
   "pygments_lexer": "r",
   "version": "3.4.1"
  }
 },
 "nbformat": 4,
 "nbformat_minor": 2
}
